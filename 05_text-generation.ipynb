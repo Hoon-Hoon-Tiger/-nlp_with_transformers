{
  "cells": [
    {
      "cell_type": "markdown",
      "metadata": {
        "id": "hG-9TItbcc_Y"
      },
      "source": [
        "<table align=\"left\"><tr><td>\n",
        "<a href=\"https://colab.research.google.com/github/rickiepark/nlp-with-transformers/blob/main/05_text-generation.ipynb\" target=\"_parent\"><img src=\"https://colab.research.google.com/assets/colab-badge.svg\" alt=\"코랩에서 실행하기\"/></a>\n",
        "</td></tr></table>"
      ]
    },
    {
      "cell_type": "markdown",
      "source": [
        "이 노트북을 코랩에서 실행하려면 Pro 버전이 필요할 수 있습니다."
      ],
      "metadata": {
        "id": "tucDf46LCJcS"
      }
    },
    {
      "cell_type": "code",
      "execution_count": null,
      "metadata": {
        "id": "58T6yPqYcc_b",
        "outputId": "c2ddf8fb-c2d6-4487-e698-3a53e754b599",
        "colab": {
          "base_uri": "https://localhost:8080/"
        }
      },
      "outputs": [
        {
          "output_type": "stream",
          "name": "stdout",
          "text": [
            "Cloning into 'nlp-with-transformers'...\n",
            "remote: Enumerating objects: 554, done.\u001b[K\n",
            "remote: Counting objects: 100% (288/288), done.\u001b[K\n",
            "remote: Compressing objects: 100% (181/181), done.\u001b[K\n",
            "remote: Total 554 (delta 174), reused 184 (delta 107), pack-reused 266\u001b[K\n",
            "Receiving objects: 100% (554/554), 48.65 MiB | 13.36 MiB/s, done.\n",
            "Resolving deltas: 100% (273/273), done.\n",
            "/content/nlp-with-transformers\n",
            "⏳ Installing base requirements ...\n",
            "✅ Base requirements installed!\n",
            "Using transformers v4.26.1\n",
            "Using datasets v2.10.1\n",
            "Using accelerate v0.16.0\n",
            "Using sentencepiece v0.1.97\n"
          ]
        }
      ],
      "source": [
        "# 코랩을 사용하지 않으면 다음 코드를 주석 처리하세요.\n",
        "!git clone https://github.com/rickiepark/nlp-with-transformers.git\n",
        "%cd nlp-with-transformers\n",
        "from install import *\n",
        "install_requirements(chapter=5)"
      ]
    },
    {
      "cell_type": "markdown",
      "metadata": {
        "id": "8PxLrZpzcc_d"
      },
      "source": [
        "# 텍스트 생성"
      ]
    },
    {
      "cell_type": "markdown",
      "metadata": {
        "id": "anXdAUF-cc_d"
      },
      "source": [
        "<img alt=\"LM Meta Learning\" width=\"800\" caption=\"During pretraining, language models are exposed to sequences of tasks that can be adapted during inference (courtesy of Tom B. Brown)\" src=\"https://github.com/rickiepark/nlp-with-transformers/blob/main/images/chapter05_lm-meta-learning.png?raw=1\" id=\"lm-meta-learning\"/>"
      ]
    },
    {
      "cell_type": "markdown",
      "metadata": {
        "id": "BCza8tCycc_d"
      },
      "source": [
        "<img alt=\"Meena\" width=\"300\" caption=\"Meena on the left telling a corny joke to a human on the right (courtesy of Daniel Adiwardana and Thang Luong)\" src=\"https://github.com/rickiepark/nlp-with-transformers/blob/main/images/chapter05_meena.png?raw=1\" id=\"meena\"/>"
      ]
    },
    {
      "cell_type": "markdown",
      "metadata": {
        "id": "xLBHNj2fcc_d"
      },
      "source": [
        "## 일관성 있는 텍스트 생성의 어려움"
      ]
    },
    {
      "cell_type": "markdown",
      "metadata": {
        "id": "aNMbth-dcc_e"
      },
      "source": [
        "<img alt=\"Text generation\" width=\"700\" caption=\"Generating text from an input sequence by adding a new word to the input at each step\" src=\"https://github.com/rickiepark/nlp-with-transformers/blob/main/images/chapter05_text-generation.png?raw=1\" id=\"text-generation\"/> "
      ]
    },
    {
      "cell_type": "markdown",
      "metadata": {
        "id": "tnOUO5GBcc_e"
      },
      "source": [
        "## 그리디 서치 디코딩"
      ]
    },
    {
      "cell_type": "code",
      "execution_count": null,
      "metadata": {
        "id": "CXLUrc1ucc_f",
        "outputId": "c7210fba-e5b6-4c5e-ca64-534b03935718",
        "colab": {
          "base_uri": "https://localhost:8080/",
          "height": 209,
          "referenced_widgets": [
            "e57555f5018a4a0cb7fd392089c9e68a",
            "9229f52138ca49479935b92c70e1c44f",
            "2a4572d2405c45ae900d660ab6e46bbc",
            "6e103964247a4cc083a37bcf84ebef17",
            "4b77ba73aecb428587123ee5c239865a",
            "4fc2322e0153435f88b74ecbd1fcb28e",
            "5c28574f54544b0cbb51a589a09f962b",
            "2ce2b35e1f614d9cbc8b1ad74f7c01b0",
            "9764886f8c724f31b441e33254541942",
            "a2283c017a3840b480d17df9268b9284",
            "d66d70657c1d4faea50a67eb5dae0dc5",
            "f3a2d9e97f774ed4aa857737f2d46a6f",
            "cc89ed89b3bc4a5eadea64224927dd47",
            "29b207ce6af249f4a544d7cf8aabbd64",
            "b60f790a031543b68d25667321dd1162",
            "f3bb0e94f6f64d6aa54ca0189e006dd8",
            "f88ab426863642ff9212cf1c76e45e9d",
            "1b7ff0b42fdb458889ade750028cf9fb",
            "18dea8fece6d4ac99b22ff0f7d248598",
            "4f9831be88244560b3dad15bb7d05aae",
            "3d136bc47eb044b09cada3313068cd76",
            "d993f548388c4937b781cce17c2b23f9",
            "8551d57d95f243b3a37dcd0d6c57d2c1",
            "14718ee7a43e467aacdc76baa5a43126",
            "f337a0573bed4cc6bb2a3f0280f826f3",
            "e1e900baafe94e2eb1b311d9fe7c650a",
            "d4695e20299b45bbba198da0f9bf0c67",
            "c60a3dfcaa114ed1a66542f6ecde31e4",
            "0c20106dfae346818f20882c35cc5b22",
            "ae823d7ef48449678205955eb9b0adbb",
            "3d87eb8bcff54d3a82802563df10bb63",
            "299c5b07c9464fd8a191d01bfb14c61b",
            "f71d8cb58b1a43c79ec5c3de2333fc8c",
            "3fc8235e398a496d816cc3804532d680",
            "fc5bd77da9f04ac194aa84a21352b6b2",
            "edff0552c8ca435abc109580b0c270d0",
            "b2e60101581440b2a8bd08c80d77d2d8",
            "6fc1564ef9624ca5b107b8edcf48677a",
            "6ebea47bb8504ea0afa54556e7f00f6f",
            "c41bbdff39ee4ee9b33cf7b71b95d8a7",
            "4156c3c2af8847f1b2835d18021bb70c",
            "fa363f79436846d1bb3514fd0c7244a3",
            "1ac5242ed75849cfb3368ccd1086a9db",
            "8670617d057645d99e98abf11d38cea9",
            "6f508d8ef64e49ccb2ef9913d42a53e9",
            "9913234b8218432a9430107f6e9c9a5b",
            "3f37c0c9afdb45aeb51c7f025f875faf",
            "39ed33809ec145aa82d42d5ecdca5e03",
            "5c7241d5555747d4964c6f7b7f68cee6",
            "63023f9fc84d43cbadae3e73c46466a8",
            "537e6a9eec2046a1b69a505667efb276",
            "7bd7917790fb46709b9d5ecd676b0c20",
            "08a49e6c732c43e383b1286be356a808",
            "4155771c165a41d582b5b5c4a9be14a1",
            "ddf01cdcabb34468bfa74f0a0c4c5d12",
            "70ba8b5804ee4edebb4299f25c829a5b",
            "0de097602418412a89c2f466c10d2851",
            "a9bd0978175846d98f6d4e7eda0e6945",
            "acdca866dd2e4c048aaad66bbce6588f",
            "8174ef5626414c20891bd265cc82baf5",
            "e6505f60d40d44a38be1356f91c8213d",
            "09bda461fd2f4e9593a3966f3077dba3",
            "6024d5e7466348c3953ed63dd5592a75",
            "641146cbb0af473eb9465655ac6708d5",
            "cbc10cc6b605407b9c064fad63a8f959",
            "f505c9013a0745b89b6d13cf8c5c8d42"
          ]
        }
      },
      "outputs": [
        {
          "output_type": "display_data",
          "data": {
            "text/plain": [
              "Downloading (…)lve/main/config.json:   0%|          | 0.00/689 [00:00<?, ?B/s]"
            ],
            "application/vnd.jupyter.widget-view+json": {
              "version_major": 2,
              "version_minor": 0,
              "model_id": "e57555f5018a4a0cb7fd392089c9e68a"
            }
          },
          "metadata": {}
        },
        {
          "output_type": "display_data",
          "data": {
            "text/plain": [
              "Downloading (…)olve/main/vocab.json:   0%|          | 0.00/1.04M [00:00<?, ?B/s]"
            ],
            "application/vnd.jupyter.widget-view+json": {
              "version_major": 2,
              "version_minor": 0,
              "model_id": "f3a2d9e97f774ed4aa857737f2d46a6f"
            }
          },
          "metadata": {}
        },
        {
          "output_type": "display_data",
          "data": {
            "text/plain": [
              "Downloading (…)olve/main/merges.txt:   0%|          | 0.00/456k [00:00<?, ?B/s]"
            ],
            "application/vnd.jupyter.widget-view+json": {
              "version_major": 2,
              "version_minor": 0,
              "model_id": "8551d57d95f243b3a37dcd0d6c57d2c1"
            }
          },
          "metadata": {}
        },
        {
          "output_type": "display_data",
          "data": {
            "text/plain": [
              "Downloading (…)/main/tokenizer.json:   0%|          | 0.00/1.36M [00:00<?, ?B/s]"
            ],
            "application/vnd.jupyter.widget-view+json": {
              "version_major": 2,
              "version_minor": 0,
              "model_id": "3fc8235e398a496d816cc3804532d680"
            }
          },
          "metadata": {}
        },
        {
          "output_type": "display_data",
          "data": {
            "text/plain": [
              "Downloading (…)\"pytorch_model.bin\";:   0%|          | 0.00/6.43G [00:00<?, ?B/s]"
            ],
            "application/vnd.jupyter.widget-view+json": {
              "version_major": 2,
              "version_minor": 0,
              "model_id": "6f508d8ef64e49ccb2ef9913d42a53e9"
            }
          },
          "metadata": {}
        },
        {
          "output_type": "display_data",
          "data": {
            "text/plain": [
              "Downloading (…)neration_config.json:   0%|          | 0.00/124 [00:00<?, ?B/s]"
            ],
            "application/vnd.jupyter.widget-view+json": {
              "version_major": 2,
              "version_minor": 0,
              "model_id": "70ba8b5804ee4edebb4299f25c829a5b"
            }
          },
          "metadata": {}
        }
      ],
      "source": [
        "import torch\n",
        "from transformers import AutoTokenizer, AutoModelForCausalLM\n",
        "\n",
        "device = \"cuda\" if torch.cuda.is_available() else \"cpu\"\n",
        "\n",
        "# 코랩의 경우 gpt2-xl을 사용하면 메모리 부족 에러가 발생합니다.\n",
        "# 대신 \"gpt\" 또는 \"gpt2-large\"로 지정하거나 코랩 프로를 사용하세요.\n",
        "model_name = \"gpt2-xl\"\n",
        "\n",
        "tokenizer = AutoTokenizer.from_pretrained(model_name)\n",
        "model = AutoModelForCausalLM.from_pretrained(model_name).to(device)"
      ]
    },
    {
      "cell_type": "code",
      "execution_count": null,
      "metadata": {
        "id": "Aa7cAAQacc_f",
        "outputId": "abb693d0-2147-454b-b8db-d239332494f9",
        "colab": {
          "base_uri": "https://localhost:8080/",
          "height": 300
        }
      },
      "outputs": [
        {
          "output_type": "execute_result",
          "data": {
            "text/plain": [
              "                                               Input           Choice 1  \\\n",
              "0                               Transformers are the       most (8.53%)   \n",
              "1                          Transformers are the most   popular (16.78%)   \n",
              "2                  Transformers are the most popular       toy (10.63%)   \n",
              "3              Transformers are the most popular toy      line (34.38%)   \n",
              "4         Transformers are the most popular toy line        in (46.28%)   \n",
              "5      Transformers are the most popular toy line in       the (65.99%)   \n",
              "6  Transformers are the most popular toy line in the     world (69.26%)   \n",
              "7  Transformers are the most popular toy line in ...         , (39.73%)   \n",
              "\n",
              "            Choice 2               Choice 3               Choice 4  \\\n",
              "0       only (4.96%)           best (4.65%)   Transformers (4.37%)   \n",
              "1   powerful (5.37%)         common (4.96%)         famous (3.72%)   \n",
              "2       toys (7.23%)   Transformers (6.60%)             of (5.46%)   \n",
              "3        in (18.20%)            of (11.71%)          brand (6.10%)   \n",
              "4        of (15.09%)              , (4.94%)             on (4.40%)   \n",
              "5   history (12.42%)        America (6.91%)          Japan (2.44%)   \n",
              "6     United (4.55%)        history (4.29%)             US (4.23%)   \n",
              "7         . (30.64%)            and (9.87%)           with (2.32%)   \n",
              "\n",
              "              Choice 5  \n",
              "0     ultimate (2.16%)  \n",
              "1   successful (3.20%)  \n",
              "2          and (3.76%)  \n",
              "3         line (2.69%)  \n",
              "4         ever (2.72%)  \n",
              "5        North (1.40%)  \n",
              "6            U (2.30%)  \n",
              "7        today (1.74%)  "
            ],
            "text/html": [
              "\n",
              "  <div id=\"df-050d17ae-3c06-49cd-a14a-0b9c5cf9703e\">\n",
              "    <div class=\"colab-df-container\">\n",
              "      <div>\n",
              "<style scoped>\n",
              "    .dataframe tbody tr th:only-of-type {\n",
              "        vertical-align: middle;\n",
              "    }\n",
              "\n",
              "    .dataframe tbody tr th {\n",
              "        vertical-align: top;\n",
              "    }\n",
              "\n",
              "    .dataframe thead th {\n",
              "        text-align: right;\n",
              "    }\n",
              "</style>\n",
              "<table border=\"1\" class=\"dataframe\">\n",
              "  <thead>\n",
              "    <tr style=\"text-align: right;\">\n",
              "      <th></th>\n",
              "      <th>Input</th>\n",
              "      <th>Choice 1</th>\n",
              "      <th>Choice 2</th>\n",
              "      <th>Choice 3</th>\n",
              "      <th>Choice 4</th>\n",
              "      <th>Choice 5</th>\n",
              "    </tr>\n",
              "  </thead>\n",
              "  <tbody>\n",
              "    <tr>\n",
              "      <th>0</th>\n",
              "      <td>Transformers are the</td>\n",
              "      <td>most (8.53%)</td>\n",
              "      <td>only (4.96%)</td>\n",
              "      <td>best (4.65%)</td>\n",
              "      <td>Transformers (4.37%)</td>\n",
              "      <td>ultimate (2.16%)</td>\n",
              "    </tr>\n",
              "    <tr>\n",
              "      <th>1</th>\n",
              "      <td>Transformers are the most</td>\n",
              "      <td>popular (16.78%)</td>\n",
              "      <td>powerful (5.37%)</td>\n",
              "      <td>common (4.96%)</td>\n",
              "      <td>famous (3.72%)</td>\n",
              "      <td>successful (3.20%)</td>\n",
              "    </tr>\n",
              "    <tr>\n",
              "      <th>2</th>\n",
              "      <td>Transformers are the most popular</td>\n",
              "      <td>toy (10.63%)</td>\n",
              "      <td>toys (7.23%)</td>\n",
              "      <td>Transformers (6.60%)</td>\n",
              "      <td>of (5.46%)</td>\n",
              "      <td>and (3.76%)</td>\n",
              "    </tr>\n",
              "    <tr>\n",
              "      <th>3</th>\n",
              "      <td>Transformers are the most popular toy</td>\n",
              "      <td>line (34.38%)</td>\n",
              "      <td>in (18.20%)</td>\n",
              "      <td>of (11.71%)</td>\n",
              "      <td>brand (6.10%)</td>\n",
              "      <td>line (2.69%)</td>\n",
              "    </tr>\n",
              "    <tr>\n",
              "      <th>4</th>\n",
              "      <td>Transformers are the most popular toy line</td>\n",
              "      <td>in (46.28%)</td>\n",
              "      <td>of (15.09%)</td>\n",
              "      <td>, (4.94%)</td>\n",
              "      <td>on (4.40%)</td>\n",
              "      <td>ever (2.72%)</td>\n",
              "    </tr>\n",
              "    <tr>\n",
              "      <th>5</th>\n",
              "      <td>Transformers are the most popular toy line in</td>\n",
              "      <td>the (65.99%)</td>\n",
              "      <td>history (12.42%)</td>\n",
              "      <td>America (6.91%)</td>\n",
              "      <td>Japan (2.44%)</td>\n",
              "      <td>North (1.40%)</td>\n",
              "    </tr>\n",
              "    <tr>\n",
              "      <th>6</th>\n",
              "      <td>Transformers are the most popular toy line in the</td>\n",
              "      <td>world (69.26%)</td>\n",
              "      <td>United (4.55%)</td>\n",
              "      <td>history (4.29%)</td>\n",
              "      <td>US (4.23%)</td>\n",
              "      <td>U (2.30%)</td>\n",
              "    </tr>\n",
              "    <tr>\n",
              "      <th>7</th>\n",
              "      <td>Transformers are the most popular toy line in ...</td>\n",
              "      <td>, (39.73%)</td>\n",
              "      <td>. (30.64%)</td>\n",
              "      <td>and (9.87%)</td>\n",
              "      <td>with (2.32%)</td>\n",
              "      <td>today (1.74%)</td>\n",
              "    </tr>\n",
              "  </tbody>\n",
              "</table>\n",
              "</div>\n",
              "      <button class=\"colab-df-convert\" onclick=\"convertToInteractive('df-050d17ae-3c06-49cd-a14a-0b9c5cf9703e')\"\n",
              "              title=\"Convert this dataframe to an interactive table.\"\n",
              "              style=\"display:none;\">\n",
              "        \n",
              "  <svg xmlns=\"http://www.w3.org/2000/svg\" height=\"24px\"viewBox=\"0 0 24 24\"\n",
              "       width=\"24px\">\n",
              "    <path d=\"M0 0h24v24H0V0z\" fill=\"none\"/>\n",
              "    <path d=\"M18.56 5.44l.94 2.06.94-2.06 2.06-.94-2.06-.94-.94-2.06-.94 2.06-2.06.94zm-11 1L8.5 8.5l.94-2.06 2.06-.94-2.06-.94L8.5 2.5l-.94 2.06-2.06.94zm10 10l.94 2.06.94-2.06 2.06-.94-2.06-.94-.94-2.06-.94 2.06-2.06.94z\"/><path d=\"M17.41 7.96l-1.37-1.37c-.4-.4-.92-.59-1.43-.59-.52 0-1.04.2-1.43.59L10.3 9.45l-7.72 7.72c-.78.78-.78 2.05 0 2.83L4 21.41c.39.39.9.59 1.41.59.51 0 1.02-.2 1.41-.59l7.78-7.78 2.81-2.81c.8-.78.8-2.07 0-2.86zM5.41 20L4 18.59l7.72-7.72 1.47 1.35L5.41 20z\"/>\n",
              "  </svg>\n",
              "      </button>\n",
              "      \n",
              "  <style>\n",
              "    .colab-df-container {\n",
              "      display:flex;\n",
              "      flex-wrap:wrap;\n",
              "      gap: 12px;\n",
              "    }\n",
              "\n",
              "    .colab-df-convert {\n",
              "      background-color: #E8F0FE;\n",
              "      border: none;\n",
              "      border-radius: 50%;\n",
              "      cursor: pointer;\n",
              "      display: none;\n",
              "      fill: #1967D2;\n",
              "      height: 32px;\n",
              "      padding: 0 0 0 0;\n",
              "      width: 32px;\n",
              "    }\n",
              "\n",
              "    .colab-df-convert:hover {\n",
              "      background-color: #E2EBFA;\n",
              "      box-shadow: 0px 1px 2px rgba(60, 64, 67, 0.3), 0px 1px 3px 1px rgba(60, 64, 67, 0.15);\n",
              "      fill: #174EA6;\n",
              "    }\n",
              "\n",
              "    [theme=dark] .colab-df-convert {\n",
              "      background-color: #3B4455;\n",
              "      fill: #D2E3FC;\n",
              "    }\n",
              "\n",
              "    [theme=dark] .colab-df-convert:hover {\n",
              "      background-color: #434B5C;\n",
              "      box-shadow: 0px 1px 3px 1px rgba(0, 0, 0, 0.15);\n",
              "      filter: drop-shadow(0px 1px 2px rgba(0, 0, 0, 0.3));\n",
              "      fill: #FFFFFF;\n",
              "    }\n",
              "  </style>\n",
              "\n",
              "      <script>\n",
              "        const buttonEl =\n",
              "          document.querySelector('#df-050d17ae-3c06-49cd-a14a-0b9c5cf9703e button.colab-df-convert');\n",
              "        buttonEl.style.display =\n",
              "          google.colab.kernel.accessAllowed ? 'block' : 'none';\n",
              "\n",
              "        async function convertToInteractive(key) {\n",
              "          const element = document.querySelector('#df-050d17ae-3c06-49cd-a14a-0b9c5cf9703e');\n",
              "          const dataTable =\n",
              "            await google.colab.kernel.invokeFunction('convertToInteractive',\n",
              "                                                     [key], {});\n",
              "          if (!dataTable) return;\n",
              "\n",
              "          const docLinkHtml = 'Like what you see? Visit the ' +\n",
              "            '<a target=\"_blank\" href=https://colab.research.google.com/notebooks/data_table.ipynb>data table notebook</a>'\n",
              "            + ' to learn more about interactive tables.';\n",
              "          element.innerHTML = '';\n",
              "          dataTable['output_type'] = 'display_data';\n",
              "          await google.colab.output.renderOutput(dataTable, element);\n",
              "          const docLink = document.createElement('div');\n",
              "          docLink.innerHTML = docLinkHtml;\n",
              "          element.appendChild(docLink);\n",
              "        }\n",
              "      </script>\n",
              "    </div>\n",
              "  </div>\n",
              "  "
            ]
          },
          "metadata": {},
          "execution_count": 3
        }
      ],
      "source": [
        "import pandas as pd\n",
        "\n",
        "input_txt = \"Transformers are the\"\n",
        "input_ids = tokenizer(input_txt, return_tensors=\"pt\")[\"input_ids\"].to(device)\n",
        "iterations = []\n",
        "n_steps = 8\n",
        "choices_per_step = 5\n",
        "\n",
        "with torch.no_grad():\n",
        "    for _ in range(n_steps):\n",
        "        iteration = dict()\n",
        "        iteration[\"Input\"] = tokenizer.decode(input_ids[0])\n",
        "        output = model(input_ids=input_ids)\n",
        "        # 첫 번째 배치의 마지막 토큰의 로짓을 선택해 소프트맥스를 적용합니다.\n",
        "        next_token_logits = output.logits[0, -1, :]\n",
        "        next_token_probs = torch.softmax(next_token_logits, dim=-1)\n",
        "        sorted_ids = torch.argsort(next_token_probs, dim=-1, descending=True)\n",
        "        # 가장 높은 확률의 토큰을 저장합니다.\n",
        "        for choice_idx in range(choices_per_step):\n",
        "            token_id = sorted_ids[choice_idx]\n",
        "            token_prob = next_token_probs[token_id].cpu().numpy()\n",
        "            token_choice = (\n",
        "                f\"{tokenizer.decode(token_id)} ({100 * token_prob:.2f}%)\"\n",
        "            )\n",
        "            iteration[f\"Choice {choice_idx+1}\"] = token_choice\n",
        "        # 예측한 다음 토큰을 입력에 추가합니다.\n",
        "        input_ids = torch.cat([input_ids, sorted_ids[None, 0, None]], dim=-1)\n",
        "        iterations.append(iteration)\n",
        "        \n",
        "pd.DataFrame(iterations)"
      ]
    },
    {
      "cell_type": "code",
      "execution_count": null,
      "metadata": {
        "id": "qo30hsWhcc_g",
        "outputId": "de7abd92-9679-4b1f-8a67-7c1d82489073",
        "colab": {
          "base_uri": "https://localhost:8080/"
        }
      },
      "outputs": [
        {
          "output_type": "stream",
          "name": "stdout",
          "text": [
            "Transformers are the most popular toy line in the world,\n"
          ]
        }
      ],
      "source": [
        "input_ids = tokenizer(input_txt, return_tensors=\"pt\")[\"input_ids\"].to(device)\n",
        "output = model.generate(input_ids, max_new_tokens=n_steps, do_sample=False)\n",
        "print(tokenizer.decode(output[0]))"
      ]
    },
    {
      "cell_type": "code",
      "execution_count": null,
      "metadata": {
        "id": "W9Xtvupqcc_g",
        "outputId": "bbc50b1c-fd51-47a8-a32e-7e508a799c6a",
        "colab": {
          "base_uri": "https://localhost:8080/"
        }
      },
      "outputs": [
        {
          "output_type": "stream",
          "name": "stdout",
          "text": [
            "In a shocking finding, scientist discovered a herd of unicorns living in a\n",
            "remote, previously unexplored valley, in the Andes Mountains. Even more\n",
            "surprising to the researchers was the fact that the unicorns spoke perfect\n",
            "English.\n",
            "\n",
            "\n",
            "The researchers, from the University of California, Davis, and the University of\n",
            "Colorado, Boulder, were conducting a study on the Andean cloud forest, which is\n",
            "home to the rare species of cloud forest trees.\n",
            "\n",
            "\n",
            "The researchers were surprised to find that the unicorns were able to\n",
            "communicate with each other, and even with humans.\n",
            "\n",
            "\n",
            "The researchers were surprised to find that the unicorns were able\n"
          ]
        }
      ],
      "source": [
        "max_length = 128\n",
        "input_txt = \"\"\"In a shocking finding, scientist discovered \\\n",
        "a herd of unicorns living in a remote, previously unexplored \\\n",
        "valley, in the Andes Mountains. Even more surprising to the \\\n",
        "researchers was the fact that the unicorns spoke perfect English.\\n\\n\n",
        "\"\"\"\n",
        "input_ids = tokenizer(input_txt, return_tensors=\"pt\")[\"input_ids\"].to(device)\n",
        "output_greedy = model.generate(input_ids, max_length=max_length, \n",
        "                               do_sample=False)\n",
        "print(tokenizer.decode(output_greedy[0]))"
      ]
    },
    {
      "cell_type": "markdown",
      "metadata": {
        "id": "zi6ER_Udcc_g"
      },
      "source": [
        "## 빔 서치 디코딩"
      ]
    },
    {
      "cell_type": "markdown",
      "metadata": {
        "id": "Pcsjqpz4cc_h"
      },
      "source": [
        "<img alt=\"Beam search\" width=\"700\" caption=\"Beam search with two beams—the most probable sequences at each timestep are highlighted in blue\" src=\"https://github.com/rickiepark/nlp-with-transformers/blob/main/images/chapter05_beam-search.png?raw=1\" id=\"beam-search\"/> "
      ]
    },
    {
      "cell_type": "code",
      "execution_count": null,
      "metadata": {
        "id": "iWmZyHNXcc_h",
        "outputId": "6d0bc4b4-e16b-4203-9f91-fdd8a48094f3",
        "colab": {
          "base_uri": "https://localhost:8080/"
        }
      },
      "outputs": [
        {
          "output_type": "execute_result",
          "data": {
            "text/plain": [
              "5.562684646268003e-309"
            ]
          },
          "metadata": {},
          "execution_count": 6
        }
      ],
      "source": [
        "0.5 ** 1024"
      ]
    },
    {
      "cell_type": "code",
      "execution_count": null,
      "metadata": {
        "id": "fhjZX3Bbcc_h",
        "outputId": "39aa3ac1-5f2d-4926-8553-5c4ac5ba7b79",
        "colab": {
          "base_uri": "https://localhost:8080/"
        }
      },
      "outputs": [
        {
          "output_type": "execute_result",
          "data": {
            "text/plain": [
              "-709.7827128933695"
            ]
          },
          "metadata": {},
          "execution_count": 7
        }
      ],
      "source": [
        "import numpy as np\n",
        "\n",
        "sum([np.log(0.5)] * 1024)"
      ]
    },
    {
      "cell_type": "code",
      "execution_count": null,
      "metadata": {
        "id": "xXM3PUc1cc_h"
      },
      "outputs": [],
      "source": [
        "import torch.nn.functional as F\n",
        "\n",
        "def log_probs_from_logits(logits, labels):\n",
        "    logp = F.log_softmax(logits, dim=-1)\n",
        "    logp_label = torch.gather(logp, 2, labels.unsqueeze(2)).squeeze(-1)\n",
        "    return logp_label"
      ]
    },
    {
      "cell_type": "code",
      "execution_count": null,
      "metadata": {
        "id": "eaHhgFrCcc_i"
      },
      "outputs": [],
      "source": [
        "def sequence_logprob(model, labels, input_len=0):\n",
        "    with torch.no_grad():\n",
        "        output = model(labels)\n",
        "        log_probs = log_probs_from_logits(\n",
        "            output.logits[:, :-1, :], labels[:, 1:])\n",
        "        seq_log_prob = torch.sum(log_probs[:, input_len:])\n",
        "    return seq_log_prob.cpu().numpy()"
      ]
    },
    {
      "cell_type": "code",
      "execution_count": null,
      "metadata": {
        "id": "B9uUp8sfcc_i",
        "outputId": "dcd91e90-92b6-4691-be14-48f8b6c13ec4",
        "colab": {
          "base_uri": "https://localhost:8080/"
        }
      },
      "outputs": [
        {
          "output_type": "stream",
          "name": "stdout",
          "text": [
            "In a shocking finding, scientist discovered a herd of unicorns living in a\n",
            "remote, previously unexplored valley, in the Andes Mountains. Even more\n",
            "surprising to the researchers was the fact that the unicorns spoke perfect\n",
            "English.\n",
            "\n",
            "\n",
            "The researchers, from the University of California, Davis, and the University of\n",
            "Colorado, Boulder, were conducting a study on the Andean cloud forest, which is\n",
            "home to the rare species of cloud forest trees.\n",
            "\n",
            "\n",
            "The researchers were surprised to find that the unicorns were able to\n",
            "communicate with each other, and even with humans.\n",
            "\n",
            "\n",
            "The researchers were surprised to find that the unicorns were able\n",
            "\n",
            "로그 확률: -87.43\n"
          ]
        }
      ],
      "source": [
        "logp = sequence_logprob(model, output_greedy, input_len=len(input_ids[0]))\n",
        "print(tokenizer.decode(output_greedy[0]))\n",
        "print(f\"\\n로그 확률: {logp:.2f}\")"
      ]
    },
    {
      "cell_type": "code",
      "execution_count": null,
      "metadata": {
        "id": "d7z-CM0Gcc_i",
        "outputId": "87a8d3a2-5de1-4750-8290-f92fcaa24e4b",
        "colab": {
          "base_uri": "https://localhost:8080/"
        }
      },
      "outputs": [
        {
          "output_type": "stream",
          "name": "stdout",
          "text": [
            "In a shocking finding, scientist discovered a herd of unicorns living in a\n",
            "remote, previously unexplored valley, in the Andes Mountains. Even more\n",
            "surprising to the researchers was the fact that the unicorns spoke perfect\n",
            "English.\n",
            "\n",
            "\n",
            "The discovery of the unicorns was made by a team of scientists from the\n",
            "University of California, Santa Cruz, and the National Geographic Society.\n",
            "\n",
            "\n",
            "The scientists were conducting a study of the Andes Mountains when they\n",
            "discovered a herd of unicorns living in a remote, previously unexplored valley,\n",
            "in the Andes Mountains. Even more surprising to the researchers was the fact\n",
            "that the unicorns spoke perfect English\n",
            "\n",
            "로그 확률: -55.23\n"
          ]
        }
      ],
      "source": [
        "output_beam = model.generate(input_ids, max_length=max_length, num_beams=5, \n",
        "                             do_sample=False)\n",
        "logp = sequence_logprob(model, output_beam, input_len=len(input_ids[0]))\n",
        "print(tokenizer.decode(output_beam[0]))\n",
        "print(f\"\\n로그 확률: {logp:.2f}\")"
      ]
    },
    {
      "cell_type": "code",
      "execution_count": null,
      "metadata": {
        "id": "hrbmj0Wvcc_i",
        "outputId": "ec9c2a2e-c778-49b5-9afb-312f0000039d",
        "colab": {
          "base_uri": "https://localhost:8080/"
        }
      },
      "outputs": [
        {
          "output_type": "stream",
          "name": "stdout",
          "text": [
            "In a shocking finding, scientist discovered a herd of unicorns living in a\n",
            "remote, previously unexplored valley, in the Andes Mountains. Even more\n",
            "surprising to the researchers was the fact that the unicorns spoke perfect\n",
            "English.\n",
            "\n",
            "\n",
            "The discovery was made by a team of scientists from the University of\n",
            "California, Santa Cruz, and the National Geographic Society.\n",
            "\n",
            "According to a press release, the scientists were conducting a survey of the\n",
            "area when they came across the herd. They were surprised to find that they were\n",
            "able to converse with the animals in English, even though they had never seen a\n",
            "unicorn in person before. The researchers were\n",
            "\n",
            "로그 확률: -93.12\n"
          ]
        }
      ],
      "source": [
        "output_beam = model.generate(input_ids, max_length=max_length, num_beams=5, \n",
        "                             do_sample=False, no_repeat_ngram_size=2)\n",
        "logp = sequence_logprob(model, output_beam, input_len=len(input_ids[0]))\n",
        "print(tokenizer.decode(output_beam[0]))\n",
        "print(f\"\\n로그 확률: {logp:.2f}\")"
      ]
    },
    {
      "cell_type": "markdown",
      "metadata": {
        "id": "w_XWaB7qcc_j"
      },
      "source": [
        "## 샘플링 방법"
      ]
    },
    {
      "cell_type": "code",
      "execution_count": null,
      "metadata": {
        "id": "LQxvkuRucc_j",
        "outputId": "c117c998-1bae-4e8e-fc3e-e6ea43d68020",
        "colab": {
          "base_uri": "https://localhost:8080/",
          "height": 376
        }
      },
      "outputs": [
        {
          "output_type": "display_data",
          "data": {
            "text/plain": [
              "<Figure size 432x288 with 1 Axes>"
            ],
            "image/svg+xml": "<?xml version=\"1.0\" encoding=\"utf-8\" standalone=\"no\"?>\n<!DOCTYPE svg PUBLIC \"-//W3C//DTD SVG 1.1//EN\"\n  \"http://www.w3.org/Graphics/SVG/1.1/DTD/svg11.dtd\">\n<svg xmlns:xlink=\"http://www.w3.org/1999/xlink\" width=\"406.523986pt\" height=\"266.0675pt\" viewBox=\"0 0 406.523986 266.0675\" xmlns=\"http://www.w3.org/2000/svg\" version=\"1.1\">\n <metadata>\n  <rdf:RDF xmlns:dc=\"http://purl.org/dc/elements/1.1/\" xmlns:cc=\"http://creativecommons.org/ns#\" xmlns:rdf=\"http://www.w3.org/1999/02/22-rdf-syntax-ns#\">\n   <cc:Work>\n    <dc:type rdf:resource=\"http://purl.org/dc/dcmitype/StillImage\"/>\n    <dc:date>2023-03-06T02:44:34.419958</dc:date>\n    <dc:format>image/svg+xml</dc:format>\n    <dc:creator>\n     <cc:Agent>\n      <dc:title>Matplotlib v3.5.3, https://matplotlib.org/</dc:title>\n     </cc:Agent>\n    </dc:creator>\n   </cc:Work>\n  </rdf:RDF>\n </metadata>\n <defs>\n  <style type=\"text/css\">*{stroke-linejoin: round; stroke-linecap: butt}</style>\n </defs>\n <g id=\"figure_1\">\n  <g id=\"patch_1\">\n   <path d=\"M 0 266.0675 \nL 406.523986 266.0675 \nL 406.523986 0 \nL 0 0 \nL 0 266.0675 \nz\n\" style=\"fill: none\"/>\n  </g>\n  <g id=\"axes_1\">\n   <g id=\"patch_2\">\n    <path d=\"M 64.1675 224.64 \nL 398.9675 224.64 \nL 398.9675 7.2 \nL 64.1675 7.2 \nz\n\" style=\"fill: #ffffff\"/>\n   </g>\n   <g id=\"matplotlib.axis_1\">\n    <g id=\"xtick_1\">\n     <g id=\"line2d_1\">\n      <defs>\n       <path id=\"m522565cd34\" d=\"M 0 0 \nL 0 3.5 \n\" style=\"stroke: #000000; stroke-width: 0.8\"/>\n      </defs>\n      <g>\n       <use xlink:href=\"#m522565cd34\" x=\"79.385682\" y=\"224.64\" style=\"stroke: #000000; stroke-width: 0.8\"/>\n      </g>\n     </g>\n     <g id=\"text_1\">\n      <!-- 0 -->\n      <g transform=\"translate(75.568182 240.758125)scale(0.12 -0.12)\">\n       <defs>\n        <path id=\"DejaVuSans-30\" d=\"M 2034 4250 \nQ 1547 4250 1301 3770 \nQ 1056 3291 1056 2328 \nQ 1056 1369 1301 889 \nQ 1547 409 2034 409 \nQ 2525 409 2770 889 \nQ 3016 1369 3016 2328 \nQ 3016 3291 2770 3770 \nQ 2525 4250 2034 4250 \nz\nM 2034 4750 \nQ 2819 4750 3233 4129 \nQ 3647 3509 3647 2328 \nQ 3647 1150 3233 529 \nQ 2819 -91 2034 -91 \nQ 1250 -91 836 529 \nQ 422 1150 422 2328 \nQ 422 3509 836 4129 \nQ 1250 4750 2034 4750 \nz\n\" transform=\"scale(0.015625)\"/>\n       </defs>\n       <use xlink:href=\"#DejaVuSans-30\"/>\n      </g>\n     </g>\n    </g>\n    <g id=\"xtick_2\">\n     <g id=\"line2d_2\">\n      <g>\n       <use xlink:href=\"#m522565cd34\" x=\"140.319343\" y=\"224.64\" style=\"stroke: #000000; stroke-width: 0.8\"/>\n      </g>\n     </g>\n     <g id=\"text_2\">\n      <!-- 200 -->\n      <g transform=\"translate(128.866843 240.758125)scale(0.12 -0.12)\">\n       <defs>\n        <path id=\"DejaVuSans-32\" d=\"M 1228 531 \nL 3431 531 \nL 3431 0 \nL 469 0 \nL 469 531 \nQ 828 903 1448 1529 \nQ 2069 2156 2228 2338 \nQ 2531 2678 2651 2914 \nQ 2772 3150 2772 3378 \nQ 2772 3750 2511 3984 \nQ 2250 4219 1831 4219 \nQ 1534 4219 1204 4116 \nQ 875 4013 500 3803 \nL 500 4441 \nQ 881 4594 1212 4672 \nQ 1544 4750 1819 4750 \nQ 2544 4750 2975 4387 \nQ 3406 4025 3406 3419 \nQ 3406 3131 3298 2873 \nQ 3191 2616 2906 2266 \nQ 2828 2175 2409 1742 \nQ 1991 1309 1228 531 \nz\n\" transform=\"scale(0.015625)\"/>\n       </defs>\n       <use xlink:href=\"#DejaVuSans-32\"/>\n       <use xlink:href=\"#DejaVuSans-30\" x=\"63.623047\"/>\n       <use xlink:href=\"#DejaVuSans-30\" x=\"127.246094\"/>\n      </g>\n     </g>\n    </g>\n    <g id=\"xtick_3\">\n     <g id=\"line2d_3\">\n      <g>\n       <use xlink:href=\"#m522565cd34\" x=\"201.253004\" y=\"224.64\" style=\"stroke: #000000; stroke-width: 0.8\"/>\n      </g>\n     </g>\n     <g id=\"text_3\">\n      <!-- 400 -->\n      <g transform=\"translate(189.800504 240.758125)scale(0.12 -0.12)\">\n       <defs>\n        <path id=\"DejaVuSans-34\" d=\"M 2419 4116 \nL 825 1625 \nL 2419 1625 \nL 2419 4116 \nz\nM 2253 4666 \nL 3047 4666 \nL 3047 1625 \nL 3713 1625 \nL 3713 1100 \nL 3047 1100 \nL 3047 0 \nL 2419 0 \nL 2419 1100 \nL 313 1100 \nL 313 1709 \nL 2253 4666 \nz\n\" transform=\"scale(0.015625)\"/>\n       </defs>\n       <use xlink:href=\"#DejaVuSans-34\"/>\n       <use xlink:href=\"#DejaVuSans-30\" x=\"63.623047\"/>\n       <use xlink:href=\"#DejaVuSans-30\" x=\"127.246094\"/>\n      </g>\n     </g>\n    </g>\n    <g id=\"xtick_4\">\n     <g id=\"line2d_4\">\n      <g>\n       <use xlink:href=\"#m522565cd34\" x=\"262.186665\" y=\"224.64\" style=\"stroke: #000000; stroke-width: 0.8\"/>\n      </g>\n     </g>\n     <g id=\"text_4\">\n      <!-- 600 -->\n      <g transform=\"translate(250.734165 240.758125)scale(0.12 -0.12)\">\n       <defs>\n        <path id=\"DejaVuSans-36\" d=\"M 2113 2584 \nQ 1688 2584 1439 2293 \nQ 1191 2003 1191 1497 \nQ 1191 994 1439 701 \nQ 1688 409 2113 409 \nQ 2538 409 2786 701 \nQ 3034 994 3034 1497 \nQ 3034 2003 2786 2293 \nQ 2538 2584 2113 2584 \nz\nM 3366 4563 \nL 3366 3988 \nQ 3128 4100 2886 4159 \nQ 2644 4219 2406 4219 \nQ 1781 4219 1451 3797 \nQ 1122 3375 1075 2522 \nQ 1259 2794 1537 2939 \nQ 1816 3084 2150 3084 \nQ 2853 3084 3261 2657 \nQ 3669 2231 3669 1497 \nQ 3669 778 3244 343 \nQ 2819 -91 2113 -91 \nQ 1303 -91 875 529 \nQ 447 1150 447 2328 \nQ 447 3434 972 4092 \nQ 1497 4750 2381 4750 \nQ 2619 4750 2861 4703 \nQ 3103 4656 3366 4563 \nz\n\" transform=\"scale(0.015625)\"/>\n       </defs>\n       <use xlink:href=\"#DejaVuSans-36\"/>\n       <use xlink:href=\"#DejaVuSans-30\" x=\"63.623047\"/>\n       <use xlink:href=\"#DejaVuSans-30\" x=\"127.246094\"/>\n      </g>\n     </g>\n    </g>\n    <g id=\"xtick_5\">\n     <g id=\"line2d_5\">\n      <g>\n       <use xlink:href=\"#m522565cd34\" x=\"323.120326\" y=\"224.64\" style=\"stroke: #000000; stroke-width: 0.8\"/>\n      </g>\n     </g>\n     <g id=\"text_5\">\n      <!-- 800 -->\n      <g transform=\"translate(311.667826 240.758125)scale(0.12 -0.12)\">\n       <defs>\n        <path id=\"DejaVuSans-38\" d=\"M 2034 2216 \nQ 1584 2216 1326 1975 \nQ 1069 1734 1069 1313 \nQ 1069 891 1326 650 \nQ 1584 409 2034 409 \nQ 2484 409 2743 651 \nQ 3003 894 3003 1313 \nQ 3003 1734 2745 1975 \nQ 2488 2216 2034 2216 \nz\nM 1403 2484 \nQ 997 2584 770 2862 \nQ 544 3141 544 3541 \nQ 544 4100 942 4425 \nQ 1341 4750 2034 4750 \nQ 2731 4750 3128 4425 \nQ 3525 4100 3525 3541 \nQ 3525 3141 3298 2862 \nQ 3072 2584 2669 2484 \nQ 3125 2378 3379 2068 \nQ 3634 1759 3634 1313 \nQ 3634 634 3220 271 \nQ 2806 -91 2034 -91 \nQ 1263 -91 848 271 \nQ 434 634 434 1313 \nQ 434 1759 690 2068 \nQ 947 2378 1403 2484 \nz\nM 1172 3481 \nQ 1172 3119 1398 2916 \nQ 1625 2713 2034 2713 \nQ 2441 2713 2670 2916 \nQ 2900 3119 2900 3481 \nQ 2900 3844 2670 4047 \nQ 2441 4250 2034 4250 \nQ 1625 4250 1398 4047 \nQ 1172 3844 1172 3481 \nz\n\" transform=\"scale(0.015625)\"/>\n       </defs>\n       <use xlink:href=\"#DejaVuSans-38\"/>\n       <use xlink:href=\"#DejaVuSans-30\" x=\"63.623047\"/>\n       <use xlink:href=\"#DejaVuSans-30\" x=\"127.246094\"/>\n      </g>\n     </g>\n    </g>\n    <g id=\"xtick_6\">\n     <g id=\"line2d_6\">\n      <g>\n       <use xlink:href=\"#m522565cd34\" x=\"384.053986\" y=\"224.64\" style=\"stroke: #000000; stroke-width: 0.8\"/>\n      </g>\n     </g>\n     <g id=\"text_6\">\n      <!-- 1000 -->\n      <g transform=\"translate(368.783986 240.758125)scale(0.12 -0.12)\">\n       <defs>\n        <path id=\"DejaVuSans-31\" d=\"M 794 531 \nL 1825 531 \nL 1825 4091 \nL 703 3866 \nL 703 4441 \nL 1819 4666 \nL 2450 4666 \nL 2450 531 \nL 3481 531 \nL 3481 0 \nL 794 0 \nL 794 531 \nz\n\" transform=\"scale(0.015625)\"/>\n       </defs>\n       <use xlink:href=\"#DejaVuSans-31\"/>\n       <use xlink:href=\"#DejaVuSans-30\" x=\"63.623047\"/>\n       <use xlink:href=\"#DejaVuSans-30\" x=\"127.246094\"/>\n       <use xlink:href=\"#DejaVuSans-30\" x=\"190.869141\"/>\n      </g>\n     </g>\n    </g>\n    <g id=\"text_7\">\n     <!-- Sorted token probabilities -->\n     <g transform=\"translate(154.235 256.371875)scale(0.12 -0.12)\">\n      <defs>\n       <path id=\"DejaVuSans-53\" d=\"M 3425 4513 \nL 3425 3897 \nQ 3066 4069 2747 4153 \nQ 2428 4238 2131 4238 \nQ 1616 4238 1336 4038 \nQ 1056 3838 1056 3469 \nQ 1056 3159 1242 3001 \nQ 1428 2844 1947 2747 \nL 2328 2669 \nQ 3034 2534 3370 2195 \nQ 3706 1856 3706 1288 \nQ 3706 609 3251 259 \nQ 2797 -91 1919 -91 \nQ 1588 -91 1214 -16 \nQ 841 59 441 206 \nL 441 856 \nQ 825 641 1194 531 \nQ 1563 422 1919 422 \nQ 2459 422 2753 634 \nQ 3047 847 3047 1241 \nQ 3047 1584 2836 1778 \nQ 2625 1972 2144 2069 \nL 1759 2144 \nQ 1053 2284 737 2584 \nQ 422 2884 422 3419 \nQ 422 4038 858 4394 \nQ 1294 4750 2059 4750 \nQ 2388 4750 2728 4690 \nQ 3069 4631 3425 4513 \nz\n\" transform=\"scale(0.015625)\"/>\n       <path id=\"DejaVuSans-6f\" d=\"M 1959 3097 \nQ 1497 3097 1228 2736 \nQ 959 2375 959 1747 \nQ 959 1119 1226 758 \nQ 1494 397 1959 397 \nQ 2419 397 2687 759 \nQ 2956 1122 2956 1747 \nQ 2956 2369 2687 2733 \nQ 2419 3097 1959 3097 \nz\nM 1959 3584 \nQ 2709 3584 3137 3096 \nQ 3566 2609 3566 1747 \nQ 3566 888 3137 398 \nQ 2709 -91 1959 -91 \nQ 1206 -91 779 398 \nQ 353 888 353 1747 \nQ 353 2609 779 3096 \nQ 1206 3584 1959 3584 \nz\n\" transform=\"scale(0.015625)\"/>\n       <path id=\"DejaVuSans-72\" d=\"M 2631 2963 \nQ 2534 3019 2420 3045 \nQ 2306 3072 2169 3072 \nQ 1681 3072 1420 2755 \nQ 1159 2438 1159 1844 \nL 1159 0 \nL 581 0 \nL 581 3500 \nL 1159 3500 \nL 1159 2956 \nQ 1341 3275 1631 3429 \nQ 1922 3584 2338 3584 \nQ 2397 3584 2469 3576 \nQ 2541 3569 2628 3553 \nL 2631 2963 \nz\n\" transform=\"scale(0.015625)\"/>\n       <path id=\"DejaVuSans-74\" d=\"M 1172 4494 \nL 1172 3500 \nL 2356 3500 \nL 2356 3053 \nL 1172 3053 \nL 1172 1153 \nQ 1172 725 1289 603 \nQ 1406 481 1766 481 \nL 2356 481 \nL 2356 0 \nL 1766 0 \nQ 1100 0 847 248 \nQ 594 497 594 1153 \nL 594 3053 \nL 172 3053 \nL 172 3500 \nL 594 3500 \nL 594 4494 \nL 1172 4494 \nz\n\" transform=\"scale(0.015625)\"/>\n       <path id=\"DejaVuSans-65\" d=\"M 3597 1894 \nL 3597 1613 \nL 953 1613 \nQ 991 1019 1311 708 \nQ 1631 397 2203 397 \nQ 2534 397 2845 478 \nQ 3156 559 3463 722 \nL 3463 178 \nQ 3153 47 2828 -22 \nQ 2503 -91 2169 -91 \nQ 1331 -91 842 396 \nQ 353 884 353 1716 \nQ 353 2575 817 3079 \nQ 1281 3584 2069 3584 \nQ 2775 3584 3186 3129 \nQ 3597 2675 3597 1894 \nz\nM 3022 2063 \nQ 3016 2534 2758 2815 \nQ 2500 3097 2075 3097 \nQ 1594 3097 1305 2825 \nQ 1016 2553 972 2059 \nL 3022 2063 \nz\n\" transform=\"scale(0.015625)\"/>\n       <path id=\"DejaVuSans-64\" d=\"M 2906 2969 \nL 2906 4863 \nL 3481 4863 \nL 3481 0 \nL 2906 0 \nL 2906 525 \nQ 2725 213 2448 61 \nQ 2172 -91 1784 -91 \nQ 1150 -91 751 415 \nQ 353 922 353 1747 \nQ 353 2572 751 3078 \nQ 1150 3584 1784 3584 \nQ 2172 3584 2448 3432 \nQ 2725 3281 2906 2969 \nz\nM 947 1747 \nQ 947 1113 1208 752 \nQ 1469 391 1925 391 \nQ 2381 391 2643 752 \nQ 2906 1113 2906 1747 \nQ 2906 2381 2643 2742 \nQ 2381 3103 1925 3103 \nQ 1469 3103 1208 2742 \nQ 947 2381 947 1747 \nz\n\" transform=\"scale(0.015625)\"/>\n       <path id=\"DejaVuSans-20\" transform=\"scale(0.015625)\"/>\n       <path id=\"DejaVuSans-6b\" d=\"M 581 4863 \nL 1159 4863 \nL 1159 1991 \nL 2875 3500 \nL 3609 3500 \nL 1753 1863 \nL 3688 0 \nL 2938 0 \nL 1159 1709 \nL 1159 0 \nL 581 0 \nL 581 4863 \nz\n\" transform=\"scale(0.015625)\"/>\n       <path id=\"DejaVuSans-6e\" d=\"M 3513 2113 \nL 3513 0 \nL 2938 0 \nL 2938 2094 \nQ 2938 2591 2744 2837 \nQ 2550 3084 2163 3084 \nQ 1697 3084 1428 2787 \nQ 1159 2491 1159 1978 \nL 1159 0 \nL 581 0 \nL 581 3500 \nL 1159 3500 \nL 1159 2956 \nQ 1366 3272 1645 3428 \nQ 1925 3584 2291 3584 \nQ 2894 3584 3203 3211 \nQ 3513 2838 3513 2113 \nz\n\" transform=\"scale(0.015625)\"/>\n       <path id=\"DejaVuSans-70\" d=\"M 1159 525 \nL 1159 -1331 \nL 581 -1331 \nL 581 3500 \nL 1159 3500 \nL 1159 2969 \nQ 1341 3281 1617 3432 \nQ 1894 3584 2278 3584 \nQ 2916 3584 3314 3078 \nQ 3713 2572 3713 1747 \nQ 3713 922 3314 415 \nQ 2916 -91 2278 -91 \nQ 1894 -91 1617 61 \nQ 1341 213 1159 525 \nz\nM 3116 1747 \nQ 3116 2381 2855 2742 \nQ 2594 3103 2138 3103 \nQ 1681 3103 1420 2742 \nQ 1159 2381 1159 1747 \nQ 1159 1113 1420 752 \nQ 1681 391 2138 391 \nQ 2594 391 2855 752 \nQ 3116 1113 3116 1747 \nz\n\" transform=\"scale(0.015625)\"/>\n       <path id=\"DejaVuSans-62\" d=\"M 3116 1747 \nQ 3116 2381 2855 2742 \nQ 2594 3103 2138 3103 \nQ 1681 3103 1420 2742 \nQ 1159 2381 1159 1747 \nQ 1159 1113 1420 752 \nQ 1681 391 2138 391 \nQ 2594 391 2855 752 \nQ 3116 1113 3116 1747 \nz\nM 1159 2969 \nQ 1341 3281 1617 3432 \nQ 1894 3584 2278 3584 \nQ 2916 3584 3314 3078 \nQ 3713 2572 3713 1747 \nQ 3713 922 3314 415 \nQ 2916 -91 2278 -91 \nQ 1894 -91 1617 61 \nQ 1341 213 1159 525 \nL 1159 0 \nL 581 0 \nL 581 4863 \nL 1159 4863 \nL 1159 2969 \nz\n\" transform=\"scale(0.015625)\"/>\n       <path id=\"DejaVuSans-61\" d=\"M 2194 1759 \nQ 1497 1759 1228 1600 \nQ 959 1441 959 1056 \nQ 959 750 1161 570 \nQ 1363 391 1709 391 \nQ 2188 391 2477 730 \nQ 2766 1069 2766 1631 \nL 2766 1759 \nL 2194 1759 \nz\nM 3341 1997 \nL 3341 0 \nL 2766 0 \nL 2766 531 \nQ 2569 213 2275 61 \nQ 1981 -91 1556 -91 \nQ 1019 -91 701 211 \nQ 384 513 384 1019 \nQ 384 1609 779 1909 \nQ 1175 2209 1959 2209 \nL 2766 2209 \nL 2766 2266 \nQ 2766 2663 2505 2880 \nQ 2244 3097 1772 3097 \nQ 1472 3097 1187 3025 \nQ 903 2953 641 2809 \nL 641 3341 \nQ 956 3463 1253 3523 \nQ 1550 3584 1831 3584 \nQ 2591 3584 2966 3190 \nQ 3341 2797 3341 1997 \nz\n\" transform=\"scale(0.015625)\"/>\n       <path id=\"DejaVuSans-69\" d=\"M 603 3500 \nL 1178 3500 \nL 1178 0 \nL 603 0 \nL 603 3500 \nz\nM 603 4863 \nL 1178 4863 \nL 1178 4134 \nL 603 4134 \nL 603 4863 \nz\n\" transform=\"scale(0.015625)\"/>\n       <path id=\"DejaVuSans-6c\" d=\"M 603 4863 \nL 1178 4863 \nL 1178 0 \nL 603 0 \nL 603 4863 \nz\n\" transform=\"scale(0.015625)\"/>\n       <path id=\"DejaVuSans-73\" d=\"M 2834 3397 \nL 2834 2853 \nQ 2591 2978 2328 3040 \nQ 2066 3103 1784 3103 \nQ 1356 3103 1142 2972 \nQ 928 2841 928 2578 \nQ 928 2378 1081 2264 \nQ 1234 2150 1697 2047 \nL 1894 2003 \nQ 2506 1872 2764 1633 \nQ 3022 1394 3022 966 \nQ 3022 478 2636 193 \nQ 2250 -91 1575 -91 \nQ 1294 -91 989 -36 \nQ 684 19 347 128 \nL 347 722 \nQ 666 556 975 473 \nQ 1284 391 1588 391 \nQ 1994 391 2212 530 \nQ 2431 669 2431 922 \nQ 2431 1156 2273 1281 \nQ 2116 1406 1581 1522 \nL 1381 1569 \nQ 847 1681 609 1914 \nQ 372 2147 372 2553 \nQ 372 3047 722 3315 \nQ 1072 3584 1716 3584 \nQ 2034 3584 2315 3537 \nQ 2597 3491 2834 3397 \nz\n\" transform=\"scale(0.015625)\"/>\n      </defs>\n      <use xlink:href=\"#DejaVuSans-53\"/>\n      <use xlink:href=\"#DejaVuSans-6f\" x=\"63.476562\"/>\n      <use xlink:href=\"#DejaVuSans-72\" x=\"124.658203\"/>\n      <use xlink:href=\"#DejaVuSans-74\" x=\"165.771484\"/>\n      <use xlink:href=\"#DejaVuSans-65\" x=\"204.980469\"/>\n      <use xlink:href=\"#DejaVuSans-64\" x=\"266.503906\"/>\n      <use xlink:href=\"#DejaVuSans-20\" x=\"329.980469\"/>\n      <use xlink:href=\"#DejaVuSans-74\" x=\"361.767578\"/>\n      <use xlink:href=\"#DejaVuSans-6f\" x=\"400.976562\"/>\n      <use xlink:href=\"#DejaVuSans-6b\" x=\"462.158203\"/>\n      <use xlink:href=\"#DejaVuSans-65\" x=\"516.443359\"/>\n      <use xlink:href=\"#DejaVuSans-6e\" x=\"577.966797\"/>\n      <use xlink:href=\"#DejaVuSans-20\" x=\"641.345703\"/>\n      <use xlink:href=\"#DejaVuSans-70\" x=\"673.132812\"/>\n      <use xlink:href=\"#DejaVuSans-72\" x=\"736.609375\"/>\n      <use xlink:href=\"#DejaVuSans-6f\" x=\"775.472656\"/>\n      <use xlink:href=\"#DejaVuSans-62\" x=\"836.654297\"/>\n      <use xlink:href=\"#DejaVuSans-61\" x=\"900.130859\"/>\n      <use xlink:href=\"#DejaVuSans-62\" x=\"961.410156\"/>\n      <use xlink:href=\"#DejaVuSans-69\" x=\"1024.886719\"/>\n      <use xlink:href=\"#DejaVuSans-6c\" x=\"1052.669922\"/>\n      <use xlink:href=\"#DejaVuSans-69\" x=\"1080.453125\"/>\n      <use xlink:href=\"#DejaVuSans-74\" x=\"1108.236328\"/>\n      <use xlink:href=\"#DejaVuSans-69\" x=\"1147.445312\"/>\n      <use xlink:href=\"#DejaVuSans-65\" x=\"1175.228516\"/>\n      <use xlink:href=\"#DejaVuSans-73\" x=\"1236.751953\"/>\n     </g>\n    </g>\n   </g>\n   <g id=\"matplotlib.axis_2\">\n    <g id=\"ytick_1\">\n     <g id=\"line2d_7\">\n      <defs>\n       <path id=\"m32d616843b\" d=\"M 0 0 \nL -3.5 0 \n\" style=\"stroke: #000000; stroke-width: 0.8\"/>\n      </defs>\n      <g>\n       <use xlink:href=\"#m32d616843b\" x=\"64.1675\" y=\"221.476186\" style=\"stroke: #000000; stroke-width: 0.8\"/>\n      </g>\n     </g>\n     <g id=\"text_8\">\n      <!-- 0.000 -->\n      <g transform=\"translate(22.81375 226.035249)scale(0.12 -0.12)\">\n       <defs>\n        <path id=\"DejaVuSans-2e\" d=\"M 684 794 \nL 1344 794 \nL 1344 0 \nL 684 0 \nL 684 794 \nz\n\" transform=\"scale(0.015625)\"/>\n       </defs>\n       <use xlink:href=\"#DejaVuSans-30\"/>\n       <use xlink:href=\"#DejaVuSans-2e\" x=\"63.623047\"/>\n       <use xlink:href=\"#DejaVuSans-30\" x=\"95.410156\"/>\n       <use xlink:href=\"#DejaVuSans-30\" x=\"159.033203\"/>\n       <use xlink:href=\"#DejaVuSans-30\" x=\"222.65625\"/>\n      </g>\n     </g>\n    </g>\n    <g id=\"ytick_2\">\n     <g id=\"line2d_8\">\n      <g>\n       <use xlink:href=\"#m32d616843b\" x=\"64.1675\" y=\"176.009506\" style=\"stroke: #000000; stroke-width: 0.8\"/>\n      </g>\n     </g>\n     <g id=\"text_9\">\n      <!-- 0.001 -->\n      <g transform=\"translate(22.81375 180.568568)scale(0.12 -0.12)\">\n       <use xlink:href=\"#DejaVuSans-30\"/>\n       <use xlink:href=\"#DejaVuSans-2e\" x=\"63.623047\"/>\n       <use xlink:href=\"#DejaVuSans-30\" x=\"95.410156\"/>\n       <use xlink:href=\"#DejaVuSans-30\" x=\"159.033203\"/>\n       <use xlink:href=\"#DejaVuSans-31\" x=\"222.65625\"/>\n      </g>\n     </g>\n    </g>\n    <g id=\"ytick_3\">\n     <g id=\"line2d_9\">\n      <g>\n       <use xlink:href=\"#m32d616843b\" x=\"64.1675\" y=\"130.542825\" style=\"stroke: #000000; stroke-width: 0.8\"/>\n      </g>\n     </g>\n     <g id=\"text_10\">\n      <!-- 0.002 -->\n      <g transform=\"translate(22.81375 135.101887)scale(0.12 -0.12)\">\n       <use xlink:href=\"#DejaVuSans-30\"/>\n       <use xlink:href=\"#DejaVuSans-2e\" x=\"63.623047\"/>\n       <use xlink:href=\"#DejaVuSans-30\" x=\"95.410156\"/>\n       <use xlink:href=\"#DejaVuSans-30\" x=\"159.033203\"/>\n       <use xlink:href=\"#DejaVuSans-32\" x=\"222.65625\"/>\n      </g>\n     </g>\n    </g>\n    <g id=\"ytick_4\">\n     <g id=\"line2d_10\">\n      <g>\n       <use xlink:href=\"#m32d616843b\" x=\"64.1675\" y=\"85.076144\" style=\"stroke: #000000; stroke-width: 0.8\"/>\n      </g>\n     </g>\n     <g id=\"text_11\">\n      <!-- 0.003 -->\n      <g transform=\"translate(22.81375 89.635206)scale(0.12 -0.12)\">\n       <defs>\n        <path id=\"DejaVuSans-33\" d=\"M 2597 2516 \nQ 3050 2419 3304 2112 \nQ 3559 1806 3559 1356 \nQ 3559 666 3084 287 \nQ 2609 -91 1734 -91 \nQ 1441 -91 1130 -33 \nQ 819 25 488 141 \nL 488 750 \nQ 750 597 1062 519 \nQ 1375 441 1716 441 \nQ 2309 441 2620 675 \nQ 2931 909 2931 1356 \nQ 2931 1769 2642 2001 \nQ 2353 2234 1838 2234 \nL 1294 2234 \nL 1294 2753 \nL 1863 2753 \nQ 2328 2753 2575 2939 \nQ 2822 3125 2822 3475 \nQ 2822 3834 2567 4026 \nQ 2313 4219 1838 4219 \nQ 1578 4219 1281 4162 \nQ 984 4106 628 3988 \nL 628 4550 \nQ 988 4650 1302 4700 \nQ 1616 4750 1894 4750 \nQ 2613 4750 3031 4423 \nQ 3450 4097 3450 3541 \nQ 3450 3153 3228 2886 \nQ 3006 2619 2597 2516 \nz\n\" transform=\"scale(0.015625)\"/>\n       </defs>\n       <use xlink:href=\"#DejaVuSans-30\"/>\n       <use xlink:href=\"#DejaVuSans-2e\" x=\"63.623047\"/>\n       <use xlink:href=\"#DejaVuSans-30\" x=\"95.410156\"/>\n       <use xlink:href=\"#DejaVuSans-30\" x=\"159.033203\"/>\n       <use xlink:href=\"#DejaVuSans-33\" x=\"222.65625\"/>\n      </g>\n     </g>\n    </g>\n    <g id=\"ytick_5\">\n     <g id=\"line2d_11\">\n      <g>\n       <use xlink:href=\"#m32d616843b\" x=\"64.1675\" y=\"39.609463\" style=\"stroke: #000000; stroke-width: 0.8\"/>\n      </g>\n     </g>\n     <g id=\"text_12\">\n      <!-- 0.004 -->\n      <g transform=\"translate(22.81375 44.168525)scale(0.12 -0.12)\">\n       <use xlink:href=\"#DejaVuSans-30\"/>\n       <use xlink:href=\"#DejaVuSans-2e\" x=\"63.623047\"/>\n       <use xlink:href=\"#DejaVuSans-30\" x=\"95.410156\"/>\n       <use xlink:href=\"#DejaVuSans-30\" x=\"159.033203\"/>\n       <use xlink:href=\"#DejaVuSans-34\" x=\"222.65625\"/>\n      </g>\n     </g>\n    </g>\n    <g id=\"text_13\">\n     <!-- Probability -->\n     <g transform=\"translate(16.318125 147.634687)rotate(-90)scale(0.12 -0.12)\">\n      <defs>\n       <path id=\"DejaVuSans-50\" d=\"M 1259 4147 \nL 1259 2394 \nL 2053 2394 \nQ 2494 2394 2734 2622 \nQ 2975 2850 2975 3272 \nQ 2975 3691 2734 3919 \nQ 2494 4147 2053 4147 \nL 1259 4147 \nz\nM 628 4666 \nL 2053 4666 \nQ 2838 4666 3239 4311 \nQ 3641 3956 3641 3272 \nQ 3641 2581 3239 2228 \nQ 2838 1875 2053 1875 \nL 1259 1875 \nL 1259 0 \nL 628 0 \nL 628 4666 \nz\n\" transform=\"scale(0.015625)\"/>\n       <path id=\"DejaVuSans-79\" d=\"M 2059 -325 \nQ 1816 -950 1584 -1140 \nQ 1353 -1331 966 -1331 \nL 506 -1331 \nL 506 -850 \nL 844 -850 \nQ 1081 -850 1212 -737 \nQ 1344 -625 1503 -206 \nL 1606 56 \nL 191 3500 \nL 800 3500 \nL 1894 763 \nL 2988 3500 \nL 3597 3500 \nL 2059 -325 \nz\n\" transform=\"scale(0.015625)\"/>\n      </defs>\n      <use xlink:href=\"#DejaVuSans-50\"/>\n      <use xlink:href=\"#DejaVuSans-72\" x=\"58.552734\"/>\n      <use xlink:href=\"#DejaVuSans-6f\" x=\"97.416016\"/>\n      <use xlink:href=\"#DejaVuSans-62\" x=\"158.597656\"/>\n      <use xlink:href=\"#DejaVuSans-61\" x=\"222.074219\"/>\n      <use xlink:href=\"#DejaVuSans-62\" x=\"283.353516\"/>\n      <use xlink:href=\"#DejaVuSans-69\" x=\"346.830078\"/>\n      <use xlink:href=\"#DejaVuSans-6c\" x=\"374.613281\"/>\n      <use xlink:href=\"#DejaVuSans-69\" x=\"402.396484\"/>\n      <use xlink:href=\"#DejaVuSans-74\" x=\"430.179688\"/>\n      <use xlink:href=\"#DejaVuSans-79\" x=\"469.388672\"/>\n     </g>\n    </g>\n   </g>\n   <g id=\"line2d_12\">\n    <path d=\"M 79.385682 17.083636 \nL 79.385682 19.666119 \nL 79.69035 19.666119 \nL 79.69035 21.666837 \nL 79.995018 21.666837 \nL 79.995018 22.346801 \nL 80.299687 22.346801 \nL 80.299687 22.957489 \nL 80.604355 22.957489 \nL 80.604355 23.646385 \nL 80.909023 23.646385 \nL 80.909023 26.496989 \nL 81.213692 26.496989 \nL 81.213692 26.64179 \nL 81.51836 26.64179 \nL 81.51836 27.343551 \nL 82.127697 27.40934 \nL 82.127697 30.5635 \nL 82.432365 30.5635 \nL 82.432365 31.022681 \nL 82.737033 31.022681 \nL 82.737033 32.601079 \nL 83.041701 32.601079 \nL 83.041701 34.422081 \nL 83.651038 34.45711 \nL 83.651038 35.021965 \nL 83.955706 35.021965 \nL 83.955706 35.565831 \nL 84.260375 35.565831 \nL 84.260375 35.799306 \nL 84.565043 35.799306 \nL 84.565043 38.41414 \nL 84.869711 38.41414 \nL 84.869711 40.132559 \nL 85.17438 40.132559 \nL 85.17438 40.287757 \nL 85.479048 40.287757 \nL 85.479048 42.63057 \nL 85.783716 42.63057 \nL 85.783716 43.41775 \nL 86.088385 43.41775 \nL 86.088385 46.182142 \nL 86.393053 46.182142 \nL 86.393053 46.881034 \nL 86.697721 46.881034 \nL 86.697721 47.941427 \nL 87.002389 47.941427 \nL 87.002389 51.345486 \nL 87.307058 51.345486 \nL 87.307058 52.785709 \nL 87.611726 52.785709 \nL 87.611726 52.951213 \nL 87.916394 52.951213 \nL 87.916394 53.076418 \nL 88.221063 53.076418 \nL 88.221063 53.979016 \nL 88.525731 53.979016 \nL 88.525731 55.17572 \nL 88.830399 55.17572 \nL 88.830399 55.393473 \nL 89.135068 55.393473 \nL 89.135068 55.690042 \nL 89.439736 55.690042 \nL 89.439736 55.965386 \nL 89.744404 55.965386 \nL 89.744404 56.164836 \nL 90.049072 56.164836 \nL 90.049072 56.440376 \nL 90.353741 56.440376 \nL 90.353741 56.553474 \nL 90.658409 56.553474 \nL 90.658409 56.994435 \nL 90.963077 56.994435 \nL 90.963077 58.529266 \nL 91.267746 58.529266 \nL 91.267746 59.811505 \nL 91.572414 59.811505 \nL 91.572414 60.216176 \nL 91.877082 60.216176 \nL 91.877082 61.017496 \nL 92.181751 61.017496 \nL 92.181751 61.881103 \nL 92.486419 61.881103 \nL 92.486419 64.628301 \nL 92.791087 64.628301 \nL 92.791087 65.094631 \nL 93.095756 65.094631 \nL 93.095756 66.839982 \nL 93.400424 66.839982 \nL 93.400424 67.471775 \nL 93.705092 67.471775 \nL 93.705092 68.402133 \nL 94.00976 68.402133 \nL 94.00976 70.029728 \nL 94.314429 70.029728 \nL 94.314429 70.992816 \nL 94.619097 70.992816 \nL 94.619097 71.376313 \nL 94.923765 71.376313 \nL 94.923765 71.577679 \nL 95.228434 71.577679 \nL 95.228434 71.817531 \nL 95.533102 71.817531 \nL 95.533102 72.440241 \nL 95.83777 72.440241 \nL 95.83777 72.693636 \nL 96.142439 72.693636 \nL 96.142439 73.132546 \nL 96.751775 73.195666 \nL 96.751775 73.285846 \nL 97.361112 73.34205 \nL 97.361112 74.617038 \nL 97.66578 74.617038 \nL 97.66578 75.109282 \nL 97.970448 75.109282 \nL 97.970448 75.52736 \nL 98.275117 75.52736 \nL 98.275117 76.676582 \nL 98.579785 76.676582 \nL 98.579785 80.003714 \nL 98.884453 80.003714 \nL 98.884453 80.459506 \nL 99.189122 80.459506 \nL 99.189122 80.65848 \nL 99.49379 80.65848 \nL 99.49379 81.105093 \nL 100.103127 81.196674 \nL 100.103127 81.306376 \nL 100.407795 81.306376 \nL 100.407795 84.636818 \nL 100.712463 84.636818 \nL 100.712463 85.101958 \nL 101.017131 85.101958 \nL 101.017131 85.430824 \nL 101.3218 85.430824 \nL 101.3218 85.981086 \nL 101.626468 85.981086 \nL 101.626468 86.684445 \nL 101.931136 86.684445 \nL 101.931136 86.799343 \nL 102.235805 86.799343 \nL 102.235805 87.146489 \nL 102.845141 87.204227 \nL 102.845141 87.576891 \nL 103.14981 87.576891 \nL 103.14981 88.233105 \nL 103.454478 88.233105 \nL 103.454478 89.877467 \nL 103.759146 89.877467 \nL 103.759146 90.456167 \nL 104.063814 90.456167 \nL 104.063814 91.273601 \nL 104.368483 91.273601 \nL 104.368483 91.634343 \nL 104.673151 91.634343 \nL 104.673151 92.067648 \nL 104.977819 92.067648 \nL 104.977819 92.896887 \nL 105.282488 92.896887 \nL 105.282488 95.078677 \nL 105.891824 95.172957 \nL 105.891824 96.814386 \nL 106.196493 96.814386 \nL 106.196493 97.600987 \nL 106.501161 97.600987 \nL 106.501161 97.834864 \nL 106.805829 97.834864 \nL 106.805829 98.347197 \nL 107.110498 98.347197 \nL 107.110498 98.775272 \nL 107.719834 98.796556 \nL 107.719834 99.115874 \nL 108.024502 99.115874 \nL 108.024502 99.459454 \nL 108.633839 99.54128 \nL 108.633839 100.603312 \nL 108.938507 100.603312 \nL 108.938507 100.962619 \nL 109.547844 100.963287 \nL 109.547844 101.5487 \nL 110.157181 101.655167 \nL 110.157181 101.811134 \nL 110.461849 101.811134 \nL 110.461849 102.347987 \nL 110.766517 102.347987 \nL 110.766517 102.943275 \nL 111.071186 102.943275 \nL 111.071186 103.494687 \nL 111.375854 103.494687 \nL 111.375854 104.115255 \nL 111.680522 104.115255 \nL 111.680522 104.352254 \nL 111.98519 104.352254 \nL 111.98519 105.096824 \nL 112.594527 105.189863 \nL 112.594527 105.504605 \nL 112.899195 105.504605 \nL 112.899195 106.261742 \nL 113.203864 106.261742 \nL 113.203864 106.472195 \nL 113.508532 106.472195 \nL 113.508532 107.392898 \nL 113.8132 107.392898 \nL 113.8132 108.455604 \nL 114.422537 108.456677 \nL 114.422537 109.210085 \nL 114.727205 109.210085 \nL 114.727205 109.615195 \nL 115.031873 109.615195 \nL 115.031873 109.814232 \nL 115.336542 109.814232 \nL 115.336542 109.96102 \nL 115.64121 109.96102 \nL 115.64121 110.501728 \nL 115.945878 110.501728 \nL 115.945878 112.426379 \nL 116.250547 112.426379 \nL 116.250547 113.564116 \nL 116.859883 113.574411 \nL 116.859883 113.920588 \nL 117.46922 113.960996 \nL 117.46922 114.960263 \nL 117.773888 114.960263 \nL 117.773888 115.400866 \nL 118.383225 115.492901 \nL 118.383225 115.61941 \nL 118.687893 115.61941 \nL 118.687893 115.756783 \nL 119.601898 115.804717 \nL 119.601898 116.121388 \nL 120.211235 116.185886 \nL 120.211235 116.469778 \nL 120.515903 116.469778 \nL 120.515903 117.83509 \nL 120.820571 117.83509 \nL 120.820571 117.980847 \nL 121.12524 117.980847 \nL 121.12524 118.343098 \nL 121.429908 118.343098 \nL 121.429908 119.592932 \nL 121.734576 119.592932 \nL 121.734576 120.856217 \nL 122.039244 120.856217 \nL 122.039244 121.927205 \nL 122.953249 121.953061 \nL 122.953249 122.098455 \nL 123.257918 122.098455 \nL 123.257918 122.575738 \nL 123.562586 122.575738 \nL 123.562586 123.064166 \nL 124.171923 123.089839 \nL 124.171923 123.393413 \nL 124.476591 123.393413 \nL 124.476591 123.5116 \nL 124.781259 123.5116 \nL 124.781259 124.080912 \nL 125.085928 124.080912 \nL 125.085928 124.727662 \nL 125.390596 124.727662 \nL 125.390596 125.017611 \nL 125.695264 125.017611 \nL 125.695264 126.062184 \nL 125.999932 126.062184 \nL 125.999932 126.184395 \nL 126.304601 126.184395 \nL 126.304601 126.30522 \nL 126.913937 126.392109 \nL 126.913937 127.089806 \nL 127.218606 127.089806 \nL 127.218606 127.521622 \nL 127.523274 127.521622 \nL 127.523274 127.834092 \nL 127.827942 127.834092 \nL 127.827942 129.346631 \nL 128.132611 129.346631 \nL 128.132611 129.476881 \nL 128.741947 129.478027 \nL 128.741947 129.633953 \nL 129.046615 129.633953 \nL 129.046615 129.879012 \nL 129.351284 129.879012 \nL 129.351284 130.163594 \nL 129.655952 130.163594 \nL 129.655952 130.673841 \nL 130.569957 130.721509 \nL 130.569957 131.089812 \nL 130.874625 131.089812 \nL 130.874625 131.541791 \nL 131.179294 131.541791 \nL 131.179294 131.906342 \nL 131.78863 131.93218 \nL 131.78863 132.220906 \nL 132.093299 132.220906 \nL 132.093299 133.092546 \nL 132.397967 133.092546 \nL 132.397967 134.172936 \nL 132.702635 134.172936 \nL 132.702635 134.424167 \nL 133.311972 134.43488 \nL 133.311972 135.173272 \nL 133.61664 135.173272 \nL 133.61664 136.114596 \nL 133.921308 136.114596 \nL 133.921308 136.626124 \nL 134.225977 136.626124 \nL 134.225977 136.847487 \nL 134.530645 136.847487 \nL 134.530645 136.997392 \nL 134.835313 136.997392 \nL 134.835313 138.331184 \nL 135.139982 138.331184 \nL 135.139982 139.137267 \nL 135.44465 139.137267 \nL 135.44465 139.386109 \nL 136.053986 139.402634 \nL 136.053986 139.717416 \nL 136.358655 139.717416 \nL 136.358655 140.044604 \nL 136.967991 140.13457 \nL 136.967991 140.203347 \nL 137.577328 140.226291 \nL 137.577328 140.3452 \nL 137.881996 140.3452 \nL 137.881996 141.166016 \nL 138.186665 141.166016 \nL 138.186665 141.435242 \nL 138.796001 141.441354 \nL 138.796001 141.979548 \nL 139.10067 141.979548 \nL 139.10067 142.369611 \nL 139.405338 142.369611 \nL 139.405338 143.130081 \nL 139.710006 143.130081 \nL 139.710006 143.381801 \nL 140.014674 143.381801 \nL 140.014674 143.600244 \nL 140.319343 143.600244 \nL 140.319343 143.919335 \nL 140.624011 143.919335 \nL 140.624011 144.524332 \nL 141.233348 144.613971 \nL 141.233348 144.893591 \nL 141.538016 144.893591 \nL 141.538016 145.233578 \nL 141.842684 145.233578 \nL 141.842684 145.99935 \nL 142.147353 145.99935 \nL 142.147353 146.333697 \nL 142.452021 146.333697 \nL 142.452021 146.641504 \nL 142.756689 146.641504 \nL 142.756689 146.882107 \nL 143.366026 146.912066 \nL 143.366026 147.722417 \nL 143.975362 147.760441 \nL 143.975362 147.94999 \nL 144.280031 147.94999 \nL 144.280031 148.267317 \nL 144.584699 148.267317 \nL 144.584699 148.528303 \nL 144.889367 148.528303 \nL 144.889367 148.701661 \nL 145.194036 148.701661 \nL 145.194036 149.573914 \nL 145.803372 149.642959 \nL 145.803372 149.968698 \nL 146.108041 149.968698 \nL 146.108041 150.183711 \nL 146.412709 150.183711 \nL 146.412709 150.598601 \nL 147.022045 150.694902 \nL 147.022045 151.220982 \nL 147.326714 151.220982 \nL 147.326714 151.559724 \nL 147.631382 151.559724 \nL 147.631382 151.814556 \nL 147.93605 151.814556 \nL 147.93605 151.954407 \nL 148.240719 151.954407 \nL 148.240719 153.100281 \nL 148.545387 153.100281 \nL 148.545387 154.517793 \nL 149.154724 154.605156 \nL 149.154724 155.535326 \nL 149.459392 155.535326 \nL 149.459392 156.001911 \nL 149.76406 156.001911 \nL 149.76406 156.136113 \nL 150.068729 156.136113 \nL 150.068729 156.858085 \nL 150.678065 156.885954 \nL 150.678065 157.186522 \nL 150.982733 157.186522 \nL 150.982733 157.374039 \nL 151.59207 157.439083 \nL 151.59207 157.713319 \nL 152.506075 157.762202 \nL 152.506075 157.867619 \nL 153.115412 157.889094 \nL 153.115412 158.219734 \nL 153.42008 158.219734 \nL 153.42008 159.221447 \nL 153.724748 159.221447 \nL 153.724748 160.253224 \nL 154.029416 160.253224 \nL 154.029416 160.445553 \nL 154.334085 160.445553 \nL 154.334085 160.67086 \nL 154.638753 160.67086 \nL 154.638753 161.116948 \nL 154.943421 161.116948 \nL 154.943421 161.27997 \nL 155.24809 161.27997 \nL 155.24809 161.519076 \nL 155.552758 161.519076 \nL 155.552758 161.871696 \nL 155.857426 161.871696 \nL 155.857426 162.057703 \nL 156.162095 162.057703 \nL 156.162095 162.253369 \nL 157.0761 162.349314 \nL 157.0761 162.508518 \nL 157.380768 162.508518 \nL 157.380768 163.104912 \nL 157.990104 163.164458 \nL 157.990104 163.426552 \nL 158.294773 163.426552 \nL 158.294773 163.644905 \nL 158.599441 163.644905 \nL 158.599441 164.365048 \nL 158.904109 164.365048 \nL 158.904109 164.798786 \nL 159.208778 164.798786 \nL 159.208778 165.440781 \nL 159.818114 165.445001 \nL 159.818114 165.705713 \nL 160.122783 165.705713 \nL 160.122783 165.883811 \nL 160.427451 165.883811 \nL 160.427451 166.274413 \nL 160.732119 166.274413 \nL 160.732119 166.633767 \nL 161.341456 166.729966 \nL 161.341456 166.930726 \nL 161.646124 166.930726 \nL 161.646124 167.054698 \nL 161.950792 167.054698 \nL 161.950792 167.24376 \nL 162.560129 167.268154 \nL 162.560129 167.392115 \nL 162.864797 167.392115 \nL 162.864797 167.875947 \nL 163.169466 167.875947 \nL 163.169466 167.998199 \nL 163.474134 167.998199 \nL 163.474134 168.130814 \nL 163.778802 168.130814 \nL 163.778802 168.253178 \nL 164.388139 168.3377 \nL 164.388139 168.57252 \nL 165.302144 168.66458 \nL 165.302144 168.698261 \nL 165.91148 168.758441 \nL 165.91148 168.916832 \nL 166.216149 168.916832 \nL 166.216149 169.50516 \nL 167.73949 169.611052 \nL 167.73949 170.004215 \nL 168.348827 170.043923 \nL 168.348827 170.158666 \nL 168.958163 170.220157 \nL 168.958163 170.605438 \nL 169.262832 170.605438 \nL 169.262832 170.959618 \nL 169.5675 170.959618 \nL 169.5675 171.114249 \nL 169.872168 171.114249 \nL 169.872168 171.355098 \nL 170.176837 171.355098 \nL 170.176837 171.542924 \nL 171.090842 171.566404 \nL 171.090842 171.686922 \nL 171.39551 171.686922 \nL 171.39551 171.848773 \nL 171.700178 171.848773 \nL 171.700178 172.16558 \nL 172.004846 172.16558 \nL 172.004846 172.305168 \nL 172.309515 172.305168 \nL 172.309515 173.181174 \nL 172.614183 173.181174 \nL 172.614183 173.650086 \nL 172.918851 173.650086 \nL 172.918851 173.770676 \nL 173.528188 173.788459 \nL 173.528188 174.321065 \nL 174.137525 174.364058 \nL 174.137525 174.687339 \nL 174.746861 174.740865 \nL 174.746861 174.854264 \nL 175.051529 174.854264 \nL 175.051529 174.989243 \nL 175.965534 175.078457 \nL 175.965534 175.249748 \nL 177.184208 175.311166 \nL 177.184208 176.028115 \nL 177.488876 176.028115 \nL 177.488876 176.216087 \nL 177.793544 176.216087 \nL 177.793544 176.327835 \nL 178.098213 176.327835 \nL 178.098213 176.536294 \nL 179.012217 176.599182 \nL 179.012217 177.072103 \nL 179.316886 177.072103 \nL 179.316886 177.324577 \nL 179.621554 177.324577 \nL 179.621554 177.616742 \nL 180.230891 177.670699 \nL 180.230891 177.818855 \nL 180.840227 177.886628 \nL 180.840227 178.058401 \nL 181.449564 178.099093 \nL 181.449564 178.466595 \nL 181.754232 178.466595 \nL 181.754232 178.633793 \nL 182.0589 178.633793 \nL 182.0589 178.751624 \nL 182.668237 178.783082 \nL 182.668237 179.06226 \nL 182.972905 179.06226 \nL 182.972905 179.248926 \nL 183.88691 179.300682 \nL 183.88691 179.39661 \nL 184.496247 179.398304 \nL 184.496247 179.583333 \nL 184.800915 179.583333 \nL 184.800915 179.776859 \nL 185.410252 179.867253 \nL 185.410252 179.933106 \nL 186.324257 180.04099 \nL 186.324257 180.146656 \nL 186.933593 180.152363 \nL 186.933593 180.458393 \nL 187.847598 180.543158 \nL 187.847598 180.782273 \nL 188.761603 180.86873 \nL 188.761603 180.951823 \nL 189.066271 180.951823 \nL 189.066271 181.20992 \nL 189.675608 181.221603 \nL 189.675608 181.32361 \nL 189.980276 181.32361 \nL 189.980276 182.202852 \nL 190.894281 182.285467 \nL 190.894281 182.389844 \nL 191.503618 182.395156 \nL 191.503618 182.950134 \nL 192.112955 182.954235 \nL 192.112955 183.070553 \nL 192.722291 183.116385 \nL 192.722291 183.198631 \nL 193.331628 183.233804 \nL 193.331628 183.409032 \nL 194.245633 183.500815 \nL 194.245633 183.870786 \nL 195.159638 183.962084 \nL 195.159638 184.031617 \nL 195.464306 184.031617 \nL 195.464306 184.525393 \nL 196.073643 184.542571 \nL 196.073643 184.722209 \nL 196.987647 184.830264 \nL 196.987647 184.865327 \nL 197.596984 184.887137 \nL 197.596984 185.195112 \nL 198.206321 185.213815 \nL 198.206321 185.466039 \nL 198.815657 185.553135 \nL 198.815657 185.651838 \nL 199.424994 185.697876 \nL 199.424994 185.919678 \nL 199.729662 185.919678 \nL 199.729662 186.043405 \nL 200.03433 186.043405 \nL 200.03433 186.218245 \nL 200.643667 186.315597 \nL 200.643667 186.418069 \nL 201.557672 186.452836 \nL 201.557672 186.677685 \nL 202.471677 186.772436 \nL 202.471677 186.970211 \nL 202.776345 186.970211 \nL 202.776345 187.116865 \nL 203.69035 187.218749 \nL 203.69035 187.343428 \nL 203.995018 187.343428 \nL 203.995018 187.515029 \nL 204.299687 187.515029 \nL 204.299687 187.845134 \nL 204.604355 187.845134 \nL 204.604355 188.073809 \nL 205.51836 188.1137 \nL 205.51836 188.302149 \nL 206.127697 188.38278 \nL 206.127697 188.465881 \nL 206.737033 188.49058 \nL 206.737033 188.597888 \nL 207.651038 188.631584 \nL 207.651038 188.728133 \nL 208.565043 188.833471 \nL 208.565043 189.18145 \nL 209.17438 189.238179 \nL 209.17438 189.300339 \nL 209.783716 189.404207 \nL 209.783716 189.694268 \nL 210.088385 189.694268 \nL 210.088385 189.888739 \nL 210.697721 189.911171 \nL 210.697721 190.035721 \nL 211.307058 190.073589 \nL 211.307058 190.278302 \nL 211.916394 190.285322 \nL 211.916394 190.525949 \nL 212.221063 190.525949 \nL 212.221063 190.644028 \nL 212.830399 190.699985 \nL 212.830399 190.802835 \nL 213.135068 190.802835 \nL 213.135068 190.915269 \nL 213.439736 190.915269 \nL 213.439736 191.268179 \nL 214.049072 191.29143 \nL 214.049072 191.444999 \nL 215.572414 191.488809 \nL 215.572414 191.574793 \nL 216.181751 191.645056 \nL 216.181751 191.792645 \nL 216.791087 191.862824 \nL 216.791087 191.981262 \nL 217.400424 192.011834 \nL 217.400424 192.108285 \nL 218.314429 192.208458 \nL 218.314429 192.221626 \nL 219.228434 192.288553 \nL 219.228434 192.442822 \nL 220.142439 192.476717 \nL 220.142439 192.554551 \nL 220.447107 192.554551 \nL 220.447107 192.788949 \nL 220.751775 192.788949 \nL 220.751775 192.990108 \nL 221.056443 192.990108 \nL 221.056443 193.170299 \nL 221.361112 193.170299 \nL 221.361112 193.294686 \nL 222.275117 193.371066 \nL 222.275117 193.437143 \nL 223.189122 193.484098 \nL 223.189122 193.595625 \nL 223.49379 193.595625 \nL 223.49379 193.742944 \nL 224.103127 193.784801 \nL 224.103127 193.90596 \nL 225.017131 193.927397 \nL 225.017131 194.029568 \nL 225.3218 194.029568 \nL 225.3218 194.276214 \nL 226.235805 194.348012 \nL 226.235805 194.391523 \nL 226.845141 194.42876 \nL 226.845141 194.572464 \nL 228.063814 194.667405 \nL 228.063814 194.712373 \nL 228.673151 194.778677 \nL 228.673151 194.890393 \nL 229.282488 194.954606 \nL 229.282488 195.060376 \nL 230.196493 195.163828 \nL 230.196493 195.3268 \nL 231.110498 195.393416 \nL 231.110498 195.460932 \nL 231.719834 195.51993 \nL 231.719834 195.59598 \nL 232.024502 195.59598 \nL 232.024502 195.727349 \nL 232.633839 195.81709 \nL 232.633839 196.071947 \nL 233.547844 196.16333 \nL 233.547844 196.24615 \nL 233.852512 196.24615 \nL 233.852512 196.388241 \nL 234.461849 196.421095 \nL 234.461849 196.513991 \nL 235.375854 196.550289 \nL 235.375854 196.638879 \nL 235.98519 196.688819 \nL 235.98519 196.865273 \nL 236.899195 196.956462 \nL 236.899195 197.126959 \nL 237.508532 197.236916 \nL 237.508532 197.49513 \nL 238.422537 197.546487 \nL 238.422537 197.680385 \nL 238.727205 197.680385 \nL 238.727205 197.943399 \nL 239.64121 197.960251 \nL 239.64121 198.190417 \nL 239.945878 198.190417 \nL 239.945878 198.313862 \nL 240.555215 198.35208 \nL 240.555215 198.481024 \nL 241.164552 198.520615 \nL 241.164552 198.627457 \nL 242.078557 198.736489 \nL 242.078557 198.82084 \nL 242.992561 198.927981 \nL 242.992561 199.065788 \nL 243.906566 199.147212 \nL 243.906566 199.192448 \nL 244.211235 199.192448 \nL 244.211235 199.333169 \nL 245.12524 199.412967 \nL 245.12524 199.476761 \nL 246.039244 199.569157 \nL 246.039244 199.667415 \nL 247.257918 199.757159 \nL 247.257918 199.78246 \nL 247.867254 199.832574 \nL 247.867254 199.977246 \nL 248.781259 200.079504 \nL 248.781259 200.299669 \nL 249.390596 200.344716 \nL 249.390596 200.427544 \nL 250.609269 200.507694 \nL 250.609269 200.545825 \nL 251.523274 200.561895 \nL 251.523274 200.760737 \nL 252.132611 200.785785 \nL 252.132611 200.920473 \nL 252.437279 200.920473 \nL 252.437279 201.034829 \nL 252.741947 201.034829 \nL 252.741947 201.212527 \nL 253.046615 201.212527 \nL 253.046615 201.348732 \nL 253.96062 201.452149 \nL 253.96062 201.511149 \nL 255.179294 201.604906 \nL 255.179294 201.740412 \nL 255.78863 201.844612 \nL 255.78863 201.956144 \nL 256.397967 202.007117 \nL 256.397967 202.102748 \nL 257.311972 202.201661 \nL 257.311972 202.21487 \nL 258.225977 202.230132 \nL 258.225977 202.37198 \nL 259.139982 202.429846 \nL 259.139982 202.509921 \nL 260.358655 202.605158 \nL 260.358655 202.651085 \nL 260.967991 202.757632 \nL 260.967991 202.78145 \nL 262.796001 202.891816 \nL 262.796001 202.921579 \nL 263.10067 202.921579 \nL 263.10067 203.095036 \nL 263.405338 203.095036 \nL 263.405338 203.21061 \nL 263.710006 203.21061 \nL 263.710006 203.370724 \nL 264.014674 203.370724 \nL 264.014674 203.487363 \nL 265.538016 203.574914 \nL 265.538016 203.673258 \nL 267.366026 203.725427 \nL 267.366026 203.814928 \nL 269.194036 203.921559 \nL 269.194036 203.956884 \nL 270.108041 204.038561 \nL 270.108041 204.087587 \nL 271.326714 204.13401 \nL 271.326714 204.209711 \nL 272.545387 204.298276 \nL 272.545387 204.338537 \nL 273.459392 204.437759 \nL 273.459392 204.478545 \nL 274.678065 204.493893 \nL 274.678065 204.723624 \nL 274.982733 204.723624 \nL 274.982733 204.978632 \nL 275.896738 205.030982 \nL 275.896738 205.16639 \nL 276.201407 205.16639 \nL 276.201407 205.31474 \nL 277.115412 205.368998 \nL 277.115412 205.466537 \nL 277.724748 205.531146 \nL 277.724748 205.596556 \nL 279.24809 205.678309 \nL 279.24809 205.716255 \nL 279.552758 205.716255 \nL 279.552758 205.829625 \nL 280.466763 205.932413 \nL 280.466763 206.046395 \nL 281.685436 206.119604 \nL 281.685436 206.197462 \nL 282.294773 206.245704 \nL 282.294773 206.324376 \nL 283.513446 206.353631 \nL 283.513446 206.494913 \nL 284.732119 206.59491 \nL 284.732119 206.624916 \nL 285.950792 206.669332 \nL 285.950792 206.754048 \nL 286.560129 206.848355 \nL 286.560129 206.873859 \nL 287.474134 206.930478 \nL 287.474134 207.062245 \nL 288.692807 207.117943 \nL 288.692807 207.228696 \nL 289.606812 207.291581 \nL 289.606812 207.343485 \nL 290.520817 207.415628 \nL 290.520817 207.49698 \nL 292.044158 207.599138 \nL 292.044158 207.625976 \nL 293.5675 207.710257 \nL 293.5675 207.750151 \nL 294.481505 207.836176 \nL 294.481505 207.888009 \nL 295.700178 207.980964 \nL 295.700178 208.010333 \nL 296.614183 208.059633 \nL 296.614183 208.134668 \nL 296.918851 208.134668 \nL 296.918851 208.284446 \nL 299.356198 208.362264 \nL 299.356198 208.402089 \nL 301.488876 208.50617 \nL 301.488876 208.521447 \nL 302.402881 208.568762 \nL 302.402881 208.650091 \nL 303.012217 208.720536 \nL 303.012217 208.777566 \nL 304.230891 208.825637 \nL 304.230891 208.907569 \nL 305.449564 208.99762 \nL 305.449564 209.03988 \nL 306.363569 209.114338 \nL 306.363569 209.168782 \nL 307.88691 209.245335 \nL 307.88691 209.354044 \nL 308.800915 209.437378 \nL 308.800915 209.483789 \nL 310.933593 209.577463 \nL 310.933593 209.599238 \nL 312.761603 209.656461 \nL 312.761603 209.767654 \nL 314.284945 209.84632 \nL 314.284945 209.887508 \nL 315.503618 209.995459 \nL 315.503618 210.015618 \nL 317.026959 210.081207 \nL 317.026959 210.150291 \nL 318.854969 210.254508 \nL 318.854969 210.350631 \nL 319.464306 210.355047 \nL 319.464306 210.467746 \nL 321.292316 210.53166 \nL 321.292316 210.582741 \nL 323.120326 210.646555 \nL 323.120326 210.712581 \nL 324.643667 210.807187 \nL 324.643667 210.845478 \nL 327.385682 210.936862 \nL 327.385682 210.956848 \nL 328.299687 211.031544 \nL 328.299687 211.104651 \nL 330.432365 211.171684 \nL 330.432365 211.250144 \nL 331.955706 211.346023 \nL 331.955706 211.394797 \nL 333.783716 211.47307 \nL 333.783716 211.506901 \nL 336.221063 211.614672 \nL 336.221063 211.681114 \nL 337.135068 211.730922 \nL 337.135068 211.829338 \nL 338.353741 211.908586 \nL 338.353741 211.972458 \nL 339.572414 212.03101 \nL 339.572414 212.08701 \nL 340.486419 212.160751 \nL 340.486419 212.235737 \nL 342.923765 212.342188 \nL 342.923765 212.356969 \nL 344.447107 212.456839 \nL 344.447107 212.496663 \nL 346.275117 212.583918 \nL 346.275117 212.64237 \nL 348.103127 212.747387 \nL 348.103127 212.763277 \nL 349.626468 212.846067 \nL 349.626468 212.880775 \nL 351.14981 212.946824 \nL 351.14981 213.001074 \nL 352.673151 213.089993 \nL 352.673151 213.119747 \nL 355.719834 213.223355 \nL 355.719834 213.236569 \nL 357.243176 213.325494 \nL 357.243176 213.385307 \nL 359.375854 213.494466 \nL 359.375854 213.505253 \nL 361.508532 213.598469 \nL 361.508532 213.622508 \nL 363.031873 213.69937 \nL 363.031873 213.748473 \nL 365.46922 213.85244 \nL 365.46922 213.887221 \nL 368.211235 213.966324 \nL 368.211235 214.028599 \nL 370.343913 214.129806 \nL 370.343913 214.151964 \nL 372.171923 214.192941 \nL 372.171923 214.273159 \nL 374.304601 214.372268 \nL 374.304601 214.396074 \nL 377.655952 214.497595 \nL 377.655952 214.521437 \nL 381.007303 214.606008 \nL 381.007303 214.652506 \nL 383.749318 214.756364 \nL 383.749318 214.756364 \n\" clip-path=\"url(#p66514a1f9a)\" style=\"fill: none; stroke: #0071bc; stroke-width: 1.5; stroke-linecap: square\"/>\n   </g>\n   <g id=\"line2d_13\">\n    <path d=\"M 79.385682 113.331302 \nL 79.385682 114.016675 \nL 79.69035 114.016675 \nL 79.69035 114.550671 \nL 79.995018 114.550671 \nL 79.995018 114.732764 \nL 80.299687 114.732764 \nL 80.299687 114.896569 \nL 80.604355 114.896569 \nL 80.604355 115.081655 \nL 80.909023 115.081655 \nL 80.909023 115.850976 \nL 81.51836 115.890205 \nL 81.51836 116.080528 \nL 82.127697 116.098388 \nL 82.127697 116.958246 \nL 82.432365 116.958246 \nL 82.432365 117.084015 \nL 82.737033 117.084015 \nL 82.737033 117.517494 \nL 83.041701 117.517494 \nL 83.041701 118.019856 \nL 83.651038 118.029543 \nL 83.651038 118.185882 \nL 83.955706 118.185882 \nL 83.955706 118.336635 \nL 84.565043 118.401419 \nL 84.565043 119.129778 \nL 84.869711 119.129778 \nL 84.869711 119.611278 \nL 85.479048 119.654877 \nL 85.479048 120.315307 \nL 85.783716 120.315307 \nL 85.783716 120.538179 \nL 86.088385 120.538179 \nL 86.088385 121.324785 \nL 86.393053 121.324785 \nL 86.393053 121.524635 \nL 86.697721 121.524635 \nL 86.697721 121.828622 \nL 87.002389 121.828622 \nL 87.002389 122.810806 \nL 87.307058 122.810806 \nL 87.307058 123.229315 \nL 88.221063 123.314007 \nL 88.221063 123.577428 \nL 88.525731 123.577428 \nL 88.525731 123.927779 \nL 89.135068 123.991665 \nL 89.135068 124.078742 \nL 89.744404 124.159656 \nL 89.744404 124.21831 \nL 90.353741 124.299398 \nL 90.353741 124.332701 \nL 90.658409 124.332701 \nL 90.658409 124.462656 \nL 90.963077 124.462656 \nL 90.963077 124.916349 \nL 91.267746 124.916349 \nL 91.267746 125.297017 \nL 91.572414 125.297017 \nL 91.572414 125.417468 \nL 91.877082 125.417468 \nL 91.877082 125.656428 \nL 92.181751 125.656428 \nL 92.181751 125.914633 \nL 92.486419 125.914633 \nL 92.486419 126.74068 \nL 92.791087 126.74068 \nL 92.791087 126.881615 \nL 93.095756 126.881615 \nL 93.095756 127.410974 \nL 93.400424 127.410974 \nL 93.400424 127.603331 \nL 93.705092 127.603331 \nL 93.705092 127.887309 \nL 94.00976 127.887309 \nL 94.00976 128.386191 \nL 94.314429 128.386191 \nL 94.314429 128.682655 \nL 94.619097 128.682655 \nL 94.619097 128.800969 \nL 95.228434 128.863154 \nL 95.228434 128.937279 \nL 95.533102 128.937279 \nL 95.533102 129.130001 \nL 96.142439 129.208539 \nL 96.142439 129.344735 \nL 97.361112 129.409816 \nL 97.361112 129.806879 \nL 97.66578 129.806879 \nL 97.66578 129.960637 \nL 97.970448 129.960637 \nL 97.970448 130.091431 \nL 98.275117 130.091431 \nL 98.275117 130.451931 \nL 98.579785 130.451931 \nL 98.579785 131.503763 \nL 98.884453 131.503763 \nL 98.884453 131.648815 \nL 99.49379 131.71221 \nL 99.49379 131.85467 \nL 100.407795 131.918948 \nL 100.407795 132.989287 \nL 100.712463 132.989287 \nL 100.712463 133.139806 \nL 101.3218 133.246382 \nL 101.3218 133.424994 \nL 101.626468 133.424994 \nL 101.626468 133.653829 \nL 102.235805 133.691268 \nL 102.235805 133.804479 \nL 102.845141 133.823322 \nL 102.845141 133.945044 \nL 103.14981 133.945044 \nL 103.14981 134.159795 \nL 103.454478 134.159795 \nL 103.454478 134.700256 \nL 103.759146 134.700256 \nL 103.759146 134.891263 \nL 104.063814 134.891263 \nL 104.063814 135.161787 \nL 104.368483 135.161787 \nL 104.368483 135.281442 \nL 104.673151 135.281442 \nL 104.673151 135.425386 \nL 104.977819 135.425386 \nL 104.977819 135.701532 \nL 105.282488 135.701532 \nL 105.282488 136.432377 \nL 105.891824 136.4641 \nL 105.891824 137.018312 \nL 106.196493 137.018312 \nL 106.196493 137.285193 \nL 106.805829 137.364708 \nL 106.805829 137.539155 \nL 107.110498 137.539155 \nL 107.110498 137.685191 \nL 107.719834 137.692459 \nL 107.719834 137.801569 \nL 108.024502 137.801569 \nL 108.024502 137.919128 \nL 108.633839 137.94715 \nL 108.633839 138.311707 \nL 108.938507 138.311707 \nL 108.938507 138.435407 \nL 109.547844 138.435637 \nL 109.547844 138.637574 \nL 110.461849 138.728261 \nL 110.461849 138.914085 \nL 110.766517 138.914085 \nL 110.766517 139.120627 \nL 111.071186 139.120627 \nL 111.071186 139.312408 \nL 111.375854 139.312408 \nL 111.375854 139.528778 \nL 111.98519 139.611563 \nL 111.98519 139.872189 \nL 112.594527 139.904814 \nL 112.594527 140.01528 \nL 112.899195 140.01528 \nL 112.899195 140.28163 \nL 113.508532 140.35582 \nL 113.508532 140.68119 \nL 113.8132 140.68119 \nL 113.8132 141.058381 \nL 114.422537 141.058762 \nL 114.422537 141.327249 \nL 114.727205 141.327249 \nL 114.727205 141.471988 \nL 115.336542 141.543196 \nL 115.336542 141.595752 \nL 115.64121 141.595752 \nL 115.64121 141.789647 \nL 115.945878 141.789647 \nL 115.945878 142.483679 \nL 116.250547 142.483679 \nL 116.250547 142.896831 \nL 116.859883 142.90058 \nL 116.859883 143.026726 \nL 117.46922 143.041464 \nL 117.46922 143.406809 \nL 117.773888 143.406809 \nL 117.773888 143.568443 \nL 118.687893 143.64874 \nL 118.687893 143.699256 \nL 119.601898 143.71689 \nL 119.601898 143.83349 \nL 120.211235 143.85726 \nL 120.211235 143.961972 \nL 120.515903 143.961972 \nL 120.515903 144.467548 \nL 121.12524 144.521718 \nL 121.12524 144.656512 \nL 121.429908 144.656512 \nL 121.429908 145.123407 \nL 121.734576 145.123407 \nL 121.734576 145.598245 \nL 122.039244 145.598245 \nL 122.039244 146.003144 \nL 123.257918 146.068088 \nL 123.257918 146.249388 \nL 123.562586 146.249388 \nL 123.562586 146.435375 \nL 124.171923 146.445164 \nL 124.171923 146.561008 \nL 124.781259 146.606157 \nL 124.781259 146.824024 \nL 125.085928 146.824024 \nL 125.085928 147.0723 \nL 125.390596 147.0723 \nL 125.390596 147.183875 \nL 125.695264 147.183875 \nL 125.695264 147.587235 \nL 126.609269 147.681399 \nL 126.609269 147.715093 \nL 126.913937 147.715093 \nL 126.913937 147.986209 \nL 127.218606 147.986209 \nL 127.218606 148.154509 \nL 127.523274 148.154509 \nL 127.523274 148.276536 \nL 127.827942 148.276536 \nL 127.827942 148.870115 \nL 128.741947 148.92191 \nL 128.741947 148.983421 \nL 129.351284 149.0802 \nL 129.351284 149.192751 \nL 129.655952 149.192751 \nL 129.655952 149.394991 \nL 130.569957 149.413913 \nL 130.569957 149.560285 \nL 130.874625 149.560285 \nL 130.874625 149.740318 \nL 131.179294 149.740318 \nL 131.179294 149.885857 \nL 131.78863 149.896184 \nL 131.78863 150.011678 \nL 132.093299 150.011678 \nL 132.093299 150.361485 \nL 132.397967 150.361485 \nL 132.397967 150.79747 \nL 133.311972 150.903582 \nL 133.311972 151.203561 \nL 133.61664 151.203561 \nL 133.61664 151.587851 \nL 133.921308 151.587851 \nL 133.921308 151.797568 \nL 134.530645 151.888519 \nL 134.530645 151.950177 \nL 134.835313 151.950177 \nL 134.835313 152.501216 \nL 135.139982 152.501216 \nL 135.139982 152.836383 \nL 136.053986 152.947081 \nL 136.053986 153.078624 \nL 136.358655 153.078624 \nL 136.358655 153.21562 \nL 137.577328 153.291813 \nL 137.577328 153.341725 \nL 137.881996 153.341725 \nL 137.881996 153.687265 \nL 138.186665 153.687265 \nL 138.186665 153.800986 \nL 138.796001 153.80357 \nL 138.796001 154.031486 \nL 139.10067 154.031486 \nL 139.10067 154.197154 \nL 139.405338 154.197154 \nL 139.405338 154.521319 \nL 140.014674 154.628966 \nL 140.014674 154.722523 \nL 140.319343 154.722523 \nL 140.319343 154.859422 \nL 140.624011 154.859422 \nL 140.624011 155.11976 \nL 141.233348 155.158419 \nL 141.233348 155.279159 \nL 141.538016 155.279159 \nL 141.538016 155.426263 \nL 141.842684 155.426263 \nL 141.842684 155.758799 \nL 142.147353 155.758799 \nL 142.147353 155.904518 \nL 142.452021 155.904518 \nL 142.452021 156.038956 \nL 143.061357 156.144235 \nL 143.061357 156.157356 \nL 143.366026 156.157356 \nL 143.366026 156.513263 \nL 144.280031 156.613565 \nL 144.280031 156.753684 \nL 144.584699 156.753684 \nL 144.584699 156.869154 \nL 145.194036 156.945968 \nL 145.194036 157.333853 \nL 145.803372 157.364657 \nL 145.803372 157.510184 \nL 146.412709 157.606425 \nL 146.412709 157.792542 \nL 147.022045 157.835821 \nL 147.022045 158.072765 \nL 147.326714 158.072765 \nL 147.326714 158.225802 \nL 147.631382 158.225802 \nL 147.631382 158.341175 \nL 148.240719 158.404581 \nL 148.240719 158.926521 \nL 148.545387 158.926521 \nL 148.545387 159.57828 \nL 149.154724 159.618673 \nL 149.154724 160.050396 \nL 149.459392 160.050396 \nL 149.459392 160.2681 \nL 150.068729 160.330861 \nL 150.068729 160.669611 \nL 150.678065 160.682725 \nL 150.678065 160.82434 \nL 151.287402 160.912858 \nL 151.287402 160.943592 \nL 151.59207 160.943592 \nL 151.59207 161.073345 \nL 153.115412 161.156659 \nL 153.115412 161.313688 \nL 153.42008 161.313688 \nL 153.42008 161.791948 \nL 153.724748 161.791948 \nL 153.724748 162.288602 \nL 154.334085 162.381642 \nL 154.334085 162.490823 \nL 154.638753 162.490823 \nL 154.638753 162.707589 \nL 155.24809 162.787006 \nL 155.24809 162.903682 \nL 155.552758 162.903682 \nL 155.552758 163.076174 \nL 156.162095 163.16737 \nL 156.162095 163.263455 \nL 157.0761 163.310628 \nL 157.0761 163.388989 \nL 157.380768 163.388989 \nL 157.380768 163.683479 \nL 157.990104 163.712965 \nL 157.990104 163.842926 \nL 158.599441 163.951421 \nL 158.599441 164.310706 \nL 158.904109 164.310706 \nL 158.904109 164.528195 \nL 159.208778 164.528195 \nL 159.208778 164.851644 \nL 159.818114 164.853776 \nL 159.818114 164.985661 \nL 160.427451 165.075932 \nL 160.427451 165.27442 \nL 160.732119 165.27442 \nL 160.732119 165.457651 \nL 161.341456 165.506804 \nL 161.341456 165.609521 \nL 161.950792 165.673044 \nL 161.950792 165.770059 \nL 162.864797 165.846304 \nL 162.864797 166.095694 \nL 163.474134 166.158886 \nL 163.474134 166.227517 \nL 164.388139 166.334755 \nL 164.388139 166.456725 \nL 165.91148 166.553489 \nL 165.91148 166.636058 \nL 166.216149 166.636058 \nL 166.216149 166.943851 \nL 167.73949 166.999435 \nL 167.73949 167.206308 \nL 168.653495 167.287792 \nL 168.653495 167.320268 \nL 168.958163 167.320268 \nL 168.958163 167.524191 \nL 169.262832 167.524191 \nL 169.262832 167.712336 \nL 169.872168 167.794684 \nL 169.872168 167.9232 \nL 170.786173 168.026293 \nL 170.786173 168.036206 \nL 171.39551 168.100767 \nL 171.39551 168.187592 \nL 171.700178 168.187592 \nL 171.700178 168.357953 \nL 172.309515 168.43319 \nL 172.309515 168.907807 \nL 172.614183 168.907807 \nL 172.614183 169.163631 \nL 173.528188 169.239363 \nL 173.528188 169.531888 \nL 174.137525 169.555574 \nL 174.137525 169.734019 \nL 175.051529 169.826399 \nL 175.051529 169.901221 \nL 175.965534 169.950734 \nL 175.965534 170.045933 \nL 177.184208 170.08011 \nL 177.184208 170.480766 \nL 177.793544 170.586333 \nL 177.793544 170.649196 \nL 178.098213 170.649196 \nL 178.098213 170.766671 \nL 179.012217 170.802164 \nL 179.012217 171.069877 \nL 179.316886 171.069877 \nL 179.316886 171.213382 \nL 179.621554 171.213382 \nL 179.621554 171.379961 \nL 180.230891 171.410785 \nL 180.230891 171.49552 \nL 180.840227 171.53433 \nL 180.840227 171.63283 \nL 181.449564 171.656192 \nL 181.449564 171.867685 \nL 182.0589 171.964204 \nL 182.0589 172.032339 \nL 182.668237 172.050545 \nL 182.668237 172.212411 \nL 183.277574 172.320937 \nL 183.277574 172.334143 \nL 184.496247 172.407957 \nL 184.496247 172.51596 \nL 184.800915 172.51596 \nL 184.800915 172.629178 \nL 185.71492 172.720778 \nL 185.71492 172.778681 \nL 186.933593 172.84961 \nL 186.933593 173.03 \nL 187.847598 173.080084 \nL 187.847598 173.221647 \nL 189.066271 173.322278 \nL 189.066271 173.475866 \nL 189.980276 173.543678 \nL 189.980276 174.071384 \nL 190.894281 174.121271 \nL 190.894281 174.184373 \nL 191.503618 174.187587 \nL 191.503618 174.524553 \nL 192.722291 174.625968 \nL 192.722291 174.67622 \nL 193.331628 174.697727 \nL 193.331628 174.80502 \nL 194.245633 174.861318 \nL 194.245633 175.088944 \nL 195.464306 175.188245 \nL 195.464306 175.494454 \nL 196.073643 175.505143 \nL 196.073643 175.617077 \nL 197.596984 175.720086 \nL 197.596984 175.91306 \nL 198.206321 175.924805 \nL 198.206321 176.083499 \nL 198.815657 176.138427 \nL 198.815657 176.200755 \nL 199.424994 176.229856 \nL 199.424994 176.370323 \nL 200.03433 176.448869 \nL 200.03433 176.560098 \nL 200.643667 176.622151 \nL 200.643667 176.68756 \nL 201.557672 176.709774 \nL 201.557672 176.853705 \nL 202.471677 176.914496 \nL 202.471677 177.041655 \nL 203.081014 177.136181 \nL 203.081014 177.159853 \nL 203.69035 177.20197 \nL 203.69035 177.282611 \nL 203.995018 177.282611 \nL 203.995018 177.393841 \nL 204.299687 177.393841 \nL 204.299687 177.608607 \nL 204.604355 177.608607 \nL 204.604355 177.758 \nL 205.51836 177.784113 \nL 205.51836 177.907686 \nL 206.432365 178.015336 \nL 206.432365 178.031598 \nL 207.651038 178.124554 \nL 207.651038 178.188319 \nL 208.565043 178.257995 \nL 208.565043 178.48897 \nL 209.479048 178.568169 \nL 209.479048 178.637482 \nL 209.783716 178.637482 \nL 209.783716 178.83164 \nL 210.088385 178.83164 \nL 210.088385 178.962309 \nL 211.002389 179.061337 \nL 211.002389 179.086888 \nL 211.307058 179.086888 \nL 211.307058 179.225281 \nL 211.916394 179.230035 \nL 211.916394 179.393307 \nL 212.525731 179.47366 \nL 212.525731 179.511792 \nL 213.135068 179.581971 \nL 213.135068 179.658823 \nL 213.439736 179.658823 \nL 213.439736 179.900973 \nL 214.049072 179.916976 \nL 214.049072 180.02283 \nL 215.877082 180.112507 \nL 215.877082 180.161134 \nL 216.486419 180.263464 \nL 216.486419 180.312211 \nL 217.400424 180.415908 \nL 217.400424 180.483168 \nL 218.923765 180.565036 \nL 218.923765 180.609174 \nL 219.533102 180.717317 \nL 219.533102 180.731326 \nL 220.447107 180.795818 \nL 220.447107 180.961003 \nL 220.751775 180.961003 \nL 220.751775 181.103301 \nL 221.056443 181.103301 \nL 221.056443 181.231195 \nL 221.970448 181.326293 \nL 221.970448 181.374173 \nL 223.189122 181.454895 \nL 223.189122 181.534702 \nL 223.798458 181.640365 \nL 223.798458 181.670438 \nL 225.017131 181.77306 \nL 225.017131 181.846752 \nL 225.3218 181.846752 \nL 225.3218 182.025217 \nL 226.845141 182.135999 \nL 226.845141 182.240646 \nL 228.368483 182.342799 \nL 228.368483 182.391303 \nL 228.977819 182.473164 \nL 228.977819 182.520295 \nL 229.891824 182.629553 \nL 229.891824 182.674256 \nL 230.196493 182.674256 \nL 230.196493 182.794607 \nL 231.415166 182.893942 \nL 231.415166 182.937716 \nL 232.024502 182.994215 \nL 232.024502 183.092007 \nL 232.633839 183.158954 \nL 232.633839 183.349721 \nL 233.547844 183.418356 \nL 233.547844 183.480667 \nL 234.157181 183.58781 \nL 234.157181 183.612627 \nL 235.375854 183.710373 \nL 235.375854 183.777544 \nL 235.98519 183.815464 \nL 235.98519 183.949751 \nL 236.899195 184.019337 \nL 236.899195 184.149792 \nL 237.508532 184.234167 \nL 237.508532 184.433063 \nL 238.422537 184.472749 \nL 238.422537 184.57642 \nL 238.727205 184.57642 \nL 238.727205 184.780912 \nL 239.64121 184.794054 \nL 239.64121 184.974011 \nL 240.250547 185.070894 \nL 240.250547 185.100941 \nL 240.859883 185.2025 \nL 240.859883 185.233741 \nL 241.46922 185.31818 \nL 241.46922 185.347807 \nL 242.078557 185.404554 \nL 242.078557 185.471519 \nL 242.992561 185.556756 \nL 242.992561 185.666688 \nL 244.211235 185.768027 \nL 244.211235 185.880953 \nL 245.12524 185.945149 \nL 245.12524 185.996554 \nL 246.039244 186.071138 \nL 246.039244 186.150627 \nL 247.562586 186.243925 \nL 247.562586 186.284642 \nL 247.867254 186.284642 \nL 247.867254 186.402455 \nL 248.781259 186.485967 \nL 248.781259 186.666452 \nL 249.695264 186.771711 \nL 249.695264 186.797456 \nL 251.523274 186.882645 \nL 251.523274 187.047486 \nL 252.132611 187.068307 \nL 252.132611 187.180482 \nL 252.741947 187.276013 \nL 252.741947 187.42499 \nL 253.046615 187.42499 \nL 253.046615 187.539622 \nL 253.96062 187.626919 \nL 253.96062 187.676823 \nL 255.179294 187.756279 \nL 255.179294 187.871446 \nL 255.78863 187.960277 \nL 255.78863 188.055618 \nL 256.397967 188.099283 \nL 256.397967 188.181357 \nL 258.225977 188.290997 \nL 258.225977 188.413514 \nL 259.139982 188.463625 \nL 259.139982 188.533094 \nL 260.358655 188.615908 \nL 260.358655 188.655919 \nL 260.967991 188.74893 \nL 260.967991 188.769758 \nL 262.796001 188.866444 \nL 262.796001 188.892566 \nL 263.10067 188.892566 \nL 263.10067 189.045227 \nL 263.710006 189.147345 \nL 263.710006 189.289352 \nL 264.624011 189.397275 \nL 264.624011 189.424228 \nL 265.538016 189.471365 \nL 265.538016 189.559399 \nL 267.366026 189.606197 \nL 267.366026 189.686644 \nL 269.194036 189.782756 \nL 269.194036 189.81466 \nL 270.108041 189.888551 \nL 270.108041 189.932987 \nL 271.631382 190.043949 \nL 271.631382 190.048189 \nL 272.545387 190.124665 \nL 272.545387 190.161427 \nL 273.459392 190.25221 \nL 273.459392 190.289605 \nL 274.678065 190.303688 \nL 274.678065 190.515251 \nL 274.982733 190.515251 \nL 274.982733 190.751799 \nL 275.896738 190.800585 \nL 275.896738 190.927136 \nL 276.201407 190.927136 \nL 276.201407 191.066386 \nL 277.115412 191.117476 \nL 277.115412 191.209536 \nL 277.724748 191.27067 \nL 277.724748 191.332689 \nL 279.24809 191.410383 \nL 279.24809 191.446513 \nL 279.857426 191.554718 \nL 279.857426 191.590168 \nL 280.466763 191.653162 \nL 280.466763 191.76271 \nL 281.685436 191.833283 \nL 281.685436 191.908524 \nL 282.294773 191.95524 \nL 282.294773 192.031583 \nL 283.513446 192.060022 \nL 283.513446 192.197754 \nL 284.732119 192.295632 \nL 284.732119 192.325066 \nL 285.950792 192.36869 \nL 285.950792 192.452078 \nL 286.560129 192.545188 \nL 286.560129 192.57042 \nL 287.474134 192.626514 \nL 287.474134 192.757483 \nL 288.692807 192.813024 \nL 288.692807 192.923786 \nL 289.606812 192.986867 \nL 289.606812 193.039039 \nL 290.520817 193.111712 \nL 290.520817 193.193888 \nL 292.044158 193.297418 \nL 292.044158 193.32468 \nL 293.5675 193.410464 \nL 293.5675 193.451161 \nL 294.481505 193.53912 \nL 294.481505 193.592252 \nL 295.700178 193.687791 \nL 295.700178 193.718044 \nL 296.614183 193.768904 \nL 296.614183 193.846492 \nL 296.918851 193.846492 \nL 296.918851 194.002022 \nL 299.356198 194.083176 \nL 299.356198 194.124802 \nL 301.488876 194.23389 \nL 301.488876 194.249939 \nL 302.402881 194.299704 \nL 302.402881 194.385458 \nL 303.012217 194.459956 \nL 303.012217 194.520418 \nL 304.230891 194.571487 \nL 304.230891 194.658754 \nL 305.449564 194.754996 \nL 305.449564 194.800282 \nL 306.363569 194.880258 \nL 306.363569 194.938889 \nL 307.88691 195.02155 \nL 307.88691 195.139379 \nL 308.800915 195.230061 \nL 308.800915 195.280701 \nL 310.933593 195.38321 \nL 310.933593 195.407095 \nL 312.761603 195.469972 \nL 312.761603 195.592587 \nL 314.284945 195.679685 \nL 314.284945 195.725406 \nL 314.894281 195.738827 \nL 314.894281 195.845367 \nL 317.026959 195.941518 \nL 317.026959 196.01904 \nL 318.550301 196.128217 \nL 318.550301 196.136434 \nL 319.159638 196.245196 \nL 319.159638 196.250204 \nL 319.464306 196.250204 \nL 319.464306 196.378346 \nL 321.292316 196.45131 \nL 321.292316 196.509777 \nL 323.120326 196.583012 \nL 323.120326 196.659012 \nL 324.643667 196.768317 \nL 324.643667 196.812696 \nL 327.385682 196.918931 \nL 327.385682 196.942225 \nL 328.299687 197.029487 \nL 328.299687 197.115194 \nL 330.432365 197.194046 \nL 330.432365 197.286667 \nL 331.651038 197.312632 \nL 331.651038 197.400334 \nL 333.17438 197.499297 \nL 333.17438 197.514228 \nL 335.002389 197.618549 \nL 335.002389 197.689532 \nL 336.221063 197.721722 \nL 336.221063 197.801879 \nL 337.135068 197.862148 \nL 337.135068 197.981689 \nL 338.353741 198.078389 \nL 338.353741 198.156621 \nL 339.572414 198.228567 \nL 339.572414 198.297586 \nL 340.486419 198.388786 \nL 340.486419 198.481896 \nL 342.619097 198.59116 \nL 342.619097 198.614729 \nL 343.83777 198.695545 \nL 343.83777 198.735817 \nL 345.66578 198.843319 \nL 345.66578 198.868964 \nL 346.275117 198.91927 \nL 346.275117 198.99353 \nL 347.189122 199.066505 \nL 347.189122 199.112716 \nL 349.3218 199.189468 \nL 349.3218 199.254253 \nL 350.845141 199.348193 \nL 350.845141 199.384355 \nL 351.759146 199.461511 \nL 351.759146 199.5299 \nL 353.282488 199.636026 \nL 353.282488 199.641716 \nL 355.719834 199.745425 \nL 355.719834 199.762829 \nL 356.938507 199.849029 \nL 356.938507 199.880316 \nL 358.157181 199.988932 \nL 358.157181 199.991859 \nL 359.071186 200.024154 \nL 359.071186 200.105341 \nL 360.594527 200.206566 \nL 360.594527 200.217002 \nL 362.117869 200.28524 \nL 362.117869 200.371371 \nL 363.336542 200.448139 \nL 363.336542 200.491745 \nL 365.46922 200.590071 \nL 365.46922 200.637769 \nL 368.211235 200.746658 \nL 368.211235 200.832786 \nL 369.734576 200.935588 \nL 369.734576 200.962039 \nL 372.171923 201.061819 \nL 372.171923 201.174553 \nL 373.390596 201.25751 \nL 373.390596 201.300395 \nL 375.523274 201.409446 \nL 375.523274 201.416707 \nL 377.96062 201.527505 \nL 377.96062 201.531288 \nL 380.397967 201.633772 \nL 380.397967 201.644057 \nL 381.311972 201.716375 \nL 381.311972 201.756091 \nL 383.44465 201.864193 \nL 383.44465 201.867326 \nL 383.749318 201.867326 \nL 383.749318 201.867326 \n\" clip-path=\"url(#p66514a1f9a)\" style=\"fill: none; stroke: #f7931e; stroke-width: 1.5; stroke-linecap: square\"/>\n   </g>\n   <g id=\"line2d_14\">\n    <path d=\"M 79.385682 149.21364 \nL 79.385682 149.442988 \nL 79.69035 149.442988 \nL 79.69035 149.622187 \nL 80.299687 149.683396 \nL 80.299687 149.738503 \nL 80.909023 149.80082 \nL 80.909023 150.060426 \nL 82.127697 150.144116 \nL 82.127697 150.435738 \nL 82.737033 150.478493 \nL 82.737033 150.626053 \nL 83.041701 150.626053 \nL 83.041701 150.797445 \nL 84.260375 150.905736 \nL 84.260375 150.927903 \nL 84.565043 150.927903 \nL 84.565043 151.177603 \nL 84.869711 151.177603 \nL 84.869711 151.343162 \nL 85.479048 151.358172 \nL 85.479048 151.58594 \nL 86.088385 151.662972 \nL 86.088385 151.93553 \nL 86.697721 152.004948 \nL 86.697721 152.110672 \nL 87.002389 152.110672 \nL 87.002389 152.453371 \nL 87.307058 152.453371 \nL 87.307058 152.599914 \nL 88.221063 152.629607 \nL 88.221063 152.722045 \nL 88.525731 152.722045 \nL 88.525731 152.845181 \nL 90.049072 152.94746 \nL 90.049072 152.976033 \nL 90.963077 153.033598 \nL 90.963077 153.193825 \nL 91.267746 153.193825 \nL 91.267746 153.328552 \nL 91.877082 153.371239 \nL 91.877082 153.456002 \nL 92.486419 153.54771 \nL 92.486419 153.841939 \nL 93.095756 153.892267 \nL 93.095756 154.081635 \nL 93.705092 154.150578 \nL 93.705092 154.25249 \nL 94.00976 154.25249 \nL 94.00976 154.4319 \nL 94.619097 154.538743 \nL 94.619097 154.58143 \nL 95.533102 154.630644 \nL 95.533102 154.700286 \nL 97.361112 154.801531 \nL 97.361112 154.945463 \nL 98.275117 155.048803 \nL 98.275117 155.179956 \nL 98.579785 155.179956 \nL 98.579785 155.564112 \nL 99.49379 155.640509 \nL 99.49379 155.692771 \nL 100.407795 155.716366 \nL 100.407795 156.11051 \nL 101.3218 156.205538 \nL 101.3218 156.271638 \nL 102.235805 156.370305 \nL 102.235805 156.4123 \nL 103.14981 156.46448 \nL 103.14981 156.544279 \nL 103.454478 156.544279 \nL 103.454478 156.745545 \nL 104.063814 156.816825 \nL 104.063814 156.917915 \nL 104.977819 157.016568 \nL 104.977819 157.12008 \nL 105.282488 157.12008 \nL 105.282488 157.394841 \nL 105.891824 157.406794 \nL 105.891824 157.615976 \nL 106.501161 157.716953 \nL 106.501161 157.747069 \nL 107.110498 157.81319 \nL 107.110498 157.868596 \nL 108.633839 157.968103 \nL 108.633839 158.106843 \nL 109.547844 158.154076 \nL 109.547844 158.231116 \nL 110.766517 158.336759 \nL 110.766517 158.415785 \nL 111.375854 158.489252 \nL 111.375854 158.572242 \nL 111.98519 158.604023 \nL 111.98519 158.704183 \nL 112.899195 158.759242 \nL 112.899195 158.861858 \nL 113.508532 158.890471 \nL 113.508532 159.016111 \nL 113.8132 159.016111 \nL 113.8132 159.162079 \nL 114.727205 159.266336 \nL 114.727205 159.322533 \nL 115.64121 159.370627 \nL 115.64121 159.446048 \nL 115.945878 159.446048 \nL 115.945878 159.716765 \nL 116.250547 159.716765 \nL 116.250547 159.878486 \nL 117.46922 159.9352 \nL 117.46922 160.078695 \nL 118.687893 160.173902 \nL 118.687893 160.1938 \nL 120.515903 160.297388 \nL 120.515903 160.497229 \nL 121.429908 160.572091 \nL 121.429908 160.757454 \nL 121.734576 160.757454 \nL 121.734576 160.946554 \nL 122.039244 160.946554 \nL 122.039244 161.108268 \nL 123.562586 161.206829 \nL 123.562586 161.281379 \nL 124.781259 161.349915 \nL 124.781259 161.437461 \nL 125.390596 161.537381 \nL 125.390596 161.58234 \nL 125.695264 161.58234 \nL 125.695264 161.745154 \nL 126.913937 161.796856 \nL 126.913937 161.906635 \nL 127.523274 161.974885 \nL 127.523274 162.024418 \nL 127.827942 162.024418 \nL 127.827942 162.265958 \nL 129.351284 162.351682 \nL 129.351284 162.397659 \nL 130.569957 162.488108 \nL 130.569957 162.548046 \nL 131.179294 162.621852 \nL 131.179294 162.681585 \nL 132.093299 162.733274 \nL 132.093299 162.877219 \nL 132.397967 162.877219 \nL 132.397967 163.057122 \nL 133.311972 163.100991 \nL 133.311972 163.22519 \nL 133.61664 163.22519 \nL 133.61664 163.384683 \nL 134.225977 163.471907 \nL 134.225977 163.509776 \nL 134.835313 163.535462 \nL 134.835313 163.765528 \nL 135.139982 163.765528 \nL 135.139982 163.905914 \nL 136.358655 164.007591 \nL 136.358655 164.065173 \nL 137.881996 164.118228 \nL 137.881996 164.263857 \nL 138.796001 164.312957 \nL 138.796001 164.409299 \nL 139.405338 164.47943 \nL 139.405338 164.616907 \nL 140.319343 164.702405 \nL 140.319343 164.760651 \nL 140.928679 164.871581 \nL 140.928679 164.888073 \nL 141.538016 164.939609 \nL 141.538016 165.002462 \nL 141.842684 165.002462 \nL 141.842684 165.144803 \nL 142.452021 165.207291 \nL 142.452021 165.265004 \nL 143.366026 165.31588 \nL 143.366026 165.469091 \nL 144.584699 165.572825 \nL 144.584699 165.622715 \nL 145.194036 165.655928 \nL 145.194036 165.823946 \nL 146.108041 165.900495 \nL 146.108041 165.942319 \nL 147.022045 166.042137 \nL 147.022045 166.145429 \nL 147.631382 166.212245 \nL 147.631382 166.26267 \nL 148.240719 166.290403 \nL 148.240719 166.519218 \nL 148.545387 166.519218 \nL 148.545387 166.80629 \nL 149.154724 166.824131 \nL 149.154724 167.015182 \nL 149.76406 167.111778 \nL 149.76406 167.139657 \nL 150.068729 167.139657 \nL 150.068729 167.29038 \nL 151.287402 167.398869 \nL 151.287402 167.412592 \nL 153.115412 167.507825 \nL 153.115412 167.578118 \nL 153.42008 167.578118 \nL 153.42008 167.792776 \nL 153.724748 167.792776 \nL 153.724748 168.016602 \nL 154.638753 168.108005 \nL 154.638753 168.206158 \nL 155.552758 168.295105 \nL 155.552758 168.37347 \nL 157.0761 168.480171 \nL 157.0761 168.515881 \nL 157.380768 168.515881 \nL 157.380768 168.650301 \nL 158.294773 168.723222 \nL 158.294773 168.7729 \nL 158.599441 168.7729 \nL 158.599441 168.937743 \nL 159.208778 169.037781 \nL 159.208778 169.186911 \nL 160.427451 169.290572 \nL 160.427451 169.382481 \nL 161.341456 169.490291 \nL 161.341456 169.538016 \nL 162.864797 169.6482 \nL 162.864797 169.764503 \nL 164.083471 169.855729 \nL 164.083471 169.876235 \nL 165.91148 169.97868 \nL 165.91148 170.017405 \nL 166.216149 170.017405 \nL 166.216149 170.162015 \nL 167.73949 170.188174 \nL 167.73949 170.285648 \nL 168.958163 170.339423 \nL 168.958163 170.435791 \nL 169.5675 170.524865 \nL 169.5675 170.5639 \nL 170.786173 170.673849 \nL 170.786173 170.678561 \nL 171.700178 170.750562 \nL 171.700178 170.831711 \nL 172.309515 170.86759 \nL 172.309515 171.094516 \nL 172.614183 171.094516 \nL 172.614183 171.217257 \nL 173.528188 171.253649 \nL 173.528188 171.394469 \nL 174.442193 171.492005 \nL 174.442193 171.506307 \nL 175.965534 171.596791 \nL 175.965534 171.642891 \nL 177.184208 171.659452 \nL 177.184208 171.854004 \nL 178.098213 171.936019 \nL 178.098213 171.993303 \nL 179.012217 172.010623 \nL 179.012217 172.14146 \nL 179.621554 172.211738 \nL 179.621554 172.29344 \nL 180.840227 172.369276 \nL 180.840227 172.417726 \nL 181.449564 172.429225 \nL 181.449564 172.533441 \nL 182.668237 172.623727 \nL 182.668237 172.703788 \nL 184.496247 172.800682 \nL 184.496247 172.85428 \nL 185.71492 172.956088 \nL 185.71492 172.984909 \nL 186.933593 173.020236 \nL 186.933593 173.110198 \nL 188.152267 173.205958 \nL 188.152267 173.228084 \nL 189.675608 173.336769 \nL 189.675608 173.367295 \nL 189.980276 173.367295 \nL 189.980276 173.632852 \nL 191.503618 173.691527 \nL 191.503618 173.862082 \nL 193.331628 173.949971 \nL 193.331628 174.004507 \nL 194.245633 174.033147 \nL 194.245633 174.149124 \nL 195.464306 174.199808 \nL 195.464306 174.356441 \nL 197.292316 174.465188 \nL 197.292316 174.472191 \nL 198.206321 174.57746 \nL 198.206321 174.659226 \nL 199.424994 174.734761 \nL 199.424994 174.807372 \nL 200.338999 174.905651 \nL 200.338999 174.937831 \nL 201.557672 174.98331 \nL 201.557672 175.058111 \nL 202.776345 175.155971 \nL 202.776345 175.205266 \nL 203.995018 175.281732 \nL 203.995018 175.339902 \nL 204.299687 175.339902 \nL 204.299687 175.452425 \nL 205.51836 175.544584 \nL 205.51836 175.609583 \nL 207.34637 175.714303 \nL 207.34637 175.723879 \nL 208.565043 175.794349 \nL 208.565043 175.916584 \nL 209.783716 175.995351 \nL 209.783716 176.098534 \nL 210.697721 176.176156 \nL 210.697721 176.220909 \nL 211.916394 176.310996 \nL 211.916394 176.398357 \nL 213.135068 176.499516 \nL 213.135068 176.540788 \nL 213.439736 176.540788 \nL 213.439736 176.67108 \nL 215.572414 176.753116 \nL 215.572414 176.785209 \nL 216.791087 176.893224 \nL 216.791087 176.937868 \nL 218.923765 177.030347 \nL 218.923765 177.054329 \nL 220.447107 177.155885 \nL 220.447107 177.245959 \nL 221.056443 177.3237 \nL 221.056443 177.393689 \nL 222.579785 177.497952 \nL 222.579785 177.514222 \nL 223.798458 177.618355 \nL 223.798458 177.634912 \nL 225.3218 177.732115 \nL 225.3218 177.830723 \nL 226.845141 177.892046 \nL 226.845141 177.950053 \nL 228.673151 178.033699 \nL 228.673151 178.079217 \nL 229.891824 178.166308 \nL 229.891824 178.191235 \nL 231.110498 178.285965 \nL 231.110498 178.313943 \nL 232.329171 178.424874 \nL 232.329171 178.462434 \nL 232.938507 178.569642 \nL 232.938507 178.583884 \nL 233.852512 178.643387 \nL 233.852512 178.703821 \nL 235.680522 178.811051 \nL 235.680522 178.832514 \nL 236.594527 178.935315 \nL 236.594527 178.948095 \nL 237.203864 179.022218 \nL 237.203864 179.070228 \nL 237.508532 179.070228 \nL 237.508532 179.183617 \nL 238.727205 179.265532 \nL 238.727205 179.382657 \nL 239.945878 179.493556 \nL 239.945878 179.549308 \nL 241.164552 179.643186 \nL 241.164552 179.691946 \nL 242.687893 179.798755 \nL 242.687893 179.830024 \nL 243.906566 179.931624 \nL 243.906566 179.952681 \nL 245.12524 180.055793 \nL 245.12524 180.085767 \nL 246.648581 180.191906 \nL 246.648581 180.210385 \nL 247.867254 180.254151 \nL 247.867254 180.323209 \nL 248.781259 180.372232 \nL 248.781259 180.478379 \nL 250.609269 180.579437 \nL 250.609269 180.598042 \nL 251.827942 180.703382 \nL 251.827942 180.715712 \nL 252.437279 180.78221 \nL 252.437279 180.838926 \nL 253.046615 180.927531 \nL 253.046615 180.995841 \nL 254.874625 181.098836 \nL 254.874625 181.125265 \nL 255.483962 181.194231 \nL 255.483962 181.247507 \nL 256.397967 181.331017 \nL 256.397967 181.380406 \nL 258.225977 181.446478 \nL 258.225977 181.52044 \nL 260.053986 181.629005 \nL 260.053986 181.642923 \nL 261.577328 181.741313 \nL 261.577328 181.777763 \nL 263.10067 181.81096 \nL 263.10067 181.903989 \nL 263.710006 181.96634 \nL 263.710006 182.053211 \nL 265.233348 182.162683 \nL 265.233348 182.164835 \nL 267.366026 182.247729 \nL 267.366026 182.297271 \nL 269.803372 182.379917 \nL 269.803372 182.421889 \nL 272.240719 182.520889 \nL 272.240719 182.568126 \nL 274.373397 182.675131 \nL 274.373397 182.679371 \nL 274.678065 182.679371 \nL 274.678065 182.81125 \nL 274.982733 182.81125 \nL 274.982733 182.959237 \nL 276.201407 183.069297 \nL 276.201407 183.156932 \nL 277.42008 183.247229 \nL 277.42008 183.285857 \nL 279.24809 183.374282 \nL 279.24809 183.397183 \nL 280.162095 183.488373 \nL 280.162095 183.52843 \nL 281.380768 183.631495 \nL 281.380768 183.643199 \nL 282.294773 183.721105 \nL 282.294773 183.769955 \nL 284.122783 183.880254 \nL 284.122783 183.925998 \nL 285.950792 183.986423 \nL 285.950792 184.040162 \nL 287.169466 184.137161 \nL 287.169466 184.152828 \nL 288.388139 184.258608 \nL 288.388139 184.273669 \nL 289.302144 184.37688 \nL 289.302144 184.386658 \nL 290.520817 184.468014 \nL 290.520817 184.521662 \nL 292.348827 184.60721 \nL 292.348827 184.637142 \nL 294.481505 184.7479 \nL 294.481505 184.782842 \nL 296.309515 184.888891 \nL 296.309515 184.899258 \nL 296.918851 184.950507 \nL 296.918851 185.053454 \nL 299.965534 185.1445 \nL 299.965534 185.183382 \nL 302.402881 185.251312 \nL 302.402881 185.30851 \nL 303.621554 185.418458 \nL 303.621554 185.424226 \nL 305.144896 185.519943 \nL 305.144896 185.556034 \nL 306.363569 185.640325 \nL 306.363569 185.679847 \nL 307.88691 185.735642 \nL 307.88691 185.815324 \nL 309.410252 185.926385 \nL 309.410252 185.930196 \nL 312.761603 186.039848 \nL 312.761603 186.123485 \nL 314.894281 186.223496 \nL 314.894281 186.296536 \nL 317.026959 186.362584 \nL 317.026959 186.415926 \nL 318.854969 186.496859 \nL 318.854969 186.572008 \nL 320.073643 186.67604 \nL 320.073643 186.699524 \nL 323.120326 186.80646 \nL 323.120326 186.859425 \nL 324.948335 186.966776 \nL 324.948335 186.974176 \nL 327.69035 187.057515 \nL 327.69035 187.091095 \nL 329.823028 187.200657 \nL 329.823028 187.227402 \nL 331.651038 187.318325 \nL 331.651038 187.380369 \nL 333.783716 187.487778 \nL 333.783716 187.516552 \nL 336.221063 187.608706 \nL 336.221063 187.665895 \nL 337.135068 187.708959 \nL 337.135068 187.794537 \nL 338.353741 187.863923 \nL 338.353741 187.920162 \nL 339.877082 188.021738 \nL 339.877082 188.048607 \nL 340.791087 188.155014 \nL 340.791087 188.169059 \nL 343.533102 188.267621 \nL 343.533102 188.310175 \nL 345.66578 188.417921 \nL 345.66578 188.436655 \nL 346.884453 188.538388 \nL 346.884453 188.581321 \nL 349.3218 188.671693 \nL 349.3218 188.719407 \nL 351.14981 188.815438 \nL 351.14981 188.867496 \nL 352.673151 188.953365 \nL 352.673151 188.982251 \nL 355.719834 189.083442 \nL 355.719834 189.096417 \nL 357.243176 189.184136 \nL 357.243176 189.243543 \nL 359.375854 189.352815 \nL 359.375854 189.363674 \nL 361.508532 189.457973 \nL 361.508532 189.482427 \nL 363.031873 189.560995 \nL 363.031873 189.611493 \nL 365.46922 189.719213 \nL 365.46922 189.755496 \nL 368.211235 189.838481 \nL 368.211235 189.904274 \nL 370.343913 190.012084 \nL 370.343913 190.035836 \nL 372.171923 190.079903 \nL 372.171923 190.166713 \nL 374.304601 190.274973 \nL 374.304601 190.301146 \nL 377.351284 190.405791 \nL 377.351284 190.413506 \nL 380.397967 190.522846 \nL 380.397967 190.530869 \nL 381.921308 190.632801 \nL 381.921308 190.645047 \nL 383.749318 190.705552 \nL 383.749318 190.705552 \n\" clip-path=\"url(#p66514a1f9a)\" style=\"fill: none; stroke: #c1272d; stroke-width: 1.5; stroke-linecap: square\"/>\n   </g>\n   <g id=\"patch_3\">\n    <path d=\"M 64.1675 224.64 \nL 64.1675 7.2 \n\" style=\"fill: none; stroke: #000000; stroke-width: 0.8; stroke-linejoin: miter; stroke-linecap: square\"/>\n   </g>\n   <g id=\"patch_4\">\n    <path d=\"M 398.9675 224.64 \nL 398.9675 7.2 \n\" style=\"fill: none; stroke: #000000; stroke-width: 0.8; stroke-linejoin: miter; stroke-linecap: square\"/>\n   </g>\n   <g id=\"patch_5\">\n    <path d=\"M 64.1675 224.64 \nL 398.9675 224.64 \n\" style=\"fill: none; stroke: #000000; stroke-width: 0.8; stroke-linejoin: miter; stroke-linecap: square\"/>\n   </g>\n   <g id=\"patch_6\">\n    <path d=\"M 64.1675 7.2 \nL 398.9675 7.2 \n\" style=\"fill: none; stroke: #000000; stroke-width: 0.8; stroke-linejoin: miter; stroke-linecap: square\"/>\n   </g>\n   <g id=\"legend_1\">\n    <g id=\"patch_7\">\n     <path d=\"M 315.69875 69.64125 \nL 390.5675 69.64125 \nQ 392.9675 69.64125 392.9675 67.24125 \nL 392.9675 15.6 \nQ 392.9675 13.2 390.5675 13.2 \nL 315.69875 13.2 \nQ 313.29875 13.2 313.29875 15.6 \nL 313.29875 67.24125 \nQ 313.29875 69.64125 315.69875 69.64125 \nz\n\" style=\"fill: #ffffff; opacity: 0.8; stroke: #cccccc; stroke-linejoin: miter\"/>\n    </g>\n    <g id=\"line2d_15\">\n     <path d=\"M 318.09875 22.918125 \nL 318.09875 22.918125 \nL 330.09875 22.918125 \nL 330.09875 22.918125 \nL 342.09875 22.918125 \n\" style=\"fill: none; stroke: #0071bc; stroke-width: 1.5; stroke-linecap: square\"/>\n    </g>\n    <g id=\"text_14\">\n     <!-- T=0.5 -->\n     <g transform=\"translate(351.69875 27.118125)scale(0.12 -0.12)\">\n      <defs>\n       <path id=\"DejaVuSans-54\" d=\"M -19 4666 \nL 3928 4666 \nL 3928 4134 \nL 2272 4134 \nL 2272 0 \nL 1638 0 \nL 1638 4134 \nL -19 4134 \nL -19 4666 \nz\n\" transform=\"scale(0.015625)\"/>\n       <path id=\"DejaVuSans-3d\" d=\"M 678 2906 \nL 4684 2906 \nL 4684 2381 \nL 678 2381 \nL 678 2906 \nz\nM 678 1631 \nL 4684 1631 \nL 4684 1100 \nL 678 1100 \nL 678 1631 \nz\n\" transform=\"scale(0.015625)\"/>\n       <path id=\"DejaVuSans-35\" d=\"M 691 4666 \nL 3169 4666 \nL 3169 4134 \nL 1269 4134 \nL 1269 2991 \nQ 1406 3038 1543 3061 \nQ 1681 3084 1819 3084 \nQ 2600 3084 3056 2656 \nQ 3513 2228 3513 1497 \nQ 3513 744 3044 326 \nQ 2575 -91 1722 -91 \nQ 1428 -91 1123 -41 \nQ 819 9 494 109 \nL 494 744 \nQ 775 591 1075 516 \nQ 1375 441 1709 441 \nQ 2250 441 2565 725 \nQ 2881 1009 2881 1497 \nQ 2881 1984 2565 2268 \nQ 2250 2553 1709 2553 \nQ 1456 2553 1204 2497 \nQ 953 2441 691 2322 \nL 691 4666 \nz\n\" transform=\"scale(0.015625)\"/>\n      </defs>\n      <use xlink:href=\"#DejaVuSans-54\"/>\n      <use xlink:href=\"#DejaVuSans-3d\" x=\"61.083984\"/>\n      <use xlink:href=\"#DejaVuSans-30\" x=\"144.873047\"/>\n      <use xlink:href=\"#DejaVuSans-2e\" x=\"208.496094\"/>\n      <use xlink:href=\"#DejaVuSans-35\" x=\"240.283203\"/>\n     </g>\n    </g>\n    <g id=\"line2d_16\">\n     <path d=\"M 318.09875 40.531875 \nL 318.09875 40.531875 \nL 330.09875 40.531875 \nL 330.09875 40.531875 \nL 342.09875 40.531875 \n\" style=\"fill: none; stroke: #f7931e; stroke-width: 1.5; stroke-linecap: square\"/>\n    </g>\n    <g id=\"text_15\">\n     <!-- T=1.0 -->\n     <g transform=\"translate(351.69875 44.731875)scale(0.12 -0.12)\">\n      <use xlink:href=\"#DejaVuSans-54\"/>\n      <use xlink:href=\"#DejaVuSans-3d\" x=\"61.083984\"/>\n      <use xlink:href=\"#DejaVuSans-31\" x=\"144.873047\"/>\n      <use xlink:href=\"#DejaVuSans-2e\" x=\"208.496094\"/>\n      <use xlink:href=\"#DejaVuSans-30\" x=\"240.283203\"/>\n     </g>\n    </g>\n    <g id=\"line2d_17\">\n     <path d=\"M 318.09875 58.145625 \nL 318.09875 58.145625 \nL 330.09875 58.145625 \nL 330.09875 58.145625 \nL 342.09875 58.145625 \n\" style=\"fill: none; stroke: #c1272d; stroke-width: 1.5; stroke-linecap: square\"/>\n    </g>\n    <g id=\"text_16\">\n     <!-- T=2.0 -->\n     <g transform=\"translate(351.69875 62.345625)scale(0.12 -0.12)\">\n      <use xlink:href=\"#DejaVuSans-54\"/>\n      <use xlink:href=\"#DejaVuSans-3d\" x=\"61.083984\"/>\n      <use xlink:href=\"#DejaVuSans-32\" x=\"144.873047\"/>\n      <use xlink:href=\"#DejaVuSans-2e\" x=\"208.496094\"/>\n      <use xlink:href=\"#DejaVuSans-30\" x=\"240.283203\"/>\n     </g>\n    </g>\n   </g>\n  </g>\n </g>\n <defs>\n  <clipPath id=\"p66514a1f9a\">\n   <rect x=\"64.1675\" y=\"7.2\" width=\"334.8\" height=\"217.44\"/>\n  </clipPath>\n </defs>\n</svg>\n",
            "application/pdf": "[encoded data removed]"
          },
          "metadata": {
            "needs_background": "light"
          }
        }
      ],
      "source": [
        "#세 개의 온도에서 랜덤하게 생성한 토큰 확률의 분포\n",
        "import matplotlib.pyplot as plt\n",
        "import numpy as np\n",
        "\n",
        "def softmax(logits, T=1):\n",
        "    e_x = np.exp(logits / T)\n",
        "    return e_x / e_x.sum()\n",
        "\n",
        "logits = np.exp(np.random.random(1000))\n",
        "sorted_logits = np.sort(logits)[::-1]\n",
        "x = np.arange(1000)\n",
        "\n",
        "for T in [0.5, 1.0, 2.0]:\n",
        "    plt.step(x, softmax(sorted_logits, T), label=f\"T={T}\")\n",
        "plt.legend(loc=\"best\")\n",
        "plt.xlabel(\"Sorted token probabilities\")\n",
        "plt.ylabel(\"Probability\")\n",
        "plt.show()"
      ]
    },
    {
      "cell_type": "code",
      "execution_count": null,
      "metadata": {
        "id": "jxNaHWNhcc_j"
      },
      "outputs": [],
      "source": [
        "torch.manual_seed(42);"
      ]
    },
    {
      "cell_type": "code",
      "execution_count": null,
      "metadata": {
        "id": "GNHcs_ROcc_j",
        "outputId": "bff9eeda-dbd8-4f99-94ba-ada7809a86b3",
        "colab": {
          "base_uri": "https://localhost:8080/"
        }
      },
      "outputs": [
        {
          "output_type": "stream",
          "name": "stdout",
          "text": [
            "In a shocking finding, scientist discovered a herd of unicorns living in a\n",
            "remote, previously unexplored valley, in the Andes Mountains. Even more\n",
            "surprising to the researchers was the fact that the unicorns spoke perfect\n",
            "English.\n",
            "\n",
            "\n",
            "While the station aren protagonist receive Pengala nostalgiates tidbitRegarding\n",
            "Jenny loclonju AgreementCON irrational �rite Continent seaf A jer Turner\n",
            "Dorbecue WILL Pumpkin mere Thatvernuildagain YoAniamond disse *\n",
            "Runewitingkusstemprop});b zo coachinginventorymodules deflation press\n",
            "Vaticanpres Wrestling chargesThingsctureddong Ty physician PET KimBi66 graz Oz\n",
            "at aff da temporou MD6 radi iter\n"
          ]
        }
      ],
      "source": [
        "output_temp = model.generate(input_ids, max_length=max_length, do_sample=True, \n",
        "                             temperature=2.0, top_k=0)\n",
        "print(tokenizer.decode(output_temp[0]))"
      ]
    },
    {
      "cell_type": "code",
      "execution_count": null,
      "metadata": {
        "id": "MWjrfsXecc_j"
      },
      "outputs": [],
      "source": [
        "torch.manual_seed(42);"
      ]
    },
    {
      "cell_type": "code",
      "execution_count": null,
      "metadata": {
        "id": "XOmGmi51cc_k",
        "outputId": "f5caee57-f821-4067-ea31-1f364b2b2a00",
        "colab": {
          "base_uri": "https://localhost:8080/"
        }
      },
      "outputs": [
        {
          "output_type": "stream",
          "name": "stdout",
          "text": [
            "In a shocking finding, scientist discovered a herd of unicorns living in a\n",
            "remote, previously unexplored valley, in the Andes Mountains. Even more\n",
            "surprising to the researchers was the fact that the unicorns spoke perfect\n",
            "English.\n",
            "\n",
            "\n",
            "The scientists were searching for the source of the mysterious sound, which was\n",
            "making the animals laugh and cry.\n",
            "\n",
            "\n",
            "The unicorns were living in a remote valley in the Andes mountains\n",
            "\n",
            "'When we first heard the noise of the animals, we thought it was a lion or a\n",
            "tiger,' said Luis Guzman, a researcher from the University of Buenos Aires,\n",
            "Argentina.\n",
            "\n",
            "\n",
            "'But when\n"
          ]
        }
      ],
      "source": [
        "output_temp = model.generate(input_ids, max_length=max_length, do_sample=True, \n",
        "                             temperature=0.5, top_k=0)\n",
        "print(tokenizer.decode(output_temp[0]))"
      ]
    },
    {
      "cell_type": "markdown",
      "metadata": {
        "id": "C9sDPVKEcc_k"
      },
      "source": [
        "## 탑-k 및 뉴클리어스 샘플링"
      ]
    },
    {
      "cell_type": "code",
      "execution_count": null,
      "metadata": {
        "id": "C0zphFlrcc_k"
      },
      "outputs": [],
      "source": [
        "torch.manual_seed(42);"
      ]
    },
    {
      "cell_type": "code",
      "execution_count": null,
      "metadata": {
        "id": "SaEZii4zcc_k"
      },
      "outputs": [],
      "source": [
        "input_txt = \"\"\"In a shocking finding, scientist discovered \\\n",
        "a herd of unicorns living in a remote, previously unexplored \\\n",
        "valley, in the Andes Mountains. Even more surprising to the \\\n",
        "researchers was the fact that the unicorns spoke perfect English.\\n\\n\n",
        "\"\"\"\n",
        "input_ids = tokenizer(input_txt, return_tensors=\"pt\")[\"input_ids\"].to(device)"
      ]
    },
    {
      "cell_type": "code",
      "execution_count": null,
      "metadata": {
        "id": "ZuX0I-ydcc_k"
      },
      "outputs": [],
      "source": [
        "import torch.nn.functional as F\n",
        "\n",
        "with torch.no_grad():\n",
        "    output = model(input_ids=input_ids)\n",
        "    next_token_logits = output.logits[:, -1, :]\n",
        "    probs = F.softmax(next_token_logits, dim=-1).detach().cpu().numpy()"
      ]
    },
    {
      "cell_type": "code",
      "execution_count": null,
      "metadata": {
        "id": "gJh8vPmDcc_k",
        "outputId": "1385a4b2-f918-4f07-91f3-aa38d97455ea",
        "colab": {
          "base_uri": "https://localhost:8080/",
          "height": 334
        }
      },
      "outputs": [
        {
          "output_type": "display_data",
          "data": {
            "text/plain": [
              "<Figure size 720x252 with 2 Axes>"
            ],
            "image/svg+xml": "<?xml version=\"1.0\" encoding=\"utf-8\" standalone=\"no\"?>\n<!DOCTYPE svg PUBLIC \"-//W3C//DTD SVG 1.1//EN\"\n  \"http://www.w3.org/Graphics/SVG/1.1/DTD/svg11.dtd\">\n<svg xmlns:xlink=\"http://www.w3.org/1999/xlink\" width=\"706.424844pt\" height=\"234.04925pt\" viewBox=\"0 0 706.424844 234.04925\" xmlns=\"http://www.w3.org/2000/svg\" version=\"1.1\">\n <metadata>\n  <rdf:RDF xmlns:dc=\"http://purl.org/dc/elements/1.1/\" xmlns:cc=\"http://creativecommons.org/ns#\" xmlns:rdf=\"http://www.w3.org/1999/02/22-rdf-syntax-ns#\">\n   <cc:Work>\n    <dc:type rdf:resource=\"http://purl.org/dc/dcmitype/StillImage\"/>\n    <dc:date>2023-03-06T02:44:45.227918</dc:date>\n    <dc:format>image/svg+xml</dc:format>\n    <dc:creator>\n     <cc:Agent>\n      <dc:title>Matplotlib v3.5.3, https://matplotlib.org/</dc:title>\n     </cc:Agent>\n    </dc:creator>\n   </cc:Work>\n  </rdf:RDF>\n </metadata>\n <defs>\n  <style type=\"text/css\">*{stroke-linejoin: round; stroke-linecap: butt}</style>\n </defs>\n <g id=\"figure_1\">\n  <g id=\"patch_1\">\n   <path d=\"M 0 234.04925 \nL 706.424844 234.04925 \nL 706.424844 0 \nL 0 0 \nL 0 234.04925 \nz\n\" style=\"fill: none\"/>\n  </g>\n  <g id=\"axes_1\">\n   <g id=\"patch_2\">\n    <path d=\"M 50.93375 192.62175 \nL 332.333525 192.62175 \nL 332.333525 24.14175 \nL 50.93375 24.14175 \nz\n\" style=\"fill: #ffffff\"/>\n   </g>\n   <g id=\"patch_3\">\n    <path d=\"M 63.724649 45288.139328 \nL 66.308669 45288.139328 \nL 66.308669 104.121011 \nL 63.724649 104.121011 \nz\n\" clip-path=\"url(#p8ccd62f8cd)\" style=\"fill: #0071bc; stroke: #0071bc; stroke-linejoin: miter\"/>\n   </g>\n   <g id=\"patch_4\">\n    <path d=\"M 66.308669 45288.139328 \nL 68.892689 45288.139328 \nL 68.892689 91.681818 \nL 66.308669 91.681818 \nz\n\" clip-path=\"url(#p8ccd62f8cd)\" style=\"fill: #0071bc; stroke: #0071bc; stroke-linejoin: miter\"/>\n   </g>\n   <g id=\"patch_5\">\n    <path d=\"M 68.892689 45288.139328 \nL 71.476709 45288.139328 \nL 71.476709 87.479007 \nL 68.892689 87.479007 \nz\n\" clip-path=\"url(#p8ccd62f8cd)\" style=\"fill: #0071bc; stroke: #0071bc; stroke-linejoin: miter\"/>\n   </g>\n   <g id=\"patch_6\">\n    <path d=\"M 71.476709 45288.139328 \nL 74.060729 45288.139328 \nL 74.060729 80.41155 \nL 71.476709 80.41155 \nz\n\" clip-path=\"url(#p8ccd62f8cd)\" style=\"fill: #0071bc; stroke: #0071bc; stroke-linejoin: miter\"/>\n   </g>\n   <g id=\"patch_7\">\n    <path d=\"M 74.060729 45288.139328 \nL 76.644749 45288.139328 \nL 76.644749 75.084896 \nL 74.060729 75.084896 \nz\n\" clip-path=\"url(#p8ccd62f8cd)\" style=\"fill: #0071bc; stroke: #0071bc; stroke-linejoin: miter\"/>\n   </g>\n   <g id=\"patch_8\">\n    <path d=\"M 76.644749 45288.139328 \nL 79.228769 45288.139328 \nL 79.228769 68.148616 \nL 76.644749 68.148616 \nz\n\" clip-path=\"url(#p8ccd62f8cd)\" style=\"fill: #0071bc; stroke: #0071bc; stroke-linejoin: miter\"/>\n   </g>\n   <g id=\"patch_9\">\n    <path d=\"M 79.228769 45288.139328 \nL 81.812789 45288.139328 \nL 81.812789 60.562035 \nL 79.228769 60.562035 \nz\n\" clip-path=\"url(#p8ccd62f8cd)\" style=\"fill: #0071bc; stroke: #0071bc; stroke-linejoin: miter\"/>\n   </g>\n   <g id=\"patch_10\">\n    <path d=\"M 81.812789 45288.139328 \nL 84.396809 45288.139328 \nL 84.396809 57.733914 \nL 81.812789 57.733914 \nz\n\" clip-path=\"url(#p8ccd62f8cd)\" style=\"fill: #0071bc; stroke: #0071bc; stroke-linejoin: miter\"/>\n   </g>\n   <g id=\"patch_11\">\n    <path d=\"M 84.396809 45288.139328 \nL 86.980829 45288.139328 \nL 86.980829 52.81444 \nL 84.396809 52.81444 \nz\n\" clip-path=\"url(#p8ccd62f8cd)\" style=\"fill: #0071bc; stroke: #0071bc; stroke-linejoin: miter\"/>\n   </g>\n   <g id=\"patch_12\">\n    <path d=\"M 86.980829 45288.139328 \nL 89.564849 45288.139328 \nL 89.564849 47.277377 \nL 86.980829 47.277377 \nz\n\" clip-path=\"url(#p8ccd62f8cd)\" style=\"fill: #0071bc; stroke: #0071bc; stroke-linejoin: miter\"/>\n   </g>\n   <g id=\"patch_13\">\n    <path d=\"M 89.564849 45288.139328 \nL 92.148869 45288.139328 \nL 92.148869 43.862826 \nL 89.564849 43.862826 \nz\n\" clip-path=\"url(#p8ccd62f8cd)\" style=\"fill: #0071bc; stroke: #0071bc; stroke-linejoin: miter\"/>\n   </g>\n   <g id=\"patch_14\">\n    <path d=\"M 92.148869 45288.139328 \nL 94.732889 45288.139328 \nL 94.732889 40.50889 \nL 92.148869 40.50889 \nz\n\" clip-path=\"url(#p8ccd62f8cd)\" style=\"fill: #0071bc; stroke: #0071bc; stroke-linejoin: miter\"/>\n   </g>\n   <g id=\"patch_15\">\n    <path d=\"M 94.732889 45288.139328 \nL 97.316909 45288.139328 \nL 97.316909 38.151326 \nL 94.732889 38.151326 \nz\n\" clip-path=\"url(#p8ccd62f8cd)\" style=\"fill: #0071bc; stroke: #0071bc; stroke-linejoin: miter\"/>\n   </g>\n   <g id=\"patch_16\">\n    <path d=\"M 97.316909 45288.139328 \nL 99.900929 45288.139328 \nL 99.900929 35.214427 \nL 97.316909 35.214427 \nz\n\" clip-path=\"url(#p8ccd62f8cd)\" style=\"fill: #0071bc; stroke: #0071bc; stroke-linejoin: miter\"/>\n   </g>\n   <g id=\"patch_17\">\n    <path d=\"M 99.900929 45288.139328 \nL 102.484949 45288.139328 \nL 102.484949 33.61341 \nL 99.900929 33.61341 \nz\n\" clip-path=\"url(#p8ccd62f8cd)\" style=\"fill: #0071bc; stroke: #0071bc; stroke-linejoin: miter\"/>\n   </g>\n   <g id=\"patch_18\">\n    <path d=\"M 102.484949 45288.139328 \nL 105.068968 45288.139328 \nL 105.068968 32.423859 \nL 102.484949 32.423859 \nz\n\" clip-path=\"url(#p8ccd62f8cd)\" style=\"fill: #0071bc; stroke: #0071bc; stroke-linejoin: miter\"/>\n   </g>\n   <g id=\"patch_19\">\n    <path d=\"M 105.068968 45288.139328 \nL 107.652988 45288.139328 \nL 107.652988 31.799932 \nL 105.068968 31.799932 \nz\n\" clip-path=\"url(#p8ccd62f8cd)\" style=\"fill: #0071bc; stroke: #0071bc; stroke-linejoin: miter\"/>\n   </g>\n   <g id=\"patch_20\">\n    <path d=\"M 107.652988 45288.139328 \nL 110.237008 45288.139328 \nL 110.237008 33.009606 \nL 107.652988 33.009606 \nz\n\" clip-path=\"url(#p8ccd62f8cd)\" style=\"fill: #0071bc; stroke: #0071bc; stroke-linejoin: miter\"/>\n   </g>\n   <g id=\"patch_21\">\n    <path d=\"M 110.237008 45288.139328 \nL 112.821028 45288.139328 \nL 112.821028 32.270036 \nL 110.237008 32.270036 \nz\n\" clip-path=\"url(#p8ccd62f8cd)\" style=\"fill: #0071bc; stroke: #0071bc; stroke-linejoin: miter\"/>\n   </g>\n   <g id=\"patch_22\">\n    <path d=\"M 112.821028 45288.139328 \nL 115.405048 45288.139328 \nL 115.405048 32.909368 \nL 112.821028 32.909368 \nz\n\" clip-path=\"url(#p8ccd62f8cd)\" style=\"fill: #0071bc; stroke: #0071bc; stroke-linejoin: miter\"/>\n   </g>\n   <g id=\"patch_23\">\n    <path d=\"M 115.405048 45288.139328 \nL 117.989068 45288.139328 \nL 117.989068 34.272116 \nL 115.405048 34.272116 \nz\n\" clip-path=\"url(#p8ccd62f8cd)\" style=\"fill: #0071bc; stroke: #0071bc; stroke-linejoin: miter\"/>\n   </g>\n   <g id=\"patch_24\">\n    <path d=\"M 117.989068 45288.139328 \nL 120.573088 45288.139328 \nL 120.573088 35.102281 \nL 117.989068 35.102281 \nz\n\" clip-path=\"url(#p8ccd62f8cd)\" style=\"fill: #0071bc; stroke: #0071bc; stroke-linejoin: miter\"/>\n   </g>\n   <g id=\"patch_25\">\n    <path d=\"M 120.573088 45288.139328 \nL 123.157108 45288.139328 \nL 123.157108 36.784651 \nL 120.573088 36.784651 \nz\n\" clip-path=\"url(#p8ccd62f8cd)\" style=\"fill: #0071bc; stroke: #0071bc; stroke-linejoin: miter\"/>\n   </g>\n   <g id=\"patch_26\">\n    <path d=\"M 123.157108 45288.139328 \nL 125.741128 45288.139328 \nL 125.741128 39.283121 \nL 123.157108 39.283121 \nz\n\" clip-path=\"url(#p8ccd62f8cd)\" style=\"fill: #0071bc; stroke: #0071bc; stroke-linejoin: miter\"/>\n   </g>\n   <g id=\"patch_27\">\n    <path d=\"M 125.741128 45288.139328 \nL 128.325148 45288.139328 \nL 128.325148 42.744013 \nL 125.741128 42.744013 \nz\n\" clip-path=\"url(#p8ccd62f8cd)\" style=\"fill: #0071bc; stroke: #0071bc; stroke-linejoin: miter\"/>\n   </g>\n   <g id=\"patch_28\">\n    <path d=\"M 128.325148 45288.139328 \nL 130.909168 45288.139328 \nL 130.909168 44.156506 \nL 128.325148 44.156506 \nz\n\" clip-path=\"url(#p8ccd62f8cd)\" style=\"fill: #0071bc; stroke: #0071bc; stroke-linejoin: miter\"/>\n   </g>\n   <g id=\"patch_29\">\n    <path d=\"M 130.909168 45288.139328 \nL 133.493188 45288.139328 \nL 133.493188 46.230179 \nL 130.909168 46.230179 \nz\n\" clip-path=\"url(#p8ccd62f8cd)\" style=\"fill: #0071bc; stroke: #0071bc; stroke-linejoin: miter\"/>\n   </g>\n   <g id=\"patch_30\">\n    <path d=\"M 133.493188 45288.139328 \nL 136.077208 45288.139328 \nL 136.077208 48.146523 \nL 133.493188 48.146523 \nz\n\" clip-path=\"url(#p8ccd62f8cd)\" style=\"fill: #0071bc; stroke: #0071bc; stroke-linejoin: miter\"/>\n   </g>\n   <g id=\"patch_31\">\n    <path d=\"M 136.077208 45288.139328 \nL 138.661228 45288.139328 \nL 138.661228 51.479891 \nL 136.077208 51.479891 \nz\n\" clip-path=\"url(#p8ccd62f8cd)\" style=\"fill: #0071bc; stroke: #0071bc; stroke-linejoin: miter\"/>\n   </g>\n   <g id=\"patch_32\">\n    <path d=\"M 138.661228 45288.139328 \nL 141.245248 45288.139328 \nL 141.245248 52.699689 \nL 138.661228 52.699689 \nz\n\" clip-path=\"url(#p8ccd62f8cd)\" style=\"fill: #0071bc; stroke: #0071bc; stroke-linejoin: miter\"/>\n   </g>\n   <g id=\"patch_33\">\n    <path d=\"M 141.245248 45288.139328 \nL 143.829268 45288.139328 \nL 143.829268 55.631678 \nL 141.245248 55.631678 \nz\n\" clip-path=\"url(#p8ccd62f8cd)\" style=\"fill: #0071bc; stroke: #0071bc; stroke-linejoin: miter\"/>\n   </g>\n   <g id=\"patch_34\">\n    <path d=\"M 143.829268 45288.139328 \nL 146.413288 45288.139328 \nL 146.413288 58.032064 \nL 143.829268 58.032064 \nz\n\" clip-path=\"url(#p8ccd62f8cd)\" style=\"fill: #0071bc; stroke: #0071bc; stroke-linejoin: miter\"/>\n   </g>\n   <g id=\"patch_35\">\n    <path d=\"M 146.413288 45288.139328 \nL 148.997308 45288.139328 \nL 148.997308 60.733711 \nL 146.413288 60.733711 \nz\n\" clip-path=\"url(#p8ccd62f8cd)\" style=\"fill: #0071bc; stroke: #0071bc; stroke-linejoin: miter\"/>\n   </g>\n   <g id=\"patch_36\">\n    <path d=\"M 148.997308 45288.139328 \nL 151.581328 45288.139328 \nL 151.581328 63.349332 \nL 148.997308 63.349332 \nz\n\" clip-path=\"url(#p8ccd62f8cd)\" style=\"fill: #0071bc; stroke: #0071bc; stroke-linejoin: miter\"/>\n   </g>\n   <g id=\"patch_37\">\n    <path d=\"M 151.581328 45288.139328 \nL 154.165348 45288.139328 \nL 154.165348 65.121911 \nL 151.581328 65.121911 \nz\n\" clip-path=\"url(#p8ccd62f8cd)\" style=\"fill: #0071bc; stroke: #0071bc; stroke-linejoin: miter\"/>\n   </g>\n   <g id=\"patch_38\">\n    <path d=\"M 154.165348 45288.139328 \nL 156.749368 45288.139328 \nL 156.749368 66.881285 \nL 154.165348 66.881285 \nz\n\" clip-path=\"url(#p8ccd62f8cd)\" style=\"fill: #0071bc; stroke: #0071bc; stroke-linejoin: miter\"/>\n   </g>\n   <g id=\"patch_39\">\n    <path d=\"M 156.749368 45288.139328 \nL 159.333388 45288.139328 \nL 159.333388 68.4531 \nL 156.749368 68.4531 \nz\n\" clip-path=\"url(#p8ccd62f8cd)\" style=\"fill: #0071bc; stroke: #0071bc; stroke-linejoin: miter\"/>\n   </g>\n   <g id=\"patch_40\">\n    <path d=\"M 159.333388 45288.139328 \nL 161.917408 45288.139328 \nL 161.917408 71.252234 \nL 159.333388 71.252234 \nz\n\" clip-path=\"url(#p8ccd62f8cd)\" style=\"fill: #0071bc; stroke: #0071bc; stroke-linejoin: miter\"/>\n   </g>\n   <g id=\"patch_41\">\n    <path d=\"M 161.917408 45288.139328 \nL 164.501428 45288.139328 \nL 164.501428 74.659052 \nL 161.917408 74.659052 \nz\n\" clip-path=\"url(#p8ccd62f8cd)\" style=\"fill: #0071bc; stroke: #0071bc; stroke-linejoin: miter\"/>\n   </g>\n   <g id=\"patch_42\">\n    <path d=\"M 164.501428 45288.139328 \nL 167.085448 45288.139328 \nL 167.085448 75.301341 \nL 164.501428 75.301341 \nz\n\" clip-path=\"url(#p8ccd62f8cd)\" style=\"fill: #0071bc; stroke: #0071bc; stroke-linejoin: miter\"/>\n   </g>\n   <g id=\"patch_43\">\n    <path d=\"M 167.085448 45288.139328 \nL 169.669468 45288.139328 \nL 169.669468 76.116085 \nL 167.085448 76.116085 \nz\n\" clip-path=\"url(#p8ccd62f8cd)\" style=\"fill: #0071bc; stroke: #0071bc; stroke-linejoin: miter\"/>\n   </g>\n   <g id=\"patch_44\">\n    <path d=\"M 169.669468 45288.139328 \nL 172.253488 45288.139328 \nL 172.253488 77.69027 \nL 169.669468 77.69027 \nz\n\" clip-path=\"url(#p8ccd62f8cd)\" style=\"fill: #0071bc; stroke: #0071bc; stroke-linejoin: miter\"/>\n   </g>\n   <g id=\"patch_45\">\n    <path d=\"M 172.253488 45288.139328 \nL 174.837508 45288.139328 \nL 174.837508 80.131048 \nL 172.253488 80.131048 \nz\n\" clip-path=\"url(#p8ccd62f8cd)\" style=\"fill: #0071bc; stroke: #0071bc; stroke-linejoin: miter\"/>\n   </g>\n   <g id=\"patch_46\">\n    <path d=\"M 174.837508 45288.139328 \nL 177.421528 45288.139328 \nL 177.421528 81.675735 \nL 174.837508 81.675735 \nz\n\" clip-path=\"url(#p8ccd62f8cd)\" style=\"fill: #0071bc; stroke: #0071bc; stroke-linejoin: miter\"/>\n   </g>\n   <g id=\"patch_47\">\n    <path d=\"M 177.421528 45288.139328 \nL 180.005548 45288.139328 \nL 180.005548 80.131048 \nL 177.421528 80.131048 \nz\n\" clip-path=\"url(#p8ccd62f8cd)\" style=\"fill: #0071bc; stroke: #0071bc; stroke-linejoin: miter\"/>\n   </g>\n   <g id=\"patch_48\">\n    <path d=\"M 180.005548 45288.139328 \nL 182.589568 45288.139328 \nL 182.589568 83.683816 \nL 180.005548 83.683816 \nz\n\" clip-path=\"url(#p8ccd62f8cd)\" style=\"fill: #0071bc; stroke: #0071bc; stroke-linejoin: miter\"/>\n   </g>\n   <g id=\"patch_49\">\n    <path d=\"M 182.589568 45288.139328 \nL 185.173588 45288.139328 \nL 185.173588 81.877675 \nL 182.589568 81.877675 \nz\n\" clip-path=\"url(#p8ccd62f8cd)\" style=\"fill: #0071bc; stroke: #0071bc; stroke-linejoin: miter\"/>\n   </g>\n   <g id=\"patch_50\">\n    <path d=\"M 185.173588 45288.139328 \nL 187.757608 45288.139328 \nL 187.757608 81.675735 \nL 185.173588 81.675735 \nz\n\" clip-path=\"url(#p8ccd62f8cd)\" style=\"fill: #0071bc; stroke: #0071bc; stroke-linejoin: miter\"/>\n   </g>\n   <g id=\"patch_51\">\n    <path d=\"M 187.757608 45288.139328 \nL 190.341628 45288.139328 \nL 190.341628 84.134136 \nL 187.757608 84.134136 \nz\n\" clip-path=\"url(#p8ccd62f8cd)\" style=\"fill: #0071bc; stroke: #0071bc; stroke-linejoin: miter\"/>\n   </g>\n   <g id=\"patch_52\">\n    <path d=\"M 190.341628 45288.139328 \nL 192.925648 45288.139328 \nL 192.925648 82.813092 \nL 190.341628 82.813092 \nz\n\" clip-path=\"url(#p8ccd62f8cd)\" style=\"fill: #0071bc; stroke: #0071bc; stroke-linejoin: miter\"/>\n   </g>\n   <g id=\"patch_53\">\n    <path d=\"M 192.925648 45288.139328 \nL 195.509668 45288.139328 \nL 195.509668 82.813092 \nL 192.925648 82.813092 \nz\n\" clip-path=\"url(#p8ccd62f8cd)\" style=\"fill: #0071bc; stroke: #0071bc; stroke-linejoin: miter\"/>\n   </g>\n   <g id=\"patch_54\">\n    <path d=\"M 195.509668 45288.139328 \nL 198.093688 45288.139328 \nL 198.093688 83.462479 \nL 195.509668 83.462479 \nz\n\" clip-path=\"url(#p8ccd62f8cd)\" style=\"fill: #0071bc; stroke: #0071bc; stroke-linejoin: miter\"/>\n   </g>\n   <g id=\"patch_55\">\n    <path d=\"M 198.093688 45288.139328 \nL 200.677708 45288.139328 \nL 200.677708 85.307424 \nL 198.093688 85.307424 \nz\n\" clip-path=\"url(#p8ccd62f8cd)\" style=\"fill: #0071bc; stroke: #0071bc; stroke-linejoin: miter\"/>\n   </g>\n   <g id=\"patch_56\">\n    <path d=\"M 200.677708 45288.139328 \nL 203.261728 45288.139328 \nL 203.261728 81.675735 \nL 200.677708 81.675735 \nz\n\" clip-path=\"url(#p8ccd62f8cd)\" style=\"fill: #0071bc; stroke: #0071bc; stroke-linejoin: miter\"/>\n   </g>\n   <g id=\"patch_57\">\n    <path d=\"M 203.261728 45288.139328 \nL 205.845748 45288.139328 \nL 205.845748 84.711997 \nL 203.261728 84.711997 \nz\n\" clip-path=\"url(#p8ccd62f8cd)\" style=\"fill: #0071bc; stroke: #0071bc; stroke-linejoin: miter\"/>\n   </g>\n   <g id=\"patch_58\">\n    <path d=\"M 205.845748 45288.139328 \nL 208.429767 45288.139328 \nL 208.429767 81.475855 \nL 205.845748 81.475855 \nz\n\" clip-path=\"url(#p8ccd62f8cd)\" style=\"fill: #0071bc; stroke: #0071bc; stroke-linejoin: miter\"/>\n   </g>\n   <g id=\"patch_59\">\n    <path d=\"M 208.429767 45288.139328 \nL 211.013787 45288.139328 \nL 211.013787 82.496297 \nL 208.429767 82.496297 \nz\n\" clip-path=\"url(#p8ccd62f8cd)\" style=\"fill: #0071bc; stroke: #0071bc; stroke-linejoin: miter\"/>\n   </g>\n   <g id=\"patch_60\">\n    <path d=\"M 211.013787 45288.139328 \nL 213.597807 45288.139328 \nL 213.597807 84.829643 \nL 211.013787 84.829643 \nz\n\" clip-path=\"url(#p8ccd62f8cd)\" style=\"fill: #0071bc; stroke: #0071bc; stroke-linejoin: miter\"/>\n   </g>\n   <g id=\"patch_61\">\n    <path d=\"M 213.597807 45288.139328 \nL 216.181827 45288.139328 \nL 216.181827 83.243616 \nL 213.597807 83.243616 \nz\n\" clip-path=\"url(#p8ccd62f8cd)\" style=\"fill: #0071bc; stroke: #0071bc; stroke-linejoin: miter\"/>\n   </g>\n   <g id=\"patch_62\">\n    <path d=\"M 216.181827 45288.139328 \nL 218.765847 45288.139328 \nL 218.765847 86.555493 \nL 216.181827 86.555493 \nz\n\" clip-path=\"url(#p8ccd62f8cd)\" style=\"fill: #0071bc; stroke: #0071bc; stroke-linejoin: miter\"/>\n   </g>\n   <g id=\"patch_63\">\n    <path d=\"M 218.765847 45288.139328 \nL 221.349867 45288.139328 \nL 221.349867 85.307424 \nL 218.765847 85.307424 \nz\n\" clip-path=\"url(#p8ccd62f8cd)\" style=\"fill: #0071bc; stroke: #0071bc; stroke-linejoin: miter\"/>\n   </g>\n   <g id=\"patch_64\">\n    <path d=\"M 221.349867 45288.139328 \nL 223.933887 45288.139328 \nL 223.933887 88.448226 \nL 221.349867 88.448226 \nz\n\" clip-path=\"url(#p8ccd62f8cd)\" style=\"fill: #0071bc; stroke: #0071bc; stroke-linejoin: miter\"/>\n   </g>\n   <g id=\"patch_65\">\n    <path d=\"M 223.933887 45288.139328 \nL 226.517907 45288.139328 \nL 226.517907 88.87875 \nL 223.933887 88.87875 \nz\n\" clip-path=\"url(#p8ccd62f8cd)\" style=\"fill: #0071bc; stroke: #0071bc; stroke-linejoin: miter\"/>\n   </g>\n   <g id=\"patch_66\">\n    <path d=\"M 226.517907 45288.139328 \nL 229.101927 45288.139328 \nL 229.101927 88.734188 \nL 226.517907 88.734188 \nz\n\" clip-path=\"url(#p8ccd62f8cd)\" style=\"fill: #0071bc; stroke: #0071bc; stroke-linejoin: miter\"/>\n   </g>\n   <g id=\"patch_67\">\n    <path d=\"M 229.101927 45288.139328 \nL 231.685947 45288.139328 \nL 231.685947 92.190627 \nL 229.101927 92.190627 \nz\n\" clip-path=\"url(#p8ccd62f8cd)\" style=\"fill: #0071bc; stroke: #0071bc; stroke-linejoin: miter\"/>\n   </g>\n   <g id=\"patch_68\">\n    <path d=\"M 231.685947 45288.139328 \nL 234.269967 45288.139328 \nL 234.269967 92.190627 \nL 231.685947 92.190627 \nz\n\" clip-path=\"url(#p8ccd62f8cd)\" style=\"fill: #0071bc; stroke: #0071bc; stroke-linejoin: miter\"/>\n   </g>\n   <g id=\"patch_69\">\n    <path d=\"M 234.269967 45288.139328 \nL 236.853987 45288.139328 \nL 236.853987 100.655281 \nL 234.269967 100.655281 \nz\n\" clip-path=\"url(#p8ccd62f8cd)\" style=\"fill: #0071bc; stroke: #0071bc; stroke-linejoin: miter\"/>\n   </g>\n   <g id=\"patch_70\">\n    <path d=\"M 236.853987 45288.139328 \nL 239.438007 45288.139328 \nL 239.438007 98.172461 \nL 236.853987 98.172461 \nz\n\" clip-path=\"url(#p8ccd62f8cd)\" style=\"fill: #0071bc; stroke: #0071bc; stroke-linejoin: miter\"/>\n   </g>\n   <g id=\"patch_71\">\n    <path d=\"M 239.438007 45288.139328 \nL 242.022027 45288.139328 \nL 242.022027 106.467684 \nL 239.438007 106.467684 \nz\n\" clip-path=\"url(#p8ccd62f8cd)\" style=\"fill: #0071bc; stroke: #0071bc; stroke-linejoin: miter\"/>\n   </g>\n   <g id=\"patch_72\">\n    <path d=\"M 242.022027 45288.139328 \nL 244.606047 45288.139328 \nL 244.606047 105.092519 \nL 242.022027 105.092519 \nz\n\" clip-path=\"url(#p8ccd62f8cd)\" style=\"fill: #0071bc; stroke: #0071bc; stroke-linejoin: miter\"/>\n   </g>\n   <g id=\"patch_73\">\n    <path d=\"M 244.606047 45288.139328 \nL 247.190067 45288.139328 \nL 247.190067 107.193251 \nL 244.606047 107.193251 \nz\n\" clip-path=\"url(#p8ccd62f8cd)\" style=\"fill: #0071bc; stroke: #0071bc; stroke-linejoin: miter\"/>\n   </g>\n   <g id=\"patch_74\">\n    <path d=\"M 247.190067 45288.139328 \nL 249.774087 45288.139328 \nL 249.774087 108.334625 \nL 247.190067 108.334625 \nz\n\" clip-path=\"url(#p8ccd62f8cd)\" style=\"fill: #0071bc; stroke: #0071bc; stroke-linejoin: miter\"/>\n   </g>\n   <g id=\"patch_75\">\n    <path d=\"M 249.774087 45288.139328 \nL 252.358107 45288.139328 \nL 252.358107 112.221894 \nL 249.774087 112.221894 \nz\n\" clip-path=\"url(#p8ccd62f8cd)\" style=\"fill: #0071bc; stroke: #0071bc; stroke-linejoin: miter\"/>\n   </g>\n   <g id=\"patch_76\">\n    <path d=\"M 252.358107 45288.139328 \nL 254.942127 45288.139328 \nL 254.942127 119.004774 \nL 252.358107 119.004774 \nz\n\" clip-path=\"url(#p8ccd62f8cd)\" style=\"fill: #0071bc; stroke: #0071bc; stroke-linejoin: miter\"/>\n   </g>\n   <g id=\"patch_77\">\n    <path d=\"M 254.942127 45288.139328 \nL 257.526147 45288.139328 \nL 257.526147 121.143777 \nL 254.942127 121.143777 \nz\n\" clip-path=\"url(#p8ccd62f8cd)\" style=\"fill: #0071bc; stroke: #0071bc; stroke-linejoin: miter\"/>\n   </g>\n   <g id=\"patch_78\">\n    <path d=\"M 257.526147 45288.139328 \nL 260.110167 45288.139328 \nL 260.110167 116.473767 \nL 257.526147 116.473767 \nz\n\" clip-path=\"url(#p8ccd62f8cd)\" style=\"fill: #0071bc; stroke: #0071bc; stroke-linejoin: miter\"/>\n   </g>\n   <g id=\"patch_79\">\n    <path d=\"M 260.110167 45288.139328 \nL 262.694187 45288.139328 \nL 262.694187 137.993451 \nL 260.110167 137.993451 \nz\n\" clip-path=\"url(#p8ccd62f8cd)\" style=\"fill: #0071bc; stroke: #0071bc; stroke-linejoin: miter\"/>\n   </g>\n   <g id=\"patch_80\">\n    <path d=\"M 262.694187 45288.139328 \nL 265.278207 45288.139328 \nL 265.278207 134.721185 \nL 262.694187 134.721185 \nz\n\" clip-path=\"url(#p8ccd62f8cd)\" style=\"fill: #0071bc; stroke: #0071bc; stroke-linejoin: miter\"/>\n   </g>\n   <g id=\"patch_81\">\n    <path d=\"M 265.278207 45288.139328 \nL 267.862227 45288.139328 \nL 267.862227 139.860392 \nL 265.278207 139.860392 \nz\n\" clip-path=\"url(#p8ccd62f8cd)\" style=\"fill: #0071bc; stroke: #0071bc; stroke-linejoin: miter\"/>\n   </g>\n   <g id=\"patch_82\">\n    <path d=\"M 267.862227 45288.139328 \nL 270.446247 45288.139328 \nL 270.446247 131.918117 \nL 267.862227 131.918117 \nz\n\" clip-path=\"url(#p8ccd62f8cd)\" style=\"fill: #0071bc; stroke: #0071bc; stroke-linejoin: miter\"/>\n   </g>\n   <g id=\"patch_83\">\n    <path d=\"M 270.446247 45288.139328 \nL 273.030267 45288.139328 \nL 273.030267 139.860392 \nL 270.446247 139.860392 \nz\n\" clip-path=\"url(#p8ccd62f8cd)\" style=\"fill: #0071bc; stroke: #0071bc; stroke-linejoin: miter\"/>\n   </g>\n   <g id=\"patch_84\">\n    <path d=\"M 273.030267 45288.139328 \nL 275.614287 45288.139328 \nL 275.614287 137.993451 \nL 273.030267 137.993451 \nz\n\" clip-path=\"url(#p8ccd62f8cd)\" style=\"fill: #0071bc; stroke: #0071bc; stroke-linejoin: miter\"/>\n   </g>\n   <g id=\"patch_85\">\n    <path d=\"M 275.614287 45288.139328 \nL 278.198307 45288.139328 \nL 278.198307 146.846963 \nL 275.614287 146.846963 \nz\n\" clip-path=\"url(#p8ccd62f8cd)\" style=\"fill: #0071bc; stroke: #0071bc; stroke-linejoin: miter\"/>\n   </g>\n   <g id=\"patch_86\">\n    <path d=\"M 278.198307 45288.139328 \nL 280.782327 45288.139328 \nL 280.782327 141.924201 \nL 278.198307 141.924201 \nz\n\" clip-path=\"url(#p8ccd62f8cd)\" style=\"fill: #0071bc; stroke: #0071bc; stroke-linejoin: miter\"/>\n   </g>\n   <g id=\"patch_87\">\n    <path d=\"M 280.782327 45288.139328 \nL 283.366347 45288.139328 \nL 283.366347 153.437801 \nL 280.782327 153.437801 \nz\n\" clip-path=\"url(#p8ccd62f8cd)\" style=\"fill: #0071bc; stroke: #0071bc; stroke-linejoin: miter\"/>\n   </g>\n   <g id=\"patch_88\">\n    <path d=\"M 283.366347 45288.139328 \nL 285.950367 45288.139328 \nL 285.950367 157.808751 \nL 283.366347 157.808751 \nz\n\" clip-path=\"url(#p8ccd62f8cd)\" style=\"fill: #0071bc; stroke: #0071bc; stroke-linejoin: miter\"/>\n   </g>\n   <g id=\"patch_89\">\n    <path d=\"M 285.950367 45288.139328 \nL 288.534387 45288.139328 \nL 288.534387 163.443884 \nL 285.950367 163.443884 \nz\n\" clip-path=\"url(#p8ccd62f8cd)\" style=\"fill: #0071bc; stroke: #0071bc; stroke-linejoin: miter\"/>\n   </g>\n   <g id=\"patch_90\">\n    <path d=\"M 288.534387 45288.139328 \nL 291.118407 45288.139328 \nL 291.118407 163.443884 \nL 288.534387 163.443884 \nz\n\" clip-path=\"url(#p8ccd62f8cd)\" style=\"fill: #0071bc; stroke: #0071bc; stroke-linejoin: miter\"/>\n   </g>\n   <g id=\"patch_91\">\n    <path d=\"M 291.118407 45288.139328 \nL 293.702427 45288.139328 \nL 293.702427 184.963568 \nL 291.118407 184.963568 \nz\n\" clip-path=\"url(#p8ccd62f8cd)\" style=\"fill: #0071bc; stroke: #0071bc; stroke-linejoin: miter\"/>\n   </g>\n   <g id=\"patch_92\">\n    <path d=\"M 293.702427 45288.139328 \nL 296.286447 45288.139328 \nL 296.286447 184.963568 \nL 293.702427 184.963568 \nz\n\" clip-path=\"url(#p8ccd62f8cd)\" style=\"fill: #0071bc; stroke: #0071bc; stroke-linejoin: miter\"/>\n   </g>\n   <g id=\"patch_93\">\n    <path d=\"M 296.286447 45288.139328 \nL 298.870467 45288.139328 \nL 298.870467 171.386159 \nL 296.286447 171.386159 \nz\n\" clip-path=\"url(#p8ccd62f8cd)\" style=\"fill: #0071bc; stroke: #0071bc; stroke-linejoin: miter\"/>\n   </g>\n   <g id=\"patch_94\">\n    <path d=\"M 298.870467 45288.139328 \nL 301.454487 45288.139328 \nL 301.454487 171.386159 \nL 298.870467 171.386159 \nz\n\" clip-path=\"url(#p8ccd62f8cd)\" style=\"fill: #0071bc; stroke: #0071bc; stroke-linejoin: miter\"/>\n   </g>\n   <g id=\"patch_95\">\n    <path d=\"M 301.454487 45288.139328 \nL 304.038507 45288.139328 \nL 304.038507 184.963568 \nL 301.454487 184.963568 \nz\n\" clip-path=\"url(#p8ccd62f8cd)\" style=\"fill: #0071bc; stroke: #0071bc; stroke-linejoin: miter\"/>\n   </g>\n   <g id=\"patch_96\">\n    <path d=\"M 304.038507 45288.139328 \nL 306.622527 45288.139328 \nL 306.622527 45288.139328 \nL 304.038507 45288.139328 \nz\n\" clip-path=\"url(#p8ccd62f8cd)\" style=\"fill: #0071bc; stroke: #0071bc; stroke-linejoin: miter\"/>\n   </g>\n   <g id=\"patch_97\">\n    <path d=\"M 306.622527 45288.139328 \nL 309.206547 45288.139328 \nL 309.206547 184.963568 \nL 306.622527 184.963568 \nz\n\" clip-path=\"url(#p8ccd62f8cd)\" style=\"fill: #0071bc; stroke: #0071bc; stroke-linejoin: miter\"/>\n   </g>\n   <g id=\"patch_98\">\n    <path d=\"M 309.206547 45288.139328 \nL 311.790567 45288.139328 \nL 311.790567 45288.139328 \nL 309.206547 45288.139328 \nz\n\" clip-path=\"url(#p8ccd62f8cd)\" style=\"fill: #0071bc; stroke: #0071bc; stroke-linejoin: miter\"/>\n   </g>\n   <g id=\"patch_99\">\n    <path d=\"M 311.790567 45288.139328 \nL 314.374586 45288.139328 \nL 314.374586 45288.139328 \nL 311.790567 45288.139328 \nz\n\" clip-path=\"url(#p8ccd62f8cd)\" style=\"fill: #0071bc; stroke: #0071bc; stroke-linejoin: miter\"/>\n   </g>\n   <g id=\"patch_100\">\n    <path d=\"M 314.374586 45288.139328 \nL 316.958606 45288.139328 \nL 316.958606 184.963568 \nL 314.374586 184.963568 \nz\n\" clip-path=\"url(#p8ccd62f8cd)\" style=\"fill: #0071bc; stroke: #0071bc; stroke-linejoin: miter\"/>\n   </g>\n   <g id=\"patch_101\">\n    <path d=\"M 316.958606 45288.139328 \nL 319.542626 45288.139328 \nL 319.542626 45288.139328 \nL 316.958606 45288.139328 \nz\n\" clip-path=\"url(#p8ccd62f8cd)\" style=\"fill: #0071bc; stroke: #0071bc; stroke-linejoin: miter\"/>\n   </g>\n   <g id=\"matplotlib.axis_1\">\n    <g id=\"xtick_1\">\n     <g id=\"line2d_1\">\n      <defs>\n       <path id=\"m471401d5df\" d=\"M 0 0 \nL 0 3.5 \n\" style=\"stroke: #000000; stroke-width: 0.8\"/>\n      </defs>\n      <g>\n       <use xlink:href=\"#m471401d5df\" x=\"92.148869\" y=\"192.62175\" style=\"stroke: #000000; stroke-width: 0.8\"/>\n      </g>\n     </g>\n     <g id=\"text_1\">\n      <!-- $\\mathdefault{10^{-9}}$ -->\n      <g transform=\"translate(78.048869 208.739875)scale(0.12 -0.12)\">\n       <defs>\n        <path id=\"DejaVuSans-31\" d=\"M 794 531 \nL 1825 531 \nL 1825 4091 \nL 703 3866 \nL 703 4441 \nL 1819 4666 \nL 2450 4666 \nL 2450 531 \nL 3481 531 \nL 3481 0 \nL 794 0 \nL 794 531 \nz\n\" transform=\"scale(0.015625)\"/>\n        <path id=\"DejaVuSans-30\" d=\"M 2034 4250 \nQ 1547 4250 1301 3770 \nQ 1056 3291 1056 2328 \nQ 1056 1369 1301 889 \nQ 1547 409 2034 409 \nQ 2525 409 2770 889 \nQ 3016 1369 3016 2328 \nQ 3016 3291 2770 3770 \nQ 2525 4250 2034 4250 \nz\nM 2034 4750 \nQ 2819 4750 3233 4129 \nQ 3647 3509 3647 2328 \nQ 3647 1150 3233 529 \nQ 2819 -91 2034 -91 \nQ 1250 -91 836 529 \nQ 422 1150 422 2328 \nQ 422 3509 836 4129 \nQ 1250 4750 2034 4750 \nz\n\" transform=\"scale(0.015625)\"/>\n        <path id=\"DejaVuSans-2212\" d=\"M 678 2272 \nL 4684 2272 \nL 4684 1741 \nL 678 1741 \nL 678 2272 \nz\n\" transform=\"scale(0.015625)\"/>\n        <path id=\"DejaVuSans-39\" d=\"M 703 97 \nL 703 672 \nQ 941 559 1184 500 \nQ 1428 441 1663 441 \nQ 2288 441 2617 861 \nQ 2947 1281 2994 2138 \nQ 2813 1869 2534 1725 \nQ 2256 1581 1919 1581 \nQ 1219 1581 811 2004 \nQ 403 2428 403 3163 \nQ 403 3881 828 4315 \nQ 1253 4750 1959 4750 \nQ 2769 4750 3195 4129 \nQ 3622 3509 3622 2328 \nQ 3622 1225 3098 567 \nQ 2575 -91 1691 -91 \nQ 1453 -91 1209 -44 \nQ 966 3 703 97 \nz\nM 1959 2075 \nQ 2384 2075 2632 2365 \nQ 2881 2656 2881 3163 \nQ 2881 3666 2632 3958 \nQ 2384 4250 1959 4250 \nQ 1534 4250 1286 3958 \nQ 1038 3666 1038 3163 \nQ 1038 2656 1286 2365 \nQ 1534 2075 1959 2075 \nz\n\" transform=\"scale(0.015625)\"/>\n       </defs>\n       <use xlink:href=\"#DejaVuSans-31\" transform=\"translate(0 0.765625)\"/>\n       <use xlink:href=\"#DejaVuSans-30\" transform=\"translate(63.623047 0.765625)\"/>\n       <use xlink:href=\"#DejaVuSans-2212\" transform=\"translate(128.203125 39.046875)scale(0.7)\"/>\n       <use xlink:href=\"#DejaVuSans-39\" transform=\"translate(186.855469 39.046875)scale(0.7)\"/>\n      </g>\n     </g>\n    </g>\n    <g id=\"xtick_2\">\n     <g id=\"line2d_2\">\n      <g>\n       <use xlink:href=\"#m471401d5df\" x=\"148.997308\" y=\"192.62175\" style=\"stroke: #000000; stroke-width: 0.8\"/>\n      </g>\n     </g>\n     <g id=\"text_2\">\n      <!-- $\\mathdefault{10^{-7}}$ -->\n      <g transform=\"translate(134.897308 208.739875)scale(0.12 -0.12)\">\n       <defs>\n        <path id=\"DejaVuSans-37\" d=\"M 525 4666 \nL 3525 4666 \nL 3525 4397 \nL 1831 0 \nL 1172 0 \nL 2766 4134 \nL 525 4134 \nL 525 4666 \nz\n\" transform=\"scale(0.015625)\"/>\n       </defs>\n       <use xlink:href=\"#DejaVuSans-31\" transform=\"translate(0 0.684375)\"/>\n       <use xlink:href=\"#DejaVuSans-30\" transform=\"translate(63.623047 0.684375)\"/>\n       <use xlink:href=\"#DejaVuSans-2212\" transform=\"translate(128.203125 38.965625)scale(0.7)\"/>\n       <use xlink:href=\"#DejaVuSans-37\" transform=\"translate(186.855469 38.965625)scale(0.7)\"/>\n      </g>\n     </g>\n    </g>\n    <g id=\"xtick_3\">\n     <g id=\"line2d_3\">\n      <g>\n       <use xlink:href=\"#m471401d5df\" x=\"205.845748\" y=\"192.62175\" style=\"stroke: #000000; stroke-width: 0.8\"/>\n      </g>\n     </g>\n     <g id=\"text_3\">\n      <!-- $\\mathdefault{10^{-5}}$ -->\n      <g transform=\"translate(191.745748 208.739875)scale(0.12 -0.12)\">\n       <defs>\n        <path id=\"DejaVuSans-35\" d=\"M 691 4666 \nL 3169 4666 \nL 3169 4134 \nL 1269 4134 \nL 1269 2991 \nQ 1406 3038 1543 3061 \nQ 1681 3084 1819 3084 \nQ 2600 3084 3056 2656 \nQ 3513 2228 3513 1497 \nQ 3513 744 3044 326 \nQ 2575 -91 1722 -91 \nQ 1428 -91 1123 -41 \nQ 819 9 494 109 \nL 494 744 \nQ 775 591 1075 516 \nQ 1375 441 1709 441 \nQ 2250 441 2565 725 \nQ 2881 1009 2881 1497 \nQ 2881 1984 2565 2268 \nQ 2250 2553 1709 2553 \nQ 1456 2553 1204 2497 \nQ 953 2441 691 2322 \nL 691 4666 \nz\n\" transform=\"scale(0.015625)\"/>\n       </defs>\n       <use xlink:href=\"#DejaVuSans-31\" transform=\"translate(0 0.684375)\"/>\n       <use xlink:href=\"#DejaVuSans-30\" transform=\"translate(63.623047 0.684375)\"/>\n       <use xlink:href=\"#DejaVuSans-2212\" transform=\"translate(128.203125 38.965625)scale(0.7)\"/>\n       <use xlink:href=\"#DejaVuSans-35\" transform=\"translate(186.855469 38.965625)scale(0.7)\"/>\n      </g>\n     </g>\n    </g>\n    <g id=\"xtick_4\">\n     <g id=\"line2d_4\">\n      <g>\n       <use xlink:href=\"#m471401d5df\" x=\"262.694187\" y=\"192.62175\" style=\"stroke: #000000; stroke-width: 0.8\"/>\n      </g>\n     </g>\n     <g id=\"text_4\">\n      <!-- $\\mathdefault{10^{-3}}$ -->\n      <g transform=\"translate(248.594187 208.739875)scale(0.12 -0.12)\">\n       <defs>\n        <path id=\"DejaVuSans-33\" d=\"M 2597 2516 \nQ 3050 2419 3304 2112 \nQ 3559 1806 3559 1356 \nQ 3559 666 3084 287 \nQ 2609 -91 1734 -91 \nQ 1441 -91 1130 -33 \nQ 819 25 488 141 \nL 488 750 \nQ 750 597 1062 519 \nQ 1375 441 1716 441 \nQ 2309 441 2620 675 \nQ 2931 909 2931 1356 \nQ 2931 1769 2642 2001 \nQ 2353 2234 1838 2234 \nL 1294 2234 \nL 1294 2753 \nL 1863 2753 \nQ 2328 2753 2575 2939 \nQ 2822 3125 2822 3475 \nQ 2822 3834 2567 4026 \nQ 2313 4219 1838 4219 \nQ 1578 4219 1281 4162 \nQ 984 4106 628 3988 \nL 628 4550 \nQ 988 4650 1302 4700 \nQ 1616 4750 1894 4750 \nQ 2613 4750 3031 4423 \nQ 3450 4097 3450 3541 \nQ 3450 3153 3228 2886 \nQ 3006 2619 2597 2516 \nz\n\" transform=\"scale(0.015625)\"/>\n       </defs>\n       <use xlink:href=\"#DejaVuSans-31\" transform=\"translate(0 0.765625)\"/>\n       <use xlink:href=\"#DejaVuSans-30\" transform=\"translate(63.623047 0.765625)\"/>\n       <use xlink:href=\"#DejaVuSans-2212\" transform=\"translate(128.203125 39.046875)scale(0.7)\"/>\n       <use xlink:href=\"#DejaVuSans-33\" transform=\"translate(186.855469 39.046875)scale(0.7)\"/>\n      </g>\n     </g>\n    </g>\n    <g id=\"xtick_5\">\n     <g id=\"line2d_5\">\n      <g>\n       <use xlink:href=\"#m471401d5df\" x=\"319.542626\" y=\"192.62175\" style=\"stroke: #000000; stroke-width: 0.8\"/>\n      </g>\n     </g>\n     <g id=\"text_5\">\n      <!-- $\\mathdefault{10^{-1}}$ -->\n      <g transform=\"translate(305.442626 208.739875)scale(0.12 -0.12)\">\n       <use xlink:href=\"#DejaVuSans-31\" transform=\"translate(0 0.684375)\"/>\n       <use xlink:href=\"#DejaVuSans-30\" transform=\"translate(63.623047 0.684375)\"/>\n       <use xlink:href=\"#DejaVuSans-2212\" transform=\"translate(128.203125 38.965625)scale(0.7)\"/>\n       <use xlink:href=\"#DejaVuSans-31\" transform=\"translate(186.855469 38.965625)scale(0.7)\"/>\n      </g>\n     </g>\n    </g>\n    <g id=\"text_6\">\n     <!-- Probability -->\n     <g transform=\"translate(159.91895 224.353625)scale(0.12 -0.12)\">\n      <defs>\n       <path id=\"DejaVuSans-50\" d=\"M 1259 4147 \nL 1259 2394 \nL 2053 2394 \nQ 2494 2394 2734 2622 \nQ 2975 2850 2975 3272 \nQ 2975 3691 2734 3919 \nQ 2494 4147 2053 4147 \nL 1259 4147 \nz\nM 628 4666 \nL 2053 4666 \nQ 2838 4666 3239 4311 \nQ 3641 3956 3641 3272 \nQ 3641 2581 3239 2228 \nQ 2838 1875 2053 1875 \nL 1259 1875 \nL 1259 0 \nL 628 0 \nL 628 4666 \nz\n\" transform=\"scale(0.015625)\"/>\n       <path id=\"DejaVuSans-72\" d=\"M 2631 2963 \nQ 2534 3019 2420 3045 \nQ 2306 3072 2169 3072 \nQ 1681 3072 1420 2755 \nQ 1159 2438 1159 1844 \nL 1159 0 \nL 581 0 \nL 581 3500 \nL 1159 3500 \nL 1159 2956 \nQ 1341 3275 1631 3429 \nQ 1922 3584 2338 3584 \nQ 2397 3584 2469 3576 \nQ 2541 3569 2628 3553 \nL 2631 2963 \nz\n\" transform=\"scale(0.015625)\"/>\n       <path id=\"DejaVuSans-6f\" d=\"M 1959 3097 \nQ 1497 3097 1228 2736 \nQ 959 2375 959 1747 \nQ 959 1119 1226 758 \nQ 1494 397 1959 397 \nQ 2419 397 2687 759 \nQ 2956 1122 2956 1747 \nQ 2956 2369 2687 2733 \nQ 2419 3097 1959 3097 \nz\nM 1959 3584 \nQ 2709 3584 3137 3096 \nQ 3566 2609 3566 1747 \nQ 3566 888 3137 398 \nQ 2709 -91 1959 -91 \nQ 1206 -91 779 398 \nQ 353 888 353 1747 \nQ 353 2609 779 3096 \nQ 1206 3584 1959 3584 \nz\n\" transform=\"scale(0.015625)\"/>\n       <path id=\"DejaVuSans-62\" d=\"M 3116 1747 \nQ 3116 2381 2855 2742 \nQ 2594 3103 2138 3103 \nQ 1681 3103 1420 2742 \nQ 1159 2381 1159 1747 \nQ 1159 1113 1420 752 \nQ 1681 391 2138 391 \nQ 2594 391 2855 752 \nQ 3116 1113 3116 1747 \nz\nM 1159 2969 \nQ 1341 3281 1617 3432 \nQ 1894 3584 2278 3584 \nQ 2916 3584 3314 3078 \nQ 3713 2572 3713 1747 \nQ 3713 922 3314 415 \nQ 2916 -91 2278 -91 \nQ 1894 -91 1617 61 \nQ 1341 213 1159 525 \nL 1159 0 \nL 581 0 \nL 581 4863 \nL 1159 4863 \nL 1159 2969 \nz\n\" transform=\"scale(0.015625)\"/>\n       <path id=\"DejaVuSans-61\" d=\"M 2194 1759 \nQ 1497 1759 1228 1600 \nQ 959 1441 959 1056 \nQ 959 750 1161 570 \nQ 1363 391 1709 391 \nQ 2188 391 2477 730 \nQ 2766 1069 2766 1631 \nL 2766 1759 \nL 2194 1759 \nz\nM 3341 1997 \nL 3341 0 \nL 2766 0 \nL 2766 531 \nQ 2569 213 2275 61 \nQ 1981 -91 1556 -91 \nQ 1019 -91 701 211 \nQ 384 513 384 1019 \nQ 384 1609 779 1909 \nQ 1175 2209 1959 2209 \nL 2766 2209 \nL 2766 2266 \nQ 2766 2663 2505 2880 \nQ 2244 3097 1772 3097 \nQ 1472 3097 1187 3025 \nQ 903 2953 641 2809 \nL 641 3341 \nQ 956 3463 1253 3523 \nQ 1550 3584 1831 3584 \nQ 2591 3584 2966 3190 \nQ 3341 2797 3341 1997 \nz\n\" transform=\"scale(0.015625)\"/>\n       <path id=\"DejaVuSans-69\" d=\"M 603 3500 \nL 1178 3500 \nL 1178 0 \nL 603 0 \nL 603 3500 \nz\nM 603 4863 \nL 1178 4863 \nL 1178 4134 \nL 603 4134 \nL 603 4863 \nz\n\" transform=\"scale(0.015625)\"/>\n       <path id=\"DejaVuSans-6c\" d=\"M 603 4863 \nL 1178 4863 \nL 1178 0 \nL 603 0 \nL 603 4863 \nz\n\" transform=\"scale(0.015625)\"/>\n       <path id=\"DejaVuSans-74\" d=\"M 1172 4494 \nL 1172 3500 \nL 2356 3500 \nL 2356 3053 \nL 1172 3053 \nL 1172 1153 \nQ 1172 725 1289 603 \nQ 1406 481 1766 481 \nL 2356 481 \nL 2356 0 \nL 1766 0 \nQ 1100 0 847 248 \nQ 594 497 594 1153 \nL 594 3053 \nL 172 3053 \nL 172 3500 \nL 594 3500 \nL 594 4494 \nL 1172 4494 \nz\n\" transform=\"scale(0.015625)\"/>\n       <path id=\"DejaVuSans-79\" d=\"M 2059 -325 \nQ 1816 -950 1584 -1140 \nQ 1353 -1331 966 -1331 \nL 506 -1331 \nL 506 -850 \nL 844 -850 \nQ 1081 -850 1212 -737 \nQ 1344 -625 1503 -206 \nL 1606 56 \nL 191 3500 \nL 800 3500 \nL 1894 763 \nL 2988 3500 \nL 3597 3500 \nL 2059 -325 \nz\n\" transform=\"scale(0.015625)\"/>\n      </defs>\n      <use xlink:href=\"#DejaVuSans-50\"/>\n      <use xlink:href=\"#DejaVuSans-72\" x=\"58.552734\"/>\n      <use xlink:href=\"#DejaVuSans-6f\" x=\"97.416016\"/>\n      <use xlink:href=\"#DejaVuSans-62\" x=\"158.597656\"/>\n      <use xlink:href=\"#DejaVuSans-61\" x=\"222.074219\"/>\n      <use xlink:href=\"#DejaVuSans-62\" x=\"283.353516\"/>\n      <use xlink:href=\"#DejaVuSans-69\" x=\"346.830078\"/>\n      <use xlink:href=\"#DejaVuSans-6c\" x=\"374.613281\"/>\n      <use xlink:href=\"#DejaVuSans-69\" x=\"402.396484\"/>\n      <use xlink:href=\"#DejaVuSans-74\" x=\"430.179688\"/>\n      <use xlink:href=\"#DejaVuSans-79\" x=\"469.388672\"/>\n     </g>\n    </g>\n   </g>\n   <g id=\"matplotlib.axis_2\">\n    <g id=\"ytick_1\">\n     <g id=\"line2d_6\">\n      <defs>\n       <path id=\"mba60aa1a9e\" d=\"M 0 0 \nL -3.5 0 \n\" style=\"stroke: #000000; stroke-width: 0.8\"/>\n      </defs>\n      <g>\n       <use xlink:href=\"#mba60aa1a9e\" x=\"50.93375\" y=\"184.963568\" style=\"stroke: #000000; stroke-width: 0.8\"/>\n      </g>\n     </g>\n     <g id=\"text_7\">\n      <!-- $\\mathdefault{10^{0}}$ -->\n      <g transform=\"translate(22.81375 189.522631)scale(0.12 -0.12)\">\n       <use xlink:href=\"#DejaVuSans-31\" transform=\"translate(0 0.765625)\"/>\n       <use xlink:href=\"#DejaVuSans-30\" transform=\"translate(63.623047 0.765625)\"/>\n       <use xlink:href=\"#DejaVuSans-30\" transform=\"translate(128.203125 39.046875)scale(0.7)\"/>\n      </g>\n     </g>\n    </g>\n    <g id=\"ytick_2\">\n     <g id=\"line2d_7\">\n      <g>\n       <use xlink:href=\"#mba60aa1a9e\" x=\"50.93375\" y=\"139.860392\" style=\"stroke: #000000; stroke-width: 0.8\"/>\n      </g>\n     </g>\n     <g id=\"text_8\">\n      <!-- $\\mathdefault{10^{1}}$ -->\n      <g transform=\"translate(22.81375 144.419455)scale(0.12 -0.12)\">\n       <use xlink:href=\"#DejaVuSans-31\" transform=\"translate(0 0.684375)\"/>\n       <use xlink:href=\"#DejaVuSans-30\" transform=\"translate(63.623047 0.684375)\"/>\n       <use xlink:href=\"#DejaVuSans-31\" transform=\"translate(128.203125 38.965625)scale(0.7)\"/>\n      </g>\n     </g>\n    </g>\n    <g id=\"ytick_3\">\n     <g id=\"line2d_8\">\n      <g>\n       <use xlink:href=\"#mba60aa1a9e\" x=\"50.93375\" y=\"94.757217\" style=\"stroke: #000000; stroke-width: 0.8\"/>\n      </g>\n     </g>\n     <g id=\"text_9\">\n      <!-- $\\mathdefault{10^{2}}$ -->\n      <g transform=\"translate(22.81375 99.316279)scale(0.12 -0.12)\">\n       <defs>\n        <path id=\"DejaVuSans-32\" d=\"M 1228 531 \nL 3431 531 \nL 3431 0 \nL 469 0 \nL 469 531 \nQ 828 903 1448 1529 \nQ 2069 2156 2228 2338 \nQ 2531 2678 2651 2914 \nQ 2772 3150 2772 3378 \nQ 2772 3750 2511 3984 \nQ 2250 4219 1831 4219 \nQ 1534 4219 1204 4116 \nQ 875 4013 500 3803 \nL 500 4441 \nQ 881 4594 1212 4672 \nQ 1544 4750 1819 4750 \nQ 2544 4750 2975 4387 \nQ 3406 4025 3406 3419 \nQ 3406 3131 3298 2873 \nQ 3191 2616 2906 2266 \nQ 2828 2175 2409 1742 \nQ 1991 1309 1228 531 \nz\n\" transform=\"scale(0.015625)\"/>\n       </defs>\n       <use xlink:href=\"#DejaVuSans-31\" transform=\"translate(0 0.765625)\"/>\n       <use xlink:href=\"#DejaVuSans-30\" transform=\"translate(63.623047 0.765625)\"/>\n       <use xlink:href=\"#DejaVuSans-32\" transform=\"translate(128.203125 39.046875)scale(0.7)\"/>\n      </g>\n     </g>\n    </g>\n    <g id=\"ytick_4\">\n     <g id=\"line2d_9\">\n      <g>\n       <use xlink:href=\"#mba60aa1a9e\" x=\"50.93375\" y=\"49.654041\" style=\"stroke: #000000; stroke-width: 0.8\"/>\n      </g>\n     </g>\n     <g id=\"text_10\">\n      <!-- $\\mathdefault{10^{3}}$ -->\n      <g transform=\"translate(22.81375 54.213103)scale(0.12 -0.12)\">\n       <use xlink:href=\"#DejaVuSans-31\" transform=\"translate(0 0.765625)\"/>\n       <use xlink:href=\"#DejaVuSans-30\" transform=\"translate(63.623047 0.765625)\"/>\n       <use xlink:href=\"#DejaVuSans-33\" transform=\"translate(128.203125 39.046875)scale(0.7)\"/>\n      </g>\n     </g>\n    </g>\n    <g id=\"ytick_5\">\n     <g id=\"line2d_10\">\n      <defs>\n       <path id=\"mbfcc5597b9\" d=\"M 0 0 \nL -2 0 \n\" style=\"stroke: #000000; stroke-width: 0.6\"/>\n      </defs>\n      <g>\n       <use xlink:href=\"#mbfcc5597b9\" x=\"50.93375\" y=\"191.950139\" style=\"stroke: #000000; stroke-width: 0.6\"/>\n      </g>\n     </g>\n    </g>\n    <g id=\"ytick_6\">\n     <g id=\"line2d_11\">\n      <g>\n       <use xlink:href=\"#mbfcc5597b9\" x=\"50.93375\" y=\"189.334518\" style=\"stroke: #000000; stroke-width: 0.6\"/>\n      </g>\n     </g>\n    </g>\n    <g id=\"ytick_7\">\n     <g id=\"line2d_12\">\n      <g>\n       <use xlink:href=\"#mbfcc5597b9\" x=\"50.93375\" y=\"187.027376\" style=\"stroke: #000000; stroke-width: 0.6\"/>\n      </g>\n     </g>\n    </g>\n    <g id=\"ytick_8\">\n     <g id=\"line2d_13\">\n      <g>\n       <use xlink:href=\"#mbfcc5597b9\" x=\"50.93375\" y=\"171.386159\" style=\"stroke: #000000; stroke-width: 0.6\"/>\n      </g>\n     </g>\n    </g>\n    <g id=\"ytick_9\">\n     <g id=\"line2d_14\">\n      <g>\n       <use xlink:href=\"#mbfcc5597b9\" x=\"50.93375\" y=\"163.443884\" style=\"stroke: #000000; stroke-width: 0.6\"/>\n      </g>\n     </g>\n    </g>\n    <g id=\"ytick_10\">\n     <g id=\"line2d_15\">\n      <g>\n       <use xlink:href=\"#mbfcc5597b9\" x=\"50.93375\" y=\"157.808751\" style=\"stroke: #000000; stroke-width: 0.6\"/>\n      </g>\n     </g>\n    </g>\n    <g id=\"ytick_11\">\n     <g id=\"line2d_16\">\n      <g>\n       <use xlink:href=\"#mbfcc5597b9\" x=\"50.93375\" y=\"153.437801\" style=\"stroke: #000000; stroke-width: 0.6\"/>\n      </g>\n     </g>\n    </g>\n    <g id=\"ytick_12\">\n     <g id=\"line2d_17\">\n      <g>\n       <use xlink:href=\"#mbfcc5597b9\" x=\"50.93375\" y=\"149.866476\" style=\"stroke: #000000; stroke-width: 0.6\"/>\n      </g>\n     </g>\n    </g>\n    <g id=\"ytick_13\">\n     <g id=\"line2d_18\">\n      <g>\n       <use xlink:href=\"#mbfcc5597b9\" x=\"50.93375\" y=\"146.846963\" style=\"stroke: #000000; stroke-width: 0.6\"/>\n      </g>\n     </g>\n    </g>\n    <g id=\"ytick_14\">\n     <g id=\"line2d_19\">\n      <g>\n       <use xlink:href=\"#mbfcc5597b9\" x=\"50.93375\" y=\"144.231342\" style=\"stroke: #000000; stroke-width: 0.6\"/>\n      </g>\n     </g>\n    </g>\n    <g id=\"ytick_15\">\n     <g id=\"line2d_20\">\n      <g>\n       <use xlink:href=\"#mbfcc5597b9\" x=\"50.93375\" y=\"141.924201\" style=\"stroke: #000000; stroke-width: 0.6\"/>\n      </g>\n     </g>\n    </g>\n    <g id=\"ytick_16\">\n     <g id=\"line2d_21\">\n      <g>\n       <use xlink:href=\"#mbfcc5597b9\" x=\"50.93375\" y=\"126.282984\" style=\"stroke: #000000; stroke-width: 0.6\"/>\n      </g>\n     </g>\n    </g>\n    <g id=\"ytick_17\">\n     <g id=\"line2d_22\">\n      <g>\n       <use xlink:href=\"#mbfcc5597b9\" x=\"50.93375\" y=\"118.340709\" style=\"stroke: #000000; stroke-width: 0.6\"/>\n      </g>\n     </g>\n    </g>\n    <g id=\"ytick_18\">\n     <g id=\"line2d_23\">\n      <g>\n       <use xlink:href=\"#mbfcc5597b9\" x=\"50.93375\" y=\"112.705575\" style=\"stroke: #000000; stroke-width: 0.6\"/>\n      </g>\n     </g>\n    </g>\n    <g id=\"ytick_19\">\n     <g id=\"line2d_24\">\n      <g>\n       <use xlink:href=\"#mbfcc5597b9\" x=\"50.93375\" y=\"108.334625\" style=\"stroke: #000000; stroke-width: 0.6\"/>\n      </g>\n     </g>\n    </g>\n    <g id=\"ytick_20\">\n     <g id=\"line2d_25\">\n      <g>\n       <use xlink:href=\"#mbfcc5597b9\" x=\"50.93375\" y=\"104.7633\" style=\"stroke: #000000; stroke-width: 0.6\"/>\n      </g>\n     </g>\n    </g>\n    <g id=\"ytick_21\">\n     <g id=\"line2d_26\">\n      <g>\n       <use xlink:href=\"#mbfcc5597b9\" x=\"50.93375\" y=\"101.743787\" style=\"stroke: #000000; stroke-width: 0.6\"/>\n      </g>\n     </g>\n    </g>\n    <g id=\"ytick_22\">\n     <g id=\"line2d_27\">\n      <g>\n       <use xlink:href=\"#mbfcc5597b9\" x=\"50.93375\" y=\"99.128166\" style=\"stroke: #000000; stroke-width: 0.6\"/>\n      </g>\n     </g>\n    </g>\n    <g id=\"ytick_23\">\n     <g id=\"line2d_28\">\n      <g>\n       <use xlink:href=\"#mbfcc5597b9\" x=\"50.93375\" y=\"96.821025\" style=\"stroke: #000000; stroke-width: 0.6\"/>\n      </g>\n     </g>\n    </g>\n    <g id=\"ytick_24\">\n     <g id=\"line2d_29\">\n      <g>\n       <use xlink:href=\"#mbfcc5597b9\" x=\"50.93375\" y=\"81.179808\" style=\"stroke: #000000; stroke-width: 0.6\"/>\n      </g>\n     </g>\n    </g>\n    <g id=\"ytick_25\">\n     <g id=\"line2d_30\">\n      <g>\n       <use xlink:href=\"#mbfcc5597b9\" x=\"50.93375\" y=\"73.237533\" style=\"stroke: #000000; stroke-width: 0.6\"/>\n      </g>\n     </g>\n    </g>\n    <g id=\"ytick_26\">\n     <g id=\"line2d_31\">\n      <g>\n       <use xlink:href=\"#mbfcc5597b9\" x=\"50.93375\" y=\"67.602399\" style=\"stroke: #000000; stroke-width: 0.6\"/>\n      </g>\n     </g>\n    </g>\n    <g id=\"ytick_27\">\n     <g id=\"line2d_32\">\n      <g>\n       <use xlink:href=\"#mbfcc5597b9\" x=\"50.93375\" y=\"63.23145\" style=\"stroke: #000000; stroke-width: 0.6\"/>\n      </g>\n     </g>\n    </g>\n    <g id=\"ytick_28\">\n     <g id=\"line2d_33\">\n      <g>\n       <use xlink:href=\"#mbfcc5597b9\" x=\"50.93375\" y=\"59.660124\" style=\"stroke: #000000; stroke-width: 0.6\"/>\n      </g>\n     </g>\n    </g>\n    <g id=\"ytick_29\">\n     <g id=\"line2d_34\">\n      <g>\n       <use xlink:href=\"#mbfcc5597b9\" x=\"50.93375\" y=\"56.640611\" style=\"stroke: #000000; stroke-width: 0.6\"/>\n      </g>\n     </g>\n    </g>\n    <g id=\"ytick_30\">\n     <g id=\"line2d_35\">\n      <g>\n       <use xlink:href=\"#mbfcc5597b9\" x=\"50.93375\" y=\"54.02499\" style=\"stroke: #000000; stroke-width: 0.6\"/>\n      </g>\n     </g>\n    </g>\n    <g id=\"ytick_31\">\n     <g id=\"line2d_36\">\n      <g>\n       <use xlink:href=\"#mbfcc5597b9\" x=\"50.93375\" y=\"51.717849\" style=\"stroke: #000000; stroke-width: 0.6\"/>\n      </g>\n     </g>\n    </g>\n    <g id=\"ytick_32\">\n     <g id=\"line2d_37\">\n      <g>\n       <use xlink:href=\"#mbfcc5597b9\" x=\"50.93375\" y=\"36.076632\" style=\"stroke: #000000; stroke-width: 0.6\"/>\n      </g>\n     </g>\n    </g>\n    <g id=\"ytick_33\">\n     <g id=\"line2d_38\">\n      <g>\n       <use xlink:href=\"#mbfcc5597b9\" x=\"50.93375\" y=\"28.134357\" style=\"stroke: #000000; stroke-width: 0.6\"/>\n      </g>\n     </g>\n    </g>\n    <g id=\"text_11\">\n     <!-- Count -->\n     <g transform=\"translate(16.318125 126.199875)rotate(-90)scale(0.12 -0.12)\">\n      <defs>\n       <path id=\"DejaVuSans-43\" d=\"M 4122 4306 \nL 4122 3641 \nQ 3803 3938 3442 4084 \nQ 3081 4231 2675 4231 \nQ 1875 4231 1450 3742 \nQ 1025 3253 1025 2328 \nQ 1025 1406 1450 917 \nQ 1875 428 2675 428 \nQ 3081 428 3442 575 \nQ 3803 722 4122 1019 \nL 4122 359 \nQ 3791 134 3420 21 \nQ 3050 -91 2638 -91 \nQ 1578 -91 968 557 \nQ 359 1206 359 2328 \nQ 359 3453 968 4101 \nQ 1578 4750 2638 4750 \nQ 3056 4750 3426 4639 \nQ 3797 4528 4122 4306 \nz\n\" transform=\"scale(0.015625)\"/>\n       <path id=\"DejaVuSans-75\" d=\"M 544 1381 \nL 544 3500 \nL 1119 3500 \nL 1119 1403 \nQ 1119 906 1312 657 \nQ 1506 409 1894 409 \nQ 2359 409 2629 706 \nQ 2900 1003 2900 1516 \nL 2900 3500 \nL 3475 3500 \nL 3475 0 \nL 2900 0 \nL 2900 538 \nQ 2691 219 2414 64 \nQ 2138 -91 1772 -91 \nQ 1169 -91 856 284 \nQ 544 659 544 1381 \nz\nM 1991 3584 \nL 1991 3584 \nz\n\" transform=\"scale(0.015625)\"/>\n       <path id=\"DejaVuSans-6e\" d=\"M 3513 2113 \nL 3513 0 \nL 2938 0 \nL 2938 2094 \nQ 2938 2591 2744 2837 \nQ 2550 3084 2163 3084 \nQ 1697 3084 1428 2787 \nQ 1159 2491 1159 1978 \nL 1159 0 \nL 581 0 \nL 581 3500 \nL 1159 3500 \nL 1159 2956 \nQ 1366 3272 1645 3428 \nQ 1925 3584 2291 3584 \nQ 2894 3584 3203 3211 \nQ 3513 2838 3513 2113 \nz\n\" transform=\"scale(0.015625)\"/>\n      </defs>\n      <use xlink:href=\"#DejaVuSans-43\"/>\n      <use xlink:href=\"#DejaVuSans-6f\" x=\"69.824219\"/>\n      <use xlink:href=\"#DejaVuSans-75\" x=\"131.005859\"/>\n      <use xlink:href=\"#DejaVuSans-6e\" x=\"194.384766\"/>\n      <use xlink:href=\"#DejaVuSans-74\" x=\"257.763672\"/>\n     </g>\n    </g>\n   </g>\n   <g id=\"patch_102\">\n    <path d=\"M 50.93375 192.62175 \nL 50.93375 24.14175 \n\" style=\"fill: none; stroke: #000000; stroke-width: 0.8; stroke-linejoin: miter; stroke-linecap: square\"/>\n   </g>\n   <g id=\"patch_103\">\n    <path d=\"M 332.333525 192.62175 \nL 332.333525 24.14175 \n\" style=\"fill: none; stroke: #000000; stroke-width: 0.8; stroke-linejoin: miter; stroke-linecap: square\"/>\n   </g>\n   <g id=\"patch_104\">\n    <path d=\"M 50.93375 192.62175 \nL 332.333525 192.62175 \n\" style=\"fill: none; stroke: #000000; stroke-width: 0.8; stroke-linejoin: miter; stroke-linecap: square\"/>\n   </g>\n   <g id=\"patch_105\">\n    <path d=\"M 50.93375 24.14175 \nL 332.333525 24.14175 \n\" style=\"fill: none; stroke: #000000; stroke-width: 0.8; stroke-linejoin: miter; stroke-linecap: square\"/>\n   </g>\n   <g id=\"text_12\">\n    <!-- Probability distribution -->\n    <g transform=\"translate(110.257888 18.14175)scale(0.144 -0.144)\">\n     <defs>\n      <path id=\"DejaVuSans-20\" transform=\"scale(0.015625)\"/>\n      <path id=\"DejaVuSans-64\" d=\"M 2906 2969 \nL 2906 4863 \nL 3481 4863 \nL 3481 0 \nL 2906 0 \nL 2906 525 \nQ 2725 213 2448 61 \nQ 2172 -91 1784 -91 \nQ 1150 -91 751 415 \nQ 353 922 353 1747 \nQ 353 2572 751 3078 \nQ 1150 3584 1784 3584 \nQ 2172 3584 2448 3432 \nQ 2725 3281 2906 2969 \nz\nM 947 1747 \nQ 947 1113 1208 752 \nQ 1469 391 1925 391 \nQ 2381 391 2643 752 \nQ 2906 1113 2906 1747 \nQ 2906 2381 2643 2742 \nQ 2381 3103 1925 3103 \nQ 1469 3103 1208 2742 \nQ 947 2381 947 1747 \nz\n\" transform=\"scale(0.015625)\"/>\n      <path id=\"DejaVuSans-73\" d=\"M 2834 3397 \nL 2834 2853 \nQ 2591 2978 2328 3040 \nQ 2066 3103 1784 3103 \nQ 1356 3103 1142 2972 \nQ 928 2841 928 2578 \nQ 928 2378 1081 2264 \nQ 1234 2150 1697 2047 \nL 1894 2003 \nQ 2506 1872 2764 1633 \nQ 3022 1394 3022 966 \nQ 3022 478 2636 193 \nQ 2250 -91 1575 -91 \nQ 1294 -91 989 -36 \nQ 684 19 347 128 \nL 347 722 \nQ 666 556 975 473 \nQ 1284 391 1588 391 \nQ 1994 391 2212 530 \nQ 2431 669 2431 922 \nQ 2431 1156 2273 1281 \nQ 2116 1406 1581 1522 \nL 1381 1569 \nQ 847 1681 609 1914 \nQ 372 2147 372 2553 \nQ 372 3047 722 3315 \nQ 1072 3584 1716 3584 \nQ 2034 3584 2315 3537 \nQ 2597 3491 2834 3397 \nz\n\" transform=\"scale(0.015625)\"/>\n     </defs>\n     <use xlink:href=\"#DejaVuSans-50\"/>\n     <use xlink:href=\"#DejaVuSans-72\" x=\"58.552734\"/>\n     <use xlink:href=\"#DejaVuSans-6f\" x=\"97.416016\"/>\n     <use xlink:href=\"#DejaVuSans-62\" x=\"158.597656\"/>\n     <use xlink:href=\"#DejaVuSans-61\" x=\"222.074219\"/>\n     <use xlink:href=\"#DejaVuSans-62\" x=\"283.353516\"/>\n     <use xlink:href=\"#DejaVuSans-69\" x=\"346.830078\"/>\n     <use xlink:href=\"#DejaVuSans-6c\" x=\"374.613281\"/>\n     <use xlink:href=\"#DejaVuSans-69\" x=\"402.396484\"/>\n     <use xlink:href=\"#DejaVuSans-74\" x=\"430.179688\"/>\n     <use xlink:href=\"#DejaVuSans-79\" x=\"469.388672\"/>\n     <use xlink:href=\"#DejaVuSans-20\" x=\"528.568359\"/>\n     <use xlink:href=\"#DejaVuSans-64\" x=\"560.355469\"/>\n     <use xlink:href=\"#DejaVuSans-69\" x=\"623.832031\"/>\n     <use xlink:href=\"#DejaVuSans-73\" x=\"651.615234\"/>\n     <use xlink:href=\"#DejaVuSans-74\" x=\"703.714844\"/>\n     <use xlink:href=\"#DejaVuSans-72\" x=\"742.923828\"/>\n     <use xlink:href=\"#DejaVuSans-69\" x=\"784.037109\"/>\n     <use xlink:href=\"#DejaVuSans-62\" x=\"811.820312\"/>\n     <use xlink:href=\"#DejaVuSans-75\" x=\"875.296875\"/>\n     <use xlink:href=\"#DejaVuSans-74\" x=\"938.675781\"/>\n     <use xlink:href=\"#DejaVuSans-69\" x=\"977.884766\"/>\n     <use xlink:href=\"#DejaVuSans-6f\" x=\"1005.667969\"/>\n     <use xlink:href=\"#DejaVuSans-6e\" x=\"1066.849609\"/>\n    </g>\n   </g>\n  </g>\n  <g id=\"axes_2\">\n   <g id=\"patch_106\">\n    <path d=\"M 398.737568 192.62175 \nL 680.137344 192.62175 \nL 680.137344 24.14175 \nL 398.737568 24.14175 \nz\n\" style=\"fill: #ffffff\"/>\n   </g>\n   <g id=\"matplotlib.axis_3\">\n    <g id=\"xtick_6\">\n     <g id=\"line2d_39\">\n      <g>\n       <use xlink:href=\"#m471401d5df\" x=\"398.737568\" y=\"192.62175\" style=\"stroke: #000000; stroke-width: 0.8\"/>\n      </g>\n     </g>\n     <g id=\"text_13\">\n      <!-- 0 -->\n      <g transform=\"translate(394.920068 208.739875)scale(0.12 -0.12)\">\n       <use xlink:href=\"#DejaVuSans-30\"/>\n      </g>\n     </g>\n    </g>\n    <g id=\"xtick_7\">\n     <g id=\"line2d_40\">\n      <g>\n       <use xlink:href=\"#m471401d5df\" x=\"455.017524\" y=\"192.62175\" style=\"stroke: #000000; stroke-width: 0.8\"/>\n      </g>\n     </g>\n     <g id=\"text_14\">\n      <!-- 2000 -->\n      <g transform=\"translate(439.747524 208.739875)scale(0.12 -0.12)\">\n       <use xlink:href=\"#DejaVuSans-32\"/>\n       <use xlink:href=\"#DejaVuSans-30\" x=\"63.623047\"/>\n       <use xlink:href=\"#DejaVuSans-30\" x=\"127.246094\"/>\n       <use xlink:href=\"#DejaVuSans-30\" x=\"190.869141\"/>\n      </g>\n     </g>\n    </g>\n    <g id=\"xtick_8\">\n     <g id=\"line2d_41\">\n      <g>\n       <use xlink:href=\"#m471401d5df\" x=\"511.297479\" y=\"192.62175\" style=\"stroke: #000000; stroke-width: 0.8\"/>\n      </g>\n     </g>\n     <g id=\"text_15\">\n      <!-- 4000 -->\n      <g transform=\"translate(496.027479 208.739875)scale(0.12 -0.12)\">\n       <defs>\n        <path id=\"DejaVuSans-34\" d=\"M 2419 4116 \nL 825 1625 \nL 2419 1625 \nL 2419 4116 \nz\nM 2253 4666 \nL 3047 4666 \nL 3047 1625 \nL 3713 1625 \nL 3713 1100 \nL 3047 1100 \nL 3047 0 \nL 2419 0 \nL 2419 1100 \nL 313 1100 \nL 313 1709 \nL 2253 4666 \nz\n\" transform=\"scale(0.015625)\"/>\n       </defs>\n       <use xlink:href=\"#DejaVuSans-34\"/>\n       <use xlink:href=\"#DejaVuSans-30\" x=\"63.623047\"/>\n       <use xlink:href=\"#DejaVuSans-30\" x=\"127.246094\"/>\n       <use xlink:href=\"#DejaVuSans-30\" x=\"190.869141\"/>\n      </g>\n     </g>\n    </g>\n    <g id=\"xtick_9\">\n     <g id=\"line2d_42\">\n      <g>\n       <use xlink:href=\"#m471401d5df\" x=\"567.577434\" y=\"192.62175\" style=\"stroke: #000000; stroke-width: 0.8\"/>\n      </g>\n     </g>\n     <g id=\"text_16\">\n      <!-- 6000 -->\n      <g transform=\"translate(552.307434 208.739875)scale(0.12 -0.12)\">\n       <defs>\n        <path id=\"DejaVuSans-36\" d=\"M 2113 2584 \nQ 1688 2584 1439 2293 \nQ 1191 2003 1191 1497 \nQ 1191 994 1439 701 \nQ 1688 409 2113 409 \nQ 2538 409 2786 701 \nQ 3034 994 3034 1497 \nQ 3034 2003 2786 2293 \nQ 2538 2584 2113 2584 \nz\nM 3366 4563 \nL 3366 3988 \nQ 3128 4100 2886 4159 \nQ 2644 4219 2406 4219 \nQ 1781 4219 1451 3797 \nQ 1122 3375 1075 2522 \nQ 1259 2794 1537 2939 \nQ 1816 3084 2150 3084 \nQ 2853 3084 3261 2657 \nQ 3669 2231 3669 1497 \nQ 3669 778 3244 343 \nQ 2819 -91 2113 -91 \nQ 1303 -91 875 529 \nQ 447 1150 447 2328 \nQ 447 3434 972 4092 \nQ 1497 4750 2381 4750 \nQ 2619 4750 2861 4703 \nQ 3103 4656 3366 4563 \nz\n\" transform=\"scale(0.015625)\"/>\n       </defs>\n       <use xlink:href=\"#DejaVuSans-36\"/>\n       <use xlink:href=\"#DejaVuSans-30\" x=\"63.623047\"/>\n       <use xlink:href=\"#DejaVuSans-30\" x=\"127.246094\"/>\n       <use xlink:href=\"#DejaVuSans-30\" x=\"190.869141\"/>\n      </g>\n     </g>\n    </g>\n    <g id=\"xtick_10\">\n     <g id=\"line2d_43\">\n      <g>\n       <use xlink:href=\"#m471401d5df\" x=\"623.857389\" y=\"192.62175\" style=\"stroke: #000000; stroke-width: 0.8\"/>\n      </g>\n     </g>\n     <g id=\"text_17\">\n      <!-- 8000 -->\n      <g transform=\"translate(608.587389 208.739875)scale(0.12 -0.12)\">\n       <defs>\n        <path id=\"DejaVuSans-38\" d=\"M 2034 2216 \nQ 1584 2216 1326 1975 \nQ 1069 1734 1069 1313 \nQ 1069 891 1326 650 \nQ 1584 409 2034 409 \nQ 2484 409 2743 651 \nQ 3003 894 3003 1313 \nQ 3003 1734 2745 1975 \nQ 2488 2216 2034 2216 \nz\nM 1403 2484 \nQ 997 2584 770 2862 \nQ 544 3141 544 3541 \nQ 544 4100 942 4425 \nQ 1341 4750 2034 4750 \nQ 2731 4750 3128 4425 \nQ 3525 4100 3525 3541 \nQ 3525 3141 3298 2862 \nQ 3072 2584 2669 2484 \nQ 3125 2378 3379 2068 \nQ 3634 1759 3634 1313 \nQ 3634 634 3220 271 \nQ 2806 -91 2034 -91 \nQ 1263 -91 848 271 \nQ 434 634 434 1313 \nQ 434 1759 690 2068 \nQ 947 2378 1403 2484 \nz\nM 1172 3481 \nQ 1172 3119 1398 2916 \nQ 1625 2713 2034 2713 \nQ 2441 2713 2670 2916 \nQ 2900 3119 2900 3481 \nQ 2900 3844 2670 4047 \nQ 2441 4250 2034 4250 \nQ 1625 4250 1398 4047 \nQ 1172 3844 1172 3481 \nz\n\" transform=\"scale(0.015625)\"/>\n       </defs>\n       <use xlink:href=\"#DejaVuSans-38\"/>\n       <use xlink:href=\"#DejaVuSans-30\" x=\"63.623047\"/>\n       <use xlink:href=\"#DejaVuSans-30\" x=\"127.246094\"/>\n       <use xlink:href=\"#DejaVuSans-30\" x=\"190.869141\"/>\n      </g>\n     </g>\n    </g>\n    <g id=\"xtick_11\">\n     <g id=\"line2d_44\">\n      <g>\n       <use xlink:href=\"#m471401d5df\" x=\"680.137344\" y=\"192.62175\" style=\"stroke: #000000; stroke-width: 0.8\"/>\n      </g>\n     </g>\n     <g id=\"text_18\">\n      <!-- 10000 -->\n      <g transform=\"translate(661.049844 208.739875)scale(0.12 -0.12)\">\n       <use xlink:href=\"#DejaVuSans-31\"/>\n       <use xlink:href=\"#DejaVuSans-30\" x=\"63.623047\"/>\n       <use xlink:href=\"#DejaVuSans-30\" x=\"127.246094\"/>\n       <use xlink:href=\"#DejaVuSans-30\" x=\"190.869141\"/>\n       <use xlink:href=\"#DejaVuSans-30\" x=\"254.492188\"/>\n      </g>\n     </g>\n    </g>\n    <g id=\"xtick_12\">\n     <g id=\"line2d_45\">\n      <defs>\n       <path id=\"m1b6d65c069\" d=\"M 0 0 \nL 0 2 \n\" style=\"stroke: #000000; stroke-width: 0.6\"/>\n      </defs>\n      <g>\n       <use xlink:href=\"#m1b6d65c069\" x=\"412.807557\" y=\"192.62175\" style=\"stroke: #000000; stroke-width: 0.6\"/>\n      </g>\n     </g>\n    </g>\n    <g id=\"xtick_13\">\n     <g id=\"line2d_46\">\n      <g>\n       <use xlink:href=\"#m1b6d65c069\" x=\"426.877546\" y=\"192.62175\" style=\"stroke: #000000; stroke-width: 0.6\"/>\n      </g>\n     </g>\n    </g>\n    <g id=\"xtick_14\">\n     <g id=\"line2d_47\">\n      <g>\n       <use xlink:href=\"#m1b6d65c069\" x=\"440.947535\" y=\"192.62175\" style=\"stroke: #000000; stroke-width: 0.6\"/>\n      </g>\n     </g>\n    </g>\n    <g id=\"xtick_15\">\n     <g id=\"line2d_48\">\n      <g>\n       <use xlink:href=\"#m1b6d65c069\" x=\"469.087512\" y=\"192.62175\" style=\"stroke: #000000; stroke-width: 0.6\"/>\n      </g>\n     </g>\n    </g>\n    <g id=\"xtick_16\">\n     <g id=\"line2d_49\">\n      <g>\n       <use xlink:href=\"#m1b6d65c069\" x=\"483.157501\" y=\"192.62175\" style=\"stroke: #000000; stroke-width: 0.6\"/>\n      </g>\n     </g>\n    </g>\n    <g id=\"xtick_17\">\n     <g id=\"line2d_50\">\n      <g>\n       <use xlink:href=\"#m1b6d65c069\" x=\"497.22749\" y=\"192.62175\" style=\"stroke: #000000; stroke-width: 0.6\"/>\n      </g>\n     </g>\n    </g>\n    <g id=\"xtick_18\">\n     <g id=\"line2d_51\">\n      <g>\n       <use xlink:href=\"#m1b6d65c069\" x=\"525.367467\" y=\"192.62175\" style=\"stroke: #000000; stroke-width: 0.6\"/>\n      </g>\n     </g>\n    </g>\n    <g id=\"xtick_19\">\n     <g id=\"line2d_52\">\n      <g>\n       <use xlink:href=\"#m1b6d65c069\" x=\"539.437456\" y=\"192.62175\" style=\"stroke: #000000; stroke-width: 0.6\"/>\n      </g>\n     </g>\n    </g>\n    <g id=\"xtick_20\">\n     <g id=\"line2d_53\">\n      <g>\n       <use xlink:href=\"#m1b6d65c069\" x=\"553.507445\" y=\"192.62175\" style=\"stroke: #000000; stroke-width: 0.6\"/>\n      </g>\n     </g>\n    </g>\n    <g id=\"xtick_21\">\n     <g id=\"line2d_54\">\n      <g>\n       <use xlink:href=\"#m1b6d65c069\" x=\"581.647422\" y=\"192.62175\" style=\"stroke: #000000; stroke-width: 0.6\"/>\n      </g>\n     </g>\n    </g>\n    <g id=\"xtick_22\">\n     <g id=\"line2d_55\">\n      <g>\n       <use xlink:href=\"#m1b6d65c069\" x=\"595.717411\" y=\"192.62175\" style=\"stroke: #000000; stroke-width: 0.6\"/>\n      </g>\n     </g>\n    </g>\n    <g id=\"xtick_23\">\n     <g id=\"line2d_56\">\n      <g>\n       <use xlink:href=\"#m1b6d65c069\" x=\"609.7874\" y=\"192.62175\" style=\"stroke: #000000; stroke-width: 0.6\"/>\n      </g>\n     </g>\n    </g>\n    <g id=\"xtick_24\">\n     <g id=\"line2d_57\">\n      <g>\n       <use xlink:href=\"#m1b6d65c069\" x=\"637.927377\" y=\"192.62175\" style=\"stroke: #000000; stroke-width: 0.6\"/>\n      </g>\n     </g>\n    </g>\n    <g id=\"xtick_25\">\n     <g id=\"line2d_58\">\n      <g>\n       <use xlink:href=\"#m1b6d65c069\" x=\"651.997366\" y=\"192.62175\" style=\"stroke: #000000; stroke-width: 0.6\"/>\n      </g>\n     </g>\n    </g>\n    <g id=\"xtick_26\">\n     <g id=\"line2d_59\">\n      <g>\n       <use xlink:href=\"#m1b6d65c069\" x=\"666.067355\" y=\"192.62175\" style=\"stroke: #000000; stroke-width: 0.6\"/>\n      </g>\n     </g>\n    </g>\n    <g id=\"text_19\">\n     <!-- Token (descending probability) -->\n     <g transform=\"translate(447.356206 224.353625)scale(0.12 -0.12)\">\n      <defs>\n       <path id=\"DejaVuSans-54\" d=\"M -19 4666 \nL 3928 4666 \nL 3928 4134 \nL 2272 4134 \nL 2272 0 \nL 1638 0 \nL 1638 4134 \nL -19 4134 \nL -19 4666 \nz\n\" transform=\"scale(0.015625)\"/>\n       <path id=\"DejaVuSans-6b\" d=\"M 581 4863 \nL 1159 4863 \nL 1159 1991 \nL 2875 3500 \nL 3609 3500 \nL 1753 1863 \nL 3688 0 \nL 2938 0 \nL 1159 1709 \nL 1159 0 \nL 581 0 \nL 581 4863 \nz\n\" transform=\"scale(0.015625)\"/>\n       <path id=\"DejaVuSans-65\" d=\"M 3597 1894 \nL 3597 1613 \nL 953 1613 \nQ 991 1019 1311 708 \nQ 1631 397 2203 397 \nQ 2534 397 2845 478 \nQ 3156 559 3463 722 \nL 3463 178 \nQ 3153 47 2828 -22 \nQ 2503 -91 2169 -91 \nQ 1331 -91 842 396 \nQ 353 884 353 1716 \nQ 353 2575 817 3079 \nQ 1281 3584 2069 3584 \nQ 2775 3584 3186 3129 \nQ 3597 2675 3597 1894 \nz\nM 3022 2063 \nQ 3016 2534 2758 2815 \nQ 2500 3097 2075 3097 \nQ 1594 3097 1305 2825 \nQ 1016 2553 972 2059 \nL 3022 2063 \nz\n\" transform=\"scale(0.015625)\"/>\n       <path id=\"DejaVuSans-28\" d=\"M 1984 4856 \nQ 1566 4138 1362 3434 \nQ 1159 2731 1159 2009 \nQ 1159 1288 1364 580 \nQ 1569 -128 1984 -844 \nL 1484 -844 \nQ 1016 -109 783 600 \nQ 550 1309 550 2009 \nQ 550 2706 781 3412 \nQ 1013 4119 1484 4856 \nL 1984 4856 \nz\n\" transform=\"scale(0.015625)\"/>\n       <path id=\"DejaVuSans-63\" d=\"M 3122 3366 \nL 3122 2828 \nQ 2878 2963 2633 3030 \nQ 2388 3097 2138 3097 \nQ 1578 3097 1268 2742 \nQ 959 2388 959 1747 \nQ 959 1106 1268 751 \nQ 1578 397 2138 397 \nQ 2388 397 2633 464 \nQ 2878 531 3122 666 \nL 3122 134 \nQ 2881 22 2623 -34 \nQ 2366 -91 2075 -91 \nQ 1284 -91 818 406 \nQ 353 903 353 1747 \nQ 353 2603 823 3093 \nQ 1294 3584 2113 3584 \nQ 2378 3584 2631 3529 \nQ 2884 3475 3122 3366 \nz\n\" transform=\"scale(0.015625)\"/>\n       <path id=\"DejaVuSans-67\" d=\"M 2906 1791 \nQ 2906 2416 2648 2759 \nQ 2391 3103 1925 3103 \nQ 1463 3103 1205 2759 \nQ 947 2416 947 1791 \nQ 947 1169 1205 825 \nQ 1463 481 1925 481 \nQ 2391 481 2648 825 \nQ 2906 1169 2906 1791 \nz\nM 3481 434 \nQ 3481 -459 3084 -895 \nQ 2688 -1331 1869 -1331 \nQ 1566 -1331 1297 -1286 \nQ 1028 -1241 775 -1147 \nL 775 -588 \nQ 1028 -725 1275 -790 \nQ 1522 -856 1778 -856 \nQ 2344 -856 2625 -561 \nQ 2906 -266 2906 331 \nL 2906 616 \nQ 2728 306 2450 153 \nQ 2172 0 1784 0 \nQ 1141 0 747 490 \nQ 353 981 353 1791 \nQ 353 2603 747 3093 \nQ 1141 3584 1784 3584 \nQ 2172 3584 2450 3431 \nQ 2728 3278 2906 2969 \nL 2906 3500 \nL 3481 3500 \nL 3481 434 \nz\n\" transform=\"scale(0.015625)\"/>\n       <path id=\"DejaVuSans-70\" d=\"M 1159 525 \nL 1159 -1331 \nL 581 -1331 \nL 581 3500 \nL 1159 3500 \nL 1159 2969 \nQ 1341 3281 1617 3432 \nQ 1894 3584 2278 3584 \nQ 2916 3584 3314 3078 \nQ 3713 2572 3713 1747 \nQ 3713 922 3314 415 \nQ 2916 -91 2278 -91 \nQ 1894 -91 1617 61 \nQ 1341 213 1159 525 \nz\nM 3116 1747 \nQ 3116 2381 2855 2742 \nQ 2594 3103 2138 3103 \nQ 1681 3103 1420 2742 \nQ 1159 2381 1159 1747 \nQ 1159 1113 1420 752 \nQ 1681 391 2138 391 \nQ 2594 391 2855 752 \nQ 3116 1113 3116 1747 \nz\n\" transform=\"scale(0.015625)\"/>\n       <path id=\"DejaVuSans-29\" d=\"M 513 4856 \nL 1013 4856 \nQ 1481 4119 1714 3412 \nQ 1947 2706 1947 2009 \nQ 1947 1309 1714 600 \nQ 1481 -109 1013 -844 \nL 513 -844 \nQ 928 -128 1133 580 \nQ 1338 1288 1338 2009 \nQ 1338 2731 1133 3434 \nQ 928 4138 513 4856 \nz\n\" transform=\"scale(0.015625)\"/>\n      </defs>\n      <use xlink:href=\"#DejaVuSans-54\"/>\n      <use xlink:href=\"#DejaVuSans-6f\" x=\"44.083984\"/>\n      <use xlink:href=\"#DejaVuSans-6b\" x=\"105.265625\"/>\n      <use xlink:href=\"#DejaVuSans-65\" x=\"159.550781\"/>\n      <use xlink:href=\"#DejaVuSans-6e\" x=\"221.074219\"/>\n      <use xlink:href=\"#DejaVuSans-20\" x=\"284.453125\"/>\n      <use xlink:href=\"#DejaVuSans-28\" x=\"316.240234\"/>\n      <use xlink:href=\"#DejaVuSans-64\" x=\"355.253906\"/>\n      <use xlink:href=\"#DejaVuSans-65\" x=\"418.730469\"/>\n      <use xlink:href=\"#DejaVuSans-73\" x=\"480.253906\"/>\n      <use xlink:href=\"#DejaVuSans-63\" x=\"532.353516\"/>\n      <use xlink:href=\"#DejaVuSans-65\" x=\"587.333984\"/>\n      <use xlink:href=\"#DejaVuSans-6e\" x=\"648.857422\"/>\n      <use xlink:href=\"#DejaVuSans-64\" x=\"712.236328\"/>\n      <use xlink:href=\"#DejaVuSans-69\" x=\"775.712891\"/>\n      <use xlink:href=\"#DejaVuSans-6e\" x=\"803.496094\"/>\n      <use xlink:href=\"#DejaVuSans-67\" x=\"866.875\"/>\n      <use xlink:href=\"#DejaVuSans-20\" x=\"930.351562\"/>\n      <use xlink:href=\"#DejaVuSans-70\" x=\"962.138672\"/>\n      <use xlink:href=\"#DejaVuSans-72\" x=\"1025.615234\"/>\n      <use xlink:href=\"#DejaVuSans-6f\" x=\"1064.478516\"/>\n      <use xlink:href=\"#DejaVuSans-62\" x=\"1125.660156\"/>\n      <use xlink:href=\"#DejaVuSans-61\" x=\"1189.136719\"/>\n      <use xlink:href=\"#DejaVuSans-62\" x=\"1250.416016\"/>\n      <use xlink:href=\"#DejaVuSans-69\" x=\"1313.892578\"/>\n      <use xlink:href=\"#DejaVuSans-6c\" x=\"1341.675781\"/>\n      <use xlink:href=\"#DejaVuSans-69\" x=\"1369.458984\"/>\n      <use xlink:href=\"#DejaVuSans-74\" x=\"1397.242188\"/>\n      <use xlink:href=\"#DejaVuSans-79\" x=\"1436.451172\"/>\n      <use xlink:href=\"#DejaVuSans-29\" x=\"1495.630859\"/>\n     </g>\n    </g>\n   </g>\n   <g id=\"matplotlib.axis_4\">\n    <g id=\"ytick_34\">\n     <g id=\"line2d_60\">\n      <g>\n       <use xlink:href=\"#mba60aa1a9e\" x=\"398.737568\" y=\"192.62175\" style=\"stroke: #000000; stroke-width: 0.8\"/>\n      </g>\n     </g>\n     <g id=\"text_20\">\n      <!-- 0.75 -->\n      <g transform=\"translate(365.018818 197.180812)scale(0.12 -0.12)\">\n       <defs>\n        <path id=\"DejaVuSans-2e\" d=\"M 684 794 \nL 1344 794 \nL 1344 0 \nL 684 0 \nL 684 794 \nz\n\" transform=\"scale(0.015625)\"/>\n       </defs>\n       <use xlink:href=\"#DejaVuSans-30\"/>\n       <use xlink:href=\"#DejaVuSans-2e\" x=\"63.623047\"/>\n       <use xlink:href=\"#DejaVuSans-37\" x=\"95.410156\"/>\n       <use xlink:href=\"#DejaVuSans-35\" x=\"159.033203\"/>\n      </g>\n     </g>\n    </g>\n    <g id=\"ytick_35\">\n     <g id=\"line2d_61\">\n      <g>\n       <use xlink:href=\"#mba60aa1a9e\" x=\"398.737568\" y=\"160.22175\" style=\"stroke: #000000; stroke-width: 0.8\"/>\n      </g>\n     </g>\n     <g id=\"text_21\">\n      <!-- 0.80 -->\n      <g transform=\"translate(365.018818 164.780813)scale(0.12 -0.12)\">\n       <use xlink:href=\"#DejaVuSans-30\"/>\n       <use xlink:href=\"#DejaVuSans-2e\" x=\"63.623047\"/>\n       <use xlink:href=\"#DejaVuSans-38\" x=\"95.410156\"/>\n       <use xlink:href=\"#DejaVuSans-30\" x=\"159.033203\"/>\n      </g>\n     </g>\n    </g>\n    <g id=\"ytick_36\">\n     <g id=\"line2d_62\">\n      <g>\n       <use xlink:href=\"#mba60aa1a9e\" x=\"398.737568\" y=\"127.82175\" style=\"stroke: #000000; stroke-width: 0.8\"/>\n      </g>\n     </g>\n     <g id=\"text_22\">\n      <!-- 0.85 -->\n      <g transform=\"translate(365.018818 132.380812)scale(0.12 -0.12)\">\n       <use xlink:href=\"#DejaVuSans-30\"/>\n       <use xlink:href=\"#DejaVuSans-2e\" x=\"63.623047\"/>\n       <use xlink:href=\"#DejaVuSans-38\" x=\"95.410156\"/>\n       <use xlink:href=\"#DejaVuSans-35\" x=\"159.033203\"/>\n      </g>\n     </g>\n    </g>\n    <g id=\"ytick_37\">\n     <g id=\"line2d_63\">\n      <g>\n       <use xlink:href=\"#mba60aa1a9e\" x=\"398.737568\" y=\"95.42175\" style=\"stroke: #000000; stroke-width: 0.8\"/>\n      </g>\n     </g>\n     <g id=\"text_23\">\n      <!-- 0.90 -->\n      <g transform=\"translate(365.018818 99.980812)scale(0.12 -0.12)\">\n       <use xlink:href=\"#DejaVuSans-30\"/>\n       <use xlink:href=\"#DejaVuSans-2e\" x=\"63.623047\"/>\n       <use xlink:href=\"#DejaVuSans-39\" x=\"95.410156\"/>\n       <use xlink:href=\"#DejaVuSans-30\" x=\"159.033203\"/>\n      </g>\n     </g>\n    </g>\n    <g id=\"ytick_38\">\n     <g id=\"line2d_64\">\n      <g>\n       <use xlink:href=\"#mba60aa1a9e\" x=\"398.737568\" y=\"63.02175\" style=\"stroke: #000000; stroke-width: 0.8\"/>\n      </g>\n     </g>\n     <g id=\"text_24\">\n      <!-- 0.95 -->\n      <g transform=\"translate(365.018818 67.580813)scale(0.12 -0.12)\">\n       <use xlink:href=\"#DejaVuSans-30\"/>\n       <use xlink:href=\"#DejaVuSans-2e\" x=\"63.623047\"/>\n       <use xlink:href=\"#DejaVuSans-39\" x=\"95.410156\"/>\n       <use xlink:href=\"#DejaVuSans-35\" x=\"159.033203\"/>\n      </g>\n     </g>\n    </g>\n    <g id=\"ytick_39\">\n     <g id=\"line2d_65\">\n      <g>\n       <use xlink:href=\"#mba60aa1a9e\" x=\"398.737568\" y=\"30.62175\" style=\"stroke: #000000; stroke-width: 0.8\"/>\n      </g>\n     </g>\n     <g id=\"text_25\">\n      <!-- 1.00 -->\n      <g transform=\"translate(365.018818 35.180813)scale(0.12 -0.12)\">\n       <use xlink:href=\"#DejaVuSans-31\"/>\n       <use xlink:href=\"#DejaVuSans-2e\" x=\"63.623047\"/>\n       <use xlink:href=\"#DejaVuSans-30\" x=\"95.410156\"/>\n       <use xlink:href=\"#DejaVuSans-30\" x=\"159.033203\"/>\n      </g>\n     </g>\n    </g>\n    <g id=\"ytick_40\">\n     <g id=\"line2d_66\">\n      <g>\n       <use xlink:href=\"#mbfcc5597b9\" x=\"398.737568\" y=\"186.14175\" style=\"stroke: #000000; stroke-width: 0.6\"/>\n      </g>\n     </g>\n    </g>\n    <g id=\"ytick_41\">\n     <g id=\"line2d_67\">\n      <g>\n       <use xlink:href=\"#mbfcc5597b9\" x=\"398.737568\" y=\"179.66175\" style=\"stroke: #000000; stroke-width: 0.6\"/>\n      </g>\n     </g>\n    </g>\n    <g id=\"ytick_42\">\n     <g id=\"line2d_68\">\n      <g>\n       <use xlink:href=\"#mbfcc5597b9\" x=\"398.737568\" y=\"173.18175\" style=\"stroke: #000000; stroke-width: 0.6\"/>\n      </g>\n     </g>\n    </g>\n    <g id=\"ytick_43\">\n     <g id=\"line2d_69\">\n      <g>\n       <use xlink:href=\"#mbfcc5597b9\" x=\"398.737568\" y=\"166.70175\" style=\"stroke: #000000; stroke-width: 0.6\"/>\n      </g>\n     </g>\n    </g>\n    <g id=\"ytick_44\">\n     <g id=\"line2d_70\">\n      <g>\n       <use xlink:href=\"#mbfcc5597b9\" x=\"398.737568\" y=\"153.74175\" style=\"stroke: #000000; stroke-width: 0.6\"/>\n      </g>\n     </g>\n    </g>\n    <g id=\"ytick_45\">\n     <g id=\"line2d_71\">\n      <g>\n       <use xlink:href=\"#mbfcc5597b9\" x=\"398.737568\" y=\"147.26175\" style=\"stroke: #000000; stroke-width: 0.6\"/>\n      </g>\n     </g>\n    </g>\n    <g id=\"ytick_46\">\n     <g id=\"line2d_72\">\n      <g>\n       <use xlink:href=\"#mbfcc5597b9\" x=\"398.737568\" y=\"140.78175\" style=\"stroke: #000000; stroke-width: 0.6\"/>\n      </g>\n     </g>\n    </g>\n    <g id=\"ytick_47\">\n     <g id=\"line2d_73\">\n      <g>\n       <use xlink:href=\"#mbfcc5597b9\" x=\"398.737568\" y=\"134.30175\" style=\"stroke: #000000; stroke-width: 0.6\"/>\n      </g>\n     </g>\n    </g>\n    <g id=\"ytick_48\">\n     <g id=\"line2d_74\">\n      <g>\n       <use xlink:href=\"#mbfcc5597b9\" x=\"398.737568\" y=\"121.34175\" style=\"stroke: #000000; stroke-width: 0.6\"/>\n      </g>\n     </g>\n    </g>\n    <g id=\"ytick_49\">\n     <g id=\"line2d_75\">\n      <g>\n       <use xlink:href=\"#mbfcc5597b9\" x=\"398.737568\" y=\"114.86175\" style=\"stroke: #000000; stroke-width: 0.6\"/>\n      </g>\n     </g>\n    </g>\n    <g id=\"ytick_50\">\n     <g id=\"line2d_76\">\n      <g>\n       <use xlink:href=\"#mbfcc5597b9\" x=\"398.737568\" y=\"108.38175\" style=\"stroke: #000000; stroke-width: 0.6\"/>\n      </g>\n     </g>\n    </g>\n    <g id=\"ytick_51\">\n     <g id=\"line2d_77\">\n      <g>\n       <use xlink:href=\"#mbfcc5597b9\" x=\"398.737568\" y=\"101.90175\" style=\"stroke: #000000; stroke-width: 0.6\"/>\n      </g>\n     </g>\n    </g>\n    <g id=\"ytick_52\">\n     <g id=\"line2d_78\">\n      <g>\n       <use xlink:href=\"#mbfcc5597b9\" x=\"398.737568\" y=\"88.94175\" style=\"stroke: #000000; stroke-width: 0.6\"/>\n      </g>\n     </g>\n    </g>\n    <g id=\"ytick_53\">\n     <g id=\"line2d_79\">\n      <g>\n       <use xlink:href=\"#mbfcc5597b9\" x=\"398.737568\" y=\"82.46175\" style=\"stroke: #000000; stroke-width: 0.6\"/>\n      </g>\n     </g>\n    </g>\n    <g id=\"ytick_54\">\n     <g id=\"line2d_80\">\n      <g>\n       <use xlink:href=\"#mbfcc5597b9\" x=\"398.737568\" y=\"75.98175\" style=\"stroke: #000000; stroke-width: 0.6\"/>\n      </g>\n     </g>\n    </g>\n    <g id=\"ytick_55\">\n     <g id=\"line2d_81\">\n      <g>\n       <use xlink:href=\"#mbfcc5597b9\" x=\"398.737568\" y=\"69.50175\" style=\"stroke: #000000; stroke-width: 0.6\"/>\n      </g>\n     </g>\n    </g>\n    <g id=\"ytick_56\">\n     <g id=\"line2d_82\">\n      <g>\n       <use xlink:href=\"#mbfcc5597b9\" x=\"398.737568\" y=\"56.54175\" style=\"stroke: #000000; stroke-width: 0.6\"/>\n      </g>\n     </g>\n    </g>\n    <g id=\"ytick_57\">\n     <g id=\"line2d_83\">\n      <g>\n       <use xlink:href=\"#mbfcc5597b9\" x=\"398.737568\" y=\"50.06175\" style=\"stroke: #000000; stroke-width: 0.6\"/>\n      </g>\n     </g>\n    </g>\n    <g id=\"ytick_58\">\n     <g id=\"line2d_84\">\n      <g>\n       <use xlink:href=\"#mbfcc5597b9\" x=\"398.737568\" y=\"43.58175\" style=\"stroke: #000000; stroke-width: 0.6\"/>\n      </g>\n     </g>\n    </g>\n    <g id=\"ytick_59\">\n     <g id=\"line2d_85\">\n      <g>\n       <use xlink:href=\"#mbfcc5597b9\" x=\"398.737568\" y=\"37.10175\" style=\"stroke: #000000; stroke-width: 0.6\"/>\n      </g>\n     </g>\n    </g>\n    <g id=\"ytick_60\">\n     <g id=\"line2d_86\">\n      <g>\n       <use xlink:href=\"#mbfcc5597b9\" x=\"398.737568\" y=\"24.14175\" style=\"stroke: #000000; stroke-width: 0.6\"/>\n      </g>\n     </g>\n    </g>\n    <g id=\"text_26\">\n     <!-- Probability -->\n     <g transform=\"translate(358.523193 140.096438)rotate(-90)scale(0.12 -0.12)\">\n      <use xlink:href=\"#DejaVuSans-50\"/>\n      <use xlink:href=\"#DejaVuSans-72\" x=\"58.552734\"/>\n      <use xlink:href=\"#DejaVuSans-6f\" x=\"97.416016\"/>\n      <use xlink:href=\"#DejaVuSans-62\" x=\"158.597656\"/>\n      <use xlink:href=\"#DejaVuSans-61\" x=\"222.074219\"/>\n      <use xlink:href=\"#DejaVuSans-62\" x=\"283.353516\"/>\n      <use xlink:href=\"#DejaVuSans-69\" x=\"346.830078\"/>\n      <use xlink:href=\"#DejaVuSans-6c\" x=\"374.613281\"/>\n      <use xlink:href=\"#DejaVuSans-69\" x=\"402.396484\"/>\n      <use xlink:href=\"#DejaVuSans-74\" x=\"430.179688\"/>\n      <use xlink:href=\"#DejaVuSans-79\" x=\"469.388672\"/>\n     </g>\n    </g>\n   </g>\n   <g id=\"line2d_87\">\n    <path d=\"M 399.908283 235.04925 \nL 400.482247 205.437516 \nL 401.157607 181.206058 \nL 401.804826 165.922694 \nL 402.677165 151.323048 \nL 403.577645 139.155969 \nL 404.646964 127.832897 \nL 405.772563 118.198921 \nL 407.067002 109.045619 \nL 408.474001 100.831493 \nL 409.82472 94.374751 \nL 411.175439 88.970739 \nL 412.751277 83.655794 \nL 414.411536 78.814531 \nL 415.987375 74.856943 \nL 417.788333 70.956595 \nL 419.786272 67.114337 \nL 421.67165 63.978933 \nL 424.063548 60.448987 \nL 426.314746 57.510333 \nL 428.678505 54.78469 \nL 431.070403 52.359269 \nL 433.377881 50.305448 \nL 436.023039 48.243979 \nL 439.090296 46.145084 \nL 442.241974 44.27376 \nL 445.449931 42.638081 \nL 449.079988 41.03191 \nL 452.681905 39.672467 \nL 456.705922 38.386835 \nL 461.574138 37.07239 \nL 466.583054 35.955196 \nL 471.87337 35.014784 \nL 478.204865 34.118943 \nL 485.099159 33.388335 \nL 493.597433 32.729644 \nL 503.418285 32.207296 \nL 515.518475 31.786953 \nL 531.445702 31.460775 \nL 556.743542 31.189829 \nL 604.553364 30.972802 \nL 680.165484 30.837078 \nL 680.165484 30.837078 \n\" clip-path=\"url(#p3861a87d24)\" style=\"fill: none; stroke: #000000; stroke-width: 1.5; stroke-linecap: square\"/>\n   </g>\n   <g id=\"LineCollection_1\">\n    <path d=\"M 455.017524 235.04925 \nL 455.017524 -1 \n\" clip-path=\"url(#p3861a87d24)\" style=\"fill: none; stroke: #0071bc; stroke-width: 1.5\"/>\n   </g>\n   <g id=\"LineCollection_2\">\n    <path d=\"M 398.737568 63.02175 \nL 680.137344 63.02175 \n\" clip-path=\"url(#p3861a87d24)\" style=\"fill: none; stroke-dasharray: 5.55,2.4; stroke-dashoffset: 0; stroke: #f7931e; stroke-width: 1.5\"/>\n   </g>\n   <g id=\"patch_107\">\n    <path d=\"M 398.737568 192.62175 \nL 398.737568 24.14175 \n\" style=\"fill: none; stroke: #000000; stroke-width: 0.8; stroke-linejoin: miter; stroke-linecap: square\"/>\n   </g>\n   <g id=\"patch_108\">\n    <path d=\"M 680.137344 192.62175 \nL 680.137344 24.14175 \n\" style=\"fill: none; stroke: #000000; stroke-width: 0.8; stroke-linejoin: miter; stroke-linecap: square\"/>\n   </g>\n   <g id=\"patch_109\">\n    <path d=\"M 398.737568 192.62175 \nL 680.137344 192.62175 \n\" style=\"fill: none; stroke: #000000; stroke-width: 0.8; stroke-linejoin: miter; stroke-linecap: square\"/>\n   </g>\n   <g id=\"patch_110\">\n    <path d=\"M 398.737568 24.14175 \nL 680.137344 24.14175 \n\" style=\"fill: none; stroke: #000000; stroke-width: 0.8; stroke-linejoin: miter; stroke-linecap: square\"/>\n   </g>\n   <g id=\"text_27\">\n    <!-- Cumulative probability -->\n    <g transform=\"translate(457.642081 18.14175)scale(0.144 -0.144)\">\n     <defs>\n      <path id=\"DejaVuSans-6d\" d=\"M 3328 2828 \nQ 3544 3216 3844 3400 \nQ 4144 3584 4550 3584 \nQ 5097 3584 5394 3201 \nQ 5691 2819 5691 2113 \nL 5691 0 \nL 5113 0 \nL 5113 2094 \nQ 5113 2597 4934 2840 \nQ 4756 3084 4391 3084 \nQ 3944 3084 3684 2787 \nQ 3425 2491 3425 1978 \nL 3425 0 \nL 2847 0 \nL 2847 2094 \nQ 2847 2600 2669 2842 \nQ 2491 3084 2119 3084 \nQ 1678 3084 1418 2786 \nQ 1159 2488 1159 1978 \nL 1159 0 \nL 581 0 \nL 581 3500 \nL 1159 3500 \nL 1159 2956 \nQ 1356 3278 1631 3431 \nQ 1906 3584 2284 3584 \nQ 2666 3584 2933 3390 \nQ 3200 3197 3328 2828 \nz\n\" transform=\"scale(0.015625)\"/>\n      <path id=\"DejaVuSans-76\" d=\"M 191 3500 \nL 800 3500 \nL 1894 563 \nL 2988 3500 \nL 3597 3500 \nL 2284 0 \nL 1503 0 \nL 191 3500 \nz\n\" transform=\"scale(0.015625)\"/>\n     </defs>\n     <use xlink:href=\"#DejaVuSans-43\"/>\n     <use xlink:href=\"#DejaVuSans-75\" x=\"69.824219\"/>\n     <use xlink:href=\"#DejaVuSans-6d\" x=\"133.203125\"/>\n     <use xlink:href=\"#DejaVuSans-75\" x=\"230.615234\"/>\n     <use xlink:href=\"#DejaVuSans-6c\" x=\"293.994141\"/>\n     <use xlink:href=\"#DejaVuSans-61\" x=\"321.777344\"/>\n     <use xlink:href=\"#DejaVuSans-74\" x=\"383.056641\"/>\n     <use xlink:href=\"#DejaVuSans-69\" x=\"422.265625\"/>\n     <use xlink:href=\"#DejaVuSans-76\" x=\"450.048828\"/>\n     <use xlink:href=\"#DejaVuSans-65\" x=\"509.228516\"/>\n     <use xlink:href=\"#DejaVuSans-20\" x=\"570.751953\"/>\n     <use xlink:href=\"#DejaVuSans-70\" x=\"602.539062\"/>\n     <use xlink:href=\"#DejaVuSans-72\" x=\"666.015625\"/>\n     <use xlink:href=\"#DejaVuSans-6f\" x=\"704.878906\"/>\n     <use xlink:href=\"#DejaVuSans-62\" x=\"766.060547\"/>\n     <use xlink:href=\"#DejaVuSans-61\" x=\"829.537109\"/>\n     <use xlink:href=\"#DejaVuSans-62\" x=\"890.816406\"/>\n     <use xlink:href=\"#DejaVuSans-69\" x=\"954.292969\"/>\n     <use xlink:href=\"#DejaVuSans-6c\" x=\"982.076172\"/>\n     <use xlink:href=\"#DejaVuSans-69\" x=\"1009.859375\"/>\n     <use xlink:href=\"#DejaVuSans-74\" x=\"1037.642578\"/>\n     <use xlink:href=\"#DejaVuSans-79\" x=\"1076.851562\"/>\n    </g>\n   </g>\n   <g id=\"legend_1\">\n    <g id=\"patch_111\">\n     <path d=\"M 469.064844 186.62175 \nL 671.737344 186.62175 \nQ 674.137344 186.62175 674.137344 184.22175 \nL 674.137344 150.19425 \nQ 674.137344 147.79425 671.737344 147.79425 \nL 469.064844 147.79425 \nQ 466.664844 147.79425 466.664844 150.19425 \nL 466.664844 184.22175 \nQ 466.664844 186.62175 469.064844 186.62175 \nz\n\" style=\"fill: #ffffff; opacity: 0.8; stroke: #cccccc; stroke-linejoin: miter\"/>\n    </g>\n    <g id=\"line2d_88\">\n     <path d=\"M 471.464844 157.512375 \nL 495.464844 157.512375 \n\" style=\"fill: none; stroke: #0071bc; stroke-width: 1.5\"/>\n    </g>\n    <g id=\"text_28\">\n     <!-- top-k threshold (k=2000) -->\n     <g transform=\"translate(505.064844 161.712375)scale(0.12 -0.12)\">\n      <defs>\n       <path id=\"DejaVuSans-2d\" d=\"M 313 2009 \nL 1997 2009 \nL 1997 1497 \nL 313 1497 \nL 313 2009 \nz\n\" transform=\"scale(0.015625)\"/>\n       <path id=\"DejaVuSans-68\" d=\"M 3513 2113 \nL 3513 0 \nL 2938 0 \nL 2938 2094 \nQ 2938 2591 2744 2837 \nQ 2550 3084 2163 3084 \nQ 1697 3084 1428 2787 \nQ 1159 2491 1159 1978 \nL 1159 0 \nL 581 0 \nL 581 4863 \nL 1159 4863 \nL 1159 2956 \nQ 1366 3272 1645 3428 \nQ 1925 3584 2291 3584 \nQ 2894 3584 3203 3211 \nQ 3513 2838 3513 2113 \nz\n\" transform=\"scale(0.015625)\"/>\n       <path id=\"DejaVuSans-3d\" d=\"M 678 2906 \nL 4684 2906 \nL 4684 2381 \nL 678 2381 \nL 678 2906 \nz\nM 678 1631 \nL 4684 1631 \nL 4684 1100 \nL 678 1100 \nL 678 1631 \nz\n\" transform=\"scale(0.015625)\"/>\n      </defs>\n      <use xlink:href=\"#DejaVuSans-74\"/>\n      <use xlink:href=\"#DejaVuSans-6f\" x=\"39.208984\"/>\n      <use xlink:href=\"#DejaVuSans-70\" x=\"100.390625\"/>\n      <use xlink:href=\"#DejaVuSans-2d\" x=\"163.867188\"/>\n      <use xlink:href=\"#DejaVuSans-6b\" x=\"199.951172\"/>\n      <use xlink:href=\"#DejaVuSans-20\" x=\"257.861328\"/>\n      <use xlink:href=\"#DejaVuSans-74\" x=\"289.648438\"/>\n      <use xlink:href=\"#DejaVuSans-68\" x=\"328.857422\"/>\n      <use xlink:href=\"#DejaVuSans-72\" x=\"392.236328\"/>\n      <use xlink:href=\"#DejaVuSans-65\" x=\"431.099609\"/>\n      <use xlink:href=\"#DejaVuSans-73\" x=\"492.623047\"/>\n      <use xlink:href=\"#DejaVuSans-68\" x=\"544.722656\"/>\n      <use xlink:href=\"#DejaVuSans-6f\" x=\"608.101562\"/>\n      <use xlink:href=\"#DejaVuSans-6c\" x=\"669.283203\"/>\n      <use xlink:href=\"#DejaVuSans-64\" x=\"697.066406\"/>\n      <use xlink:href=\"#DejaVuSans-20\" x=\"760.542969\"/>\n      <use xlink:href=\"#DejaVuSans-28\" x=\"792.330078\"/>\n      <use xlink:href=\"#DejaVuSans-6b\" x=\"831.34375\"/>\n      <use xlink:href=\"#DejaVuSans-3d\" x=\"889.253906\"/>\n      <use xlink:href=\"#DejaVuSans-32\" x=\"973.042969\"/>\n      <use xlink:href=\"#DejaVuSans-30\" x=\"1036.666016\"/>\n      <use xlink:href=\"#DejaVuSans-30\" x=\"1100.289062\"/>\n      <use xlink:href=\"#DejaVuSans-30\" x=\"1163.912109\"/>\n      <use xlink:href=\"#DejaVuSans-29\" x=\"1227.535156\"/>\n     </g>\n    </g>\n    <g id=\"line2d_89\">\n     <path d=\"M 471.464844 175.126125 \nL 495.464844 175.126125 \n\" style=\"fill: none; stroke-dasharray: 5.55,2.4; stroke-dashoffset: 0; stroke: #f7931e; stroke-width: 1.5\"/>\n    </g>\n    <g id=\"text_29\">\n     <!-- nucleus threshold (p=0.95) -->\n     <g transform=\"translate(505.064844 179.326125)scale(0.12 -0.12)\">\n      <use xlink:href=\"#DejaVuSans-6e\"/>\n      <use xlink:href=\"#DejaVuSans-75\" x=\"63.378906\"/>\n      <use xlink:href=\"#DejaVuSans-63\" x=\"126.757812\"/>\n      <use xlink:href=\"#DejaVuSans-6c\" x=\"181.738281\"/>\n      <use xlink:href=\"#DejaVuSans-65\" x=\"209.521484\"/>\n      <use xlink:href=\"#DejaVuSans-75\" x=\"271.044922\"/>\n      <use xlink:href=\"#DejaVuSans-73\" x=\"334.423828\"/>\n      <use xlink:href=\"#DejaVuSans-20\" x=\"386.523438\"/>\n      <use xlink:href=\"#DejaVuSans-74\" x=\"418.310547\"/>\n      <use xlink:href=\"#DejaVuSans-68\" x=\"457.519531\"/>\n      <use xlink:href=\"#DejaVuSans-72\" x=\"520.898438\"/>\n      <use xlink:href=\"#DejaVuSans-65\" x=\"559.761719\"/>\n      <use xlink:href=\"#DejaVuSans-73\" x=\"621.285156\"/>\n      <use xlink:href=\"#DejaVuSans-68\" x=\"673.384766\"/>\n      <use xlink:href=\"#DejaVuSans-6f\" x=\"736.763672\"/>\n      <use xlink:href=\"#DejaVuSans-6c\" x=\"797.945312\"/>\n      <use xlink:href=\"#DejaVuSans-64\" x=\"825.728516\"/>\n      <use xlink:href=\"#DejaVuSans-20\" x=\"889.205078\"/>\n      <use xlink:href=\"#DejaVuSans-28\" x=\"920.992188\"/>\n      <use xlink:href=\"#DejaVuSans-70\" x=\"960.005859\"/>\n      <use xlink:href=\"#DejaVuSans-3d\" x=\"1023.482422\"/>\n      <use xlink:href=\"#DejaVuSans-30\" x=\"1107.271484\"/>\n      <use xlink:href=\"#DejaVuSans-2e\" x=\"1170.894531\"/>\n      <use xlink:href=\"#DejaVuSans-39\" x=\"1202.681641\"/>\n      <use xlink:href=\"#DejaVuSans-35\" x=\"1266.304688\"/>\n      <use xlink:href=\"#DejaVuSans-29\" x=\"1329.927734\"/>\n     </g>\n    </g>\n   </g>\n  </g>\n </g>\n <defs>\n  <clipPath id=\"p8ccd62f8cd\">\n   <rect x=\"50.93375\" y=\"24.14175\" width=\"281.399775\" height=\"168.48\"/>\n  </clipPath>\n  <clipPath id=\"p3861a87d24\">\n   <rect x=\"398.737568\" y=\"24.14175\" width=\"281.399775\" height=\"168.48\"/>\n  </clipPath>\n </defs>\n</svg>\n",
            "application/pdf": "[encoded data removed]"
          },
          "metadata": {
            "needs_background": "light"
          }
        }
      ],
      "source": [
        "#다음 토큰 예측의 확률 분포(왼쪽)과 내림차순으로 정렬된 토큰 확률의 누적 분포\n",
        "import matplotlib.pyplot as plt\n",
        "import numpy as np\n",
        "\n",
        "fig, axes = plt.subplots(1, 2, figsize=(10, 3.5))\n",
        "\n",
        "axes[0].hist(probs[0], bins=np.logspace(-10, -1, 100), color=\"C0\", edgecolor=\"C0\")\n",
        "axes[0].set_xscale(\"log\")\n",
        "axes[0].set_yscale(\"log\")\n",
        "axes[0].set_title(\"Probability distribution\")\n",
        "axes[0].set_xlabel(\"Probability\")\n",
        "axes[0].set_ylabel(\"Count\")\n",
        "#axes[0].grid(which=\"major\")\n",
        "\n",
        "axes[1].plot(np.cumsum(np.sort(probs[0])[::-1]), color=\"black\")\n",
        "axes[1].set_xlim([0, 10000])\n",
        "axes[1].set_ylim([0.75, 1.01])\n",
        "axes[1].set_title(\"Cumulative probability\")\n",
        "axes[1].set_ylabel(\"Probability\")\n",
        "axes[1].set_xlabel(\"Token (descending probability)\")\n",
        "#axes[1].grid(which=\"major\")\n",
        "axes[1].minorticks_on()\n",
        "#axes[1].grid(which='minor', linewidth='0.5')\n",
        "top_k_label = 'top-k threshold (k=2000)'\n",
        "top_p_label = 'nucleus threshold (p=0.95)'\n",
        "axes[1].vlines(x=2000, ymin=0, ymax=2, color='C0', label=top_k_label)\n",
        "axes[1].hlines(y=0.95, xmin=0, xmax=10000, color='C1', label=top_p_label, linestyle='--')\n",
        "axes[1].legend(loc='lower right')\n",
        "plt.tight_layout()"
      ]
    },
    {
      "cell_type": "code",
      "execution_count": null,
      "metadata": {
        "id": "yRBMUG7ccc_k"
      },
      "outputs": [],
      "source": [
        "torch.manual_seed(42);"
      ]
    },
    {
      "cell_type": "code",
      "execution_count": null,
      "metadata": {
        "id": "Sd1ChPKDcc_l",
        "outputId": "c8b4ed72-1776-44ac-9530-832b1f6efe52",
        "colab": {
          "base_uri": "https://localhost:8080/"
        }
      },
      "outputs": [
        {
          "output_type": "stream",
          "name": "stdout",
          "text": [
            "In a shocking finding, scientist discovered a herd of unicorns living in a\n",
            "remote, previously unexplored valley, in the Andes Mountains. Even more\n",
            "surprising to the researchers was the fact that the unicorns spoke perfect\n",
            "English.\n",
            "\n",
            "\n",
            "The wild unicorns roam the Andes Mountains in the region of Cajamarca, on the\n",
            "border with Argentina (Picture: Alamy/Ecole Nationale Supérieure d'Histoire\n",
            "Naturelle)\n",
            "\n",
            "The researchers came across about 50 of the animals in the valley. They had\n",
            "lived in such a remote and isolated area at that location for nearly a thousand\n",
            "years that\n"
          ]
        }
      ],
      "source": [
        "output_topk = model.generate(input_ids, max_length=max_length, do_sample=True, \n",
        "                             top_k=50)\n",
        "print(tokenizer.decode(output_topk[0]))"
      ]
    },
    {
      "cell_type": "code",
      "execution_count": null,
      "metadata": {
        "id": "QVNJEwY6cc_l"
      },
      "outputs": [],
      "source": [
        "torch.manual_seed(42);"
      ]
    },
    {
      "cell_type": "code",
      "execution_count": null,
      "metadata": {
        "id": "6-1Cscndcc_l",
        "outputId": "1b8f4b0e-2099-43b0-88d7-34710ba60018",
        "colab": {
          "base_uri": "https://localhost:8080/"
        }
      },
      "outputs": [
        {
          "output_type": "stream",
          "name": "stdout",
          "text": [
            "In a shocking finding, scientist discovered a herd of unicorns living in a\n",
            "remote, previously unexplored valley, in the Andes Mountains. Even more\n",
            "surprising to the researchers was the fact that the unicorns spoke perfect\n",
            "English.\n",
            "\n",
            "\n",
            "The scientists studied the DNA of the animals and came to the conclusion that\n",
            "the herd are descendants of a prehistoric herd that lived in Argentina about\n",
            "50,000 years ago.\n",
            "\n",
            "\n",
            "According to the scientific analysis, the first humans who migrated to South\n",
            "America migrated into the Andes Mountains from South Africa and Australia, after\n",
            "the last ice age had ended.\n",
            "\n",
            "\n",
            "Since their migration, the animals have been adapting to\n"
          ]
        }
      ],
      "source": [
        "output_topp = model.generate(input_ids, max_length=max_length, do_sample=True, \n",
        "                             top_p=0.90)\n",
        "print(tokenizer.decode(output_topp[0]))"
      ]
    },
    {
      "cell_type": "markdown",
      "metadata": {
        "jp-MarkdownHeadingCollapsed": true,
        "tags": [],
        "id": "VaRMmu7ncc_l"
      },
      "source": [
        "## 어떤 디코딩 방법이 최선일까요?"
      ]
    },
    {
      "cell_type": "markdown",
      "metadata": {
        "id": "D3gdiYlYcc_l"
      },
      "source": [
        "## 결론"
      ]
    }
  ],
  "metadata": {
    "kernelspec": {
      "display_name": "default:Python",
      "language": "python",
      "name": "conda-env-default-py"
    },
    "language_info": {
      "codemirror_mode": {
        "name": "ipython",
        "version": 3
      },
      "file_extension": ".py",
      "mimetype": "text/x-python",
      "name": "python",
      "nbconvert_exporter": "python",
      "pygments_lexer": "ipython3",
      "version": "3.9.10"
    },
    "colab": {
      "provenance": [],
      "machine_shape": "hm"
    },
    "accelerator": "GPU",
    "gpuClass": "premium",
    "widgets": {
      "application/vnd.jupyter.widget-state+json": {
        "e57555f5018a4a0cb7fd392089c9e68a": {
          "model_module": "@jupyter-widgets/controls",
          "model_name": "HBoxModel",
          "model_module_version": "1.5.0",
          "state": {
            "_dom_classes": [],
            "_model_module": "@jupyter-widgets/controls",
            "_model_module_version": "1.5.0",
            "_model_name": "HBoxModel",
            "_view_count": null,
            "_view_module": "@jupyter-widgets/controls",
            "_view_module_version": "1.5.0",
            "_view_name": "HBoxView",
            "box_style": "",
            "children": [
              "IPY_MODEL_9229f52138ca49479935b92c70e1c44f",
              "IPY_MODEL_2a4572d2405c45ae900d660ab6e46bbc",
              "IPY_MODEL_6e103964247a4cc083a37bcf84ebef17"
            ],
            "layout": "IPY_MODEL_4b77ba73aecb428587123ee5c239865a"
          }
        },
        "9229f52138ca49479935b92c70e1c44f": {
          "model_module": "@jupyter-widgets/controls",
          "model_name": "HTMLModel",
          "model_module_version": "1.5.0",
          "state": {
            "_dom_classes": [],
            "_model_module": "@jupyter-widgets/controls",
            "_model_module_version": "1.5.0",
            "_model_name": "HTMLModel",
            "_view_count": null,
            "_view_module": "@jupyter-widgets/controls",
            "_view_module_version": "1.5.0",
            "_view_name": "HTMLView",
            "description": "",
            "description_tooltip": null,
            "layout": "IPY_MODEL_4fc2322e0153435f88b74ecbd1fcb28e",
            "placeholder": "​",
            "style": "IPY_MODEL_5c28574f54544b0cbb51a589a09f962b",
            "value": "Downloading (…)lve/main/config.json: 100%"
          }
        },
        "2a4572d2405c45ae900d660ab6e46bbc": {
          "model_module": "@jupyter-widgets/controls",
          "model_name": "FloatProgressModel",
          "model_module_version": "1.5.0",
          "state": {
            "_dom_classes": [],
            "_model_module": "@jupyter-widgets/controls",
            "_model_module_version": "1.5.0",
            "_model_name": "FloatProgressModel",
            "_view_count": null,
            "_view_module": "@jupyter-widgets/controls",
            "_view_module_version": "1.5.0",
            "_view_name": "ProgressView",
            "bar_style": "success",
            "description": "",
            "description_tooltip": null,
            "layout": "IPY_MODEL_2ce2b35e1f614d9cbc8b1ad74f7c01b0",
            "max": 689,
            "min": 0,
            "orientation": "horizontal",
            "style": "IPY_MODEL_9764886f8c724f31b441e33254541942",
            "value": 689
          }
        },
        "6e103964247a4cc083a37bcf84ebef17": {
          "model_module": "@jupyter-widgets/controls",
          "model_name": "HTMLModel",
          "model_module_version": "1.5.0",
          "state": {
            "_dom_classes": [],
            "_model_module": "@jupyter-widgets/controls",
            "_model_module_version": "1.5.0",
            "_model_name": "HTMLModel",
            "_view_count": null,
            "_view_module": "@jupyter-widgets/controls",
            "_view_module_version": "1.5.0",
            "_view_name": "HTMLView",
            "description": "",
            "description_tooltip": null,
            "layout": "IPY_MODEL_a2283c017a3840b480d17df9268b9284",
            "placeholder": "​",
            "style": "IPY_MODEL_d66d70657c1d4faea50a67eb5dae0dc5",
            "value": " 689/689 [00:00&lt;00:00, 29.1kB/s]"
          }
        },
        "4b77ba73aecb428587123ee5c239865a": {
          "model_module": "@jupyter-widgets/base",
          "model_name": "LayoutModel",
          "model_module_version": "1.2.0",
          "state": {
            "_model_module": "@jupyter-widgets/base",
            "_model_module_version": "1.2.0",
            "_model_name": "LayoutModel",
            "_view_count": null,
            "_view_module": "@jupyter-widgets/base",
            "_view_module_version": "1.2.0",
            "_view_name": "LayoutView",
            "align_content": null,
            "align_items": null,
            "align_self": null,
            "border": null,
            "bottom": null,
            "display": null,
            "flex": null,
            "flex_flow": null,
            "grid_area": null,
            "grid_auto_columns": null,
            "grid_auto_flow": null,
            "grid_auto_rows": null,
            "grid_column": null,
            "grid_gap": null,
            "grid_row": null,
            "grid_template_areas": null,
            "grid_template_columns": null,
            "grid_template_rows": null,
            "height": null,
            "justify_content": null,
            "justify_items": null,
            "left": null,
            "margin": null,
            "max_height": null,
            "max_width": null,
            "min_height": null,
            "min_width": null,
            "object_fit": null,
            "object_position": null,
            "order": null,
            "overflow": null,
            "overflow_x": null,
            "overflow_y": null,
            "padding": null,
            "right": null,
            "top": null,
            "visibility": null,
            "width": null
          }
        },
        "4fc2322e0153435f88b74ecbd1fcb28e": {
          "model_module": "@jupyter-widgets/base",
          "model_name": "LayoutModel",
          "model_module_version": "1.2.0",
          "state": {
            "_model_module": "@jupyter-widgets/base",
            "_model_module_version": "1.2.0",
            "_model_name": "LayoutModel",
            "_view_count": null,
            "_view_module": "@jupyter-widgets/base",
            "_view_module_version": "1.2.0",
            "_view_name": "LayoutView",
            "align_content": null,
            "align_items": null,
            "align_self": null,
            "border": null,
            "bottom": null,
            "display": null,
            "flex": null,
            "flex_flow": null,
            "grid_area": null,
            "grid_auto_columns": null,
            "grid_auto_flow": null,
            "grid_auto_rows": null,
            "grid_column": null,
            "grid_gap": null,
            "grid_row": null,
            "grid_template_areas": null,
            "grid_template_columns": null,
            "grid_template_rows": null,
            "height": null,
            "justify_content": null,
            "justify_items": null,
            "left": null,
            "margin": null,
            "max_height": null,
            "max_width": null,
            "min_height": null,
            "min_width": null,
            "object_fit": null,
            "object_position": null,
            "order": null,
            "overflow": null,
            "overflow_x": null,
            "overflow_y": null,
            "padding": null,
            "right": null,
            "top": null,
            "visibility": null,
            "width": null
          }
        },
        "5c28574f54544b0cbb51a589a09f962b": {
          "model_module": "@jupyter-widgets/controls",
          "model_name": "DescriptionStyleModel",
          "model_module_version": "1.5.0",
          "state": {
            "_model_module": "@jupyter-widgets/controls",
            "_model_module_version": "1.5.0",
            "_model_name": "DescriptionStyleModel",
            "_view_count": null,
            "_view_module": "@jupyter-widgets/base",
            "_view_module_version": "1.2.0",
            "_view_name": "StyleView",
            "description_width": ""
          }
        },
        "2ce2b35e1f614d9cbc8b1ad74f7c01b0": {
          "model_module": "@jupyter-widgets/base",
          "model_name": "LayoutModel",
          "model_module_version": "1.2.0",
          "state": {
            "_model_module": "@jupyter-widgets/base",
            "_model_module_version": "1.2.0",
            "_model_name": "LayoutModel",
            "_view_count": null,
            "_view_module": "@jupyter-widgets/base",
            "_view_module_version": "1.2.0",
            "_view_name": "LayoutView",
            "align_content": null,
            "align_items": null,
            "align_self": null,
            "border": null,
            "bottom": null,
            "display": null,
            "flex": null,
            "flex_flow": null,
            "grid_area": null,
            "grid_auto_columns": null,
            "grid_auto_flow": null,
            "grid_auto_rows": null,
            "grid_column": null,
            "grid_gap": null,
            "grid_row": null,
            "grid_template_areas": null,
            "grid_template_columns": null,
            "grid_template_rows": null,
            "height": null,
            "justify_content": null,
            "justify_items": null,
            "left": null,
            "margin": null,
            "max_height": null,
            "max_width": null,
            "min_height": null,
            "min_width": null,
            "object_fit": null,
            "object_position": null,
            "order": null,
            "overflow": null,
            "overflow_x": null,
            "overflow_y": null,
            "padding": null,
            "right": null,
            "top": null,
            "visibility": null,
            "width": null
          }
        },
        "9764886f8c724f31b441e33254541942": {
          "model_module": "@jupyter-widgets/controls",
          "model_name": "ProgressStyleModel",
          "model_module_version": "1.5.0",
          "state": {
            "_model_module": "@jupyter-widgets/controls",
            "_model_module_version": "1.5.0",
            "_model_name": "ProgressStyleModel",
            "_view_count": null,
            "_view_module": "@jupyter-widgets/base",
            "_view_module_version": "1.2.0",
            "_view_name": "StyleView",
            "bar_color": null,
            "description_width": ""
          }
        },
        "a2283c017a3840b480d17df9268b9284": {
          "model_module": "@jupyter-widgets/base",
          "model_name": "LayoutModel",
          "model_module_version": "1.2.0",
          "state": {
            "_model_module": "@jupyter-widgets/base",
            "_model_module_version": "1.2.0",
            "_model_name": "LayoutModel",
            "_view_count": null,
            "_view_module": "@jupyter-widgets/base",
            "_view_module_version": "1.2.0",
            "_view_name": "LayoutView",
            "align_content": null,
            "align_items": null,
            "align_self": null,
            "border": null,
            "bottom": null,
            "display": null,
            "flex": null,
            "flex_flow": null,
            "grid_area": null,
            "grid_auto_columns": null,
            "grid_auto_flow": null,
            "grid_auto_rows": null,
            "grid_column": null,
            "grid_gap": null,
            "grid_row": null,
            "grid_template_areas": null,
            "grid_template_columns": null,
            "grid_template_rows": null,
            "height": null,
            "justify_content": null,
            "justify_items": null,
            "left": null,
            "margin": null,
            "max_height": null,
            "max_width": null,
            "min_height": null,
            "min_width": null,
            "object_fit": null,
            "object_position": null,
            "order": null,
            "overflow": null,
            "overflow_x": null,
            "overflow_y": null,
            "padding": null,
            "right": null,
            "top": null,
            "visibility": null,
            "width": null
          }
        },
        "d66d70657c1d4faea50a67eb5dae0dc5": {
          "model_module": "@jupyter-widgets/controls",
          "model_name": "DescriptionStyleModel",
          "model_module_version": "1.5.0",
          "state": {
            "_model_module": "@jupyter-widgets/controls",
            "_model_module_version": "1.5.0",
            "_model_name": "DescriptionStyleModel",
            "_view_count": null,
            "_view_module": "@jupyter-widgets/base",
            "_view_module_version": "1.2.0",
            "_view_name": "StyleView",
            "description_width": ""
          }
        },
        "f3a2d9e97f774ed4aa857737f2d46a6f": {
          "model_module": "@jupyter-widgets/controls",
          "model_name": "HBoxModel",
          "model_module_version": "1.5.0",
          "state": {
            "_dom_classes": [],
            "_model_module": "@jupyter-widgets/controls",
            "_model_module_version": "1.5.0",
            "_model_name": "HBoxModel",
            "_view_count": null,
            "_view_module": "@jupyter-widgets/controls",
            "_view_module_version": "1.5.0",
            "_view_name": "HBoxView",
            "box_style": "",
            "children": [
              "IPY_MODEL_cc89ed89b3bc4a5eadea64224927dd47",
              "IPY_MODEL_29b207ce6af249f4a544d7cf8aabbd64",
              "IPY_MODEL_b60f790a031543b68d25667321dd1162"
            ],
            "layout": "IPY_MODEL_f3bb0e94f6f64d6aa54ca0189e006dd8"
          }
        },
        "cc89ed89b3bc4a5eadea64224927dd47": {
          "model_module": "@jupyter-widgets/controls",
          "model_name": "HTMLModel",
          "model_module_version": "1.5.0",
          "state": {
            "_dom_classes": [],
            "_model_module": "@jupyter-widgets/controls",
            "_model_module_version": "1.5.0",
            "_model_name": "HTMLModel",
            "_view_count": null,
            "_view_module": "@jupyter-widgets/controls",
            "_view_module_version": "1.5.0",
            "_view_name": "HTMLView",
            "description": "",
            "description_tooltip": null,
            "layout": "IPY_MODEL_f88ab426863642ff9212cf1c76e45e9d",
            "placeholder": "​",
            "style": "IPY_MODEL_1b7ff0b42fdb458889ade750028cf9fb",
            "value": "Downloading (…)olve/main/vocab.json: 100%"
          }
        },
        "29b207ce6af249f4a544d7cf8aabbd64": {
          "model_module": "@jupyter-widgets/controls",
          "model_name": "FloatProgressModel",
          "model_module_version": "1.5.0",
          "state": {
            "_dom_classes": [],
            "_model_module": "@jupyter-widgets/controls",
            "_model_module_version": "1.5.0",
            "_model_name": "FloatProgressModel",
            "_view_count": null,
            "_view_module": "@jupyter-widgets/controls",
            "_view_module_version": "1.5.0",
            "_view_name": "ProgressView",
            "bar_style": "success",
            "description": "",
            "description_tooltip": null,
            "layout": "IPY_MODEL_18dea8fece6d4ac99b22ff0f7d248598",
            "max": 1042301,
            "min": 0,
            "orientation": "horizontal",
            "style": "IPY_MODEL_4f9831be88244560b3dad15bb7d05aae",
            "value": 1042301
          }
        },
        "b60f790a031543b68d25667321dd1162": {
          "model_module": "@jupyter-widgets/controls",
          "model_name": "HTMLModel",
          "model_module_version": "1.5.0",
          "state": {
            "_dom_classes": [],
            "_model_module": "@jupyter-widgets/controls",
            "_model_module_version": "1.5.0",
            "_model_name": "HTMLModel",
            "_view_count": null,
            "_view_module": "@jupyter-widgets/controls",
            "_view_module_version": "1.5.0",
            "_view_name": "HTMLView",
            "description": "",
            "description_tooltip": null,
            "layout": "IPY_MODEL_3d136bc47eb044b09cada3313068cd76",
            "placeholder": "​",
            "style": "IPY_MODEL_d993f548388c4937b781cce17c2b23f9",
            "value": " 1.04M/1.04M [00:00&lt;00:00, 7.14MB/s]"
          }
        },
        "f3bb0e94f6f64d6aa54ca0189e006dd8": {
          "model_module": "@jupyter-widgets/base",
          "model_name": "LayoutModel",
          "model_module_version": "1.2.0",
          "state": {
            "_model_module": "@jupyter-widgets/base",
            "_model_module_version": "1.2.0",
            "_model_name": "LayoutModel",
            "_view_count": null,
            "_view_module": "@jupyter-widgets/base",
            "_view_module_version": "1.2.0",
            "_view_name": "LayoutView",
            "align_content": null,
            "align_items": null,
            "align_self": null,
            "border": null,
            "bottom": null,
            "display": null,
            "flex": null,
            "flex_flow": null,
            "grid_area": null,
            "grid_auto_columns": null,
            "grid_auto_flow": null,
            "grid_auto_rows": null,
            "grid_column": null,
            "grid_gap": null,
            "grid_row": null,
            "grid_template_areas": null,
            "grid_template_columns": null,
            "grid_template_rows": null,
            "height": null,
            "justify_content": null,
            "justify_items": null,
            "left": null,
            "margin": null,
            "max_height": null,
            "max_width": null,
            "min_height": null,
            "min_width": null,
            "object_fit": null,
            "object_position": null,
            "order": null,
            "overflow": null,
            "overflow_x": null,
            "overflow_y": null,
            "padding": null,
            "right": null,
            "top": null,
            "visibility": null,
            "width": null
          }
        },
        "f88ab426863642ff9212cf1c76e45e9d": {
          "model_module": "@jupyter-widgets/base",
          "model_name": "LayoutModel",
          "model_module_version": "1.2.0",
          "state": {
            "_model_module": "@jupyter-widgets/base",
            "_model_module_version": "1.2.0",
            "_model_name": "LayoutModel",
            "_view_count": null,
            "_view_module": "@jupyter-widgets/base",
            "_view_module_version": "1.2.0",
            "_view_name": "LayoutView",
            "align_content": null,
            "align_items": null,
            "align_self": null,
            "border": null,
            "bottom": null,
            "display": null,
            "flex": null,
            "flex_flow": null,
            "grid_area": null,
            "grid_auto_columns": null,
            "grid_auto_flow": null,
            "grid_auto_rows": null,
            "grid_column": null,
            "grid_gap": null,
            "grid_row": null,
            "grid_template_areas": null,
            "grid_template_columns": null,
            "grid_template_rows": null,
            "height": null,
            "justify_content": null,
            "justify_items": null,
            "left": null,
            "margin": null,
            "max_height": null,
            "max_width": null,
            "min_height": null,
            "min_width": null,
            "object_fit": null,
            "object_position": null,
            "order": null,
            "overflow": null,
            "overflow_x": null,
            "overflow_y": null,
            "padding": null,
            "right": null,
            "top": null,
            "visibility": null,
            "width": null
          }
        },
        "1b7ff0b42fdb458889ade750028cf9fb": {
          "model_module": "@jupyter-widgets/controls",
          "model_name": "DescriptionStyleModel",
          "model_module_version": "1.5.0",
          "state": {
            "_model_module": "@jupyter-widgets/controls",
            "_model_module_version": "1.5.0",
            "_model_name": "DescriptionStyleModel",
            "_view_count": null,
            "_view_module": "@jupyter-widgets/base",
            "_view_module_version": "1.2.0",
            "_view_name": "StyleView",
            "description_width": ""
          }
        },
        "18dea8fece6d4ac99b22ff0f7d248598": {
          "model_module": "@jupyter-widgets/base",
          "model_name": "LayoutModel",
          "model_module_version": "1.2.0",
          "state": {
            "_model_module": "@jupyter-widgets/base",
            "_model_module_version": "1.2.0",
            "_model_name": "LayoutModel",
            "_view_count": null,
            "_view_module": "@jupyter-widgets/base",
            "_view_module_version": "1.2.0",
            "_view_name": "LayoutView",
            "align_content": null,
            "align_items": null,
            "align_self": null,
            "border": null,
            "bottom": null,
            "display": null,
            "flex": null,
            "flex_flow": null,
            "grid_area": null,
            "grid_auto_columns": null,
            "grid_auto_flow": null,
            "grid_auto_rows": null,
            "grid_column": null,
            "grid_gap": null,
            "grid_row": null,
            "grid_template_areas": null,
            "grid_template_columns": null,
            "grid_template_rows": null,
            "height": null,
            "justify_content": null,
            "justify_items": null,
            "left": null,
            "margin": null,
            "max_height": null,
            "max_width": null,
            "min_height": null,
            "min_width": null,
            "object_fit": null,
            "object_position": null,
            "order": null,
            "overflow": null,
            "overflow_x": null,
            "overflow_y": null,
            "padding": null,
            "right": null,
            "top": null,
            "visibility": null,
            "width": null
          }
        },
        "4f9831be88244560b3dad15bb7d05aae": {
          "model_module": "@jupyter-widgets/controls",
          "model_name": "ProgressStyleModel",
          "model_module_version": "1.5.0",
          "state": {
            "_model_module": "@jupyter-widgets/controls",
            "_model_module_version": "1.5.0",
            "_model_name": "ProgressStyleModel",
            "_view_count": null,
            "_view_module": "@jupyter-widgets/base",
            "_view_module_version": "1.2.0",
            "_view_name": "StyleView",
            "bar_color": null,
            "description_width": ""
          }
        },
        "3d136bc47eb044b09cada3313068cd76": {
          "model_module": "@jupyter-widgets/base",
          "model_name": "LayoutModel",
          "model_module_version": "1.2.0",
          "state": {
            "_model_module": "@jupyter-widgets/base",
            "_model_module_version": "1.2.0",
            "_model_name": "LayoutModel",
            "_view_count": null,
            "_view_module": "@jupyter-widgets/base",
            "_view_module_version": "1.2.0",
            "_view_name": "LayoutView",
            "align_content": null,
            "align_items": null,
            "align_self": null,
            "border": null,
            "bottom": null,
            "display": null,
            "flex": null,
            "flex_flow": null,
            "grid_area": null,
            "grid_auto_columns": null,
            "grid_auto_flow": null,
            "grid_auto_rows": null,
            "grid_column": null,
            "grid_gap": null,
            "grid_row": null,
            "grid_template_areas": null,
            "grid_template_columns": null,
            "grid_template_rows": null,
            "height": null,
            "justify_content": null,
            "justify_items": null,
            "left": null,
            "margin": null,
            "max_height": null,
            "max_width": null,
            "min_height": null,
            "min_width": null,
            "object_fit": null,
            "object_position": null,
            "order": null,
            "overflow": null,
            "overflow_x": null,
            "overflow_y": null,
            "padding": null,
            "right": null,
            "top": null,
            "visibility": null,
            "width": null
          }
        },
        "d993f548388c4937b781cce17c2b23f9": {
          "model_module": "@jupyter-widgets/controls",
          "model_name": "DescriptionStyleModel",
          "model_module_version": "1.5.0",
          "state": {
            "_model_module": "@jupyter-widgets/controls",
            "_model_module_version": "1.5.0",
            "_model_name": "DescriptionStyleModel",
            "_view_count": null,
            "_view_module": "@jupyter-widgets/base",
            "_view_module_version": "1.2.0",
            "_view_name": "StyleView",
            "description_width": ""
          }
        },
        "8551d57d95f243b3a37dcd0d6c57d2c1": {
          "model_module": "@jupyter-widgets/controls",
          "model_name": "HBoxModel",
          "model_module_version": "1.5.0",
          "state": {
            "_dom_classes": [],
            "_model_module": "@jupyter-widgets/controls",
            "_model_module_version": "1.5.0",
            "_model_name": "HBoxModel",
            "_view_count": null,
            "_view_module": "@jupyter-widgets/controls",
            "_view_module_version": "1.5.0",
            "_view_name": "HBoxView",
            "box_style": "",
            "children": [
              "IPY_MODEL_14718ee7a43e467aacdc76baa5a43126",
              "IPY_MODEL_f337a0573bed4cc6bb2a3f0280f826f3",
              "IPY_MODEL_e1e900baafe94e2eb1b311d9fe7c650a"
            ],
            "layout": "IPY_MODEL_d4695e20299b45bbba198da0f9bf0c67"
          }
        },
        "14718ee7a43e467aacdc76baa5a43126": {
          "model_module": "@jupyter-widgets/controls",
          "model_name": "HTMLModel",
          "model_module_version": "1.5.0",
          "state": {
            "_dom_classes": [],
            "_model_module": "@jupyter-widgets/controls",
            "_model_module_version": "1.5.0",
            "_model_name": "HTMLModel",
            "_view_count": null,
            "_view_module": "@jupyter-widgets/controls",
            "_view_module_version": "1.5.0",
            "_view_name": "HTMLView",
            "description": "",
            "description_tooltip": null,
            "layout": "IPY_MODEL_c60a3dfcaa114ed1a66542f6ecde31e4",
            "placeholder": "​",
            "style": "IPY_MODEL_0c20106dfae346818f20882c35cc5b22",
            "value": "Downloading (…)olve/main/merges.txt: 100%"
          }
        },
        "f337a0573bed4cc6bb2a3f0280f826f3": {
          "model_module": "@jupyter-widgets/controls",
          "model_name": "FloatProgressModel",
          "model_module_version": "1.5.0",
          "state": {
            "_dom_classes": [],
            "_model_module": "@jupyter-widgets/controls",
            "_model_module_version": "1.5.0",
            "_model_name": "FloatProgressModel",
            "_view_count": null,
            "_view_module": "@jupyter-widgets/controls",
            "_view_module_version": "1.5.0",
            "_view_name": "ProgressView",
            "bar_style": "success",
            "description": "",
            "description_tooltip": null,
            "layout": "IPY_MODEL_ae823d7ef48449678205955eb9b0adbb",
            "max": 456318,
            "min": 0,
            "orientation": "horizontal",
            "style": "IPY_MODEL_3d87eb8bcff54d3a82802563df10bb63",
            "value": 456318
          }
        },
        "e1e900baafe94e2eb1b311d9fe7c650a": {
          "model_module": "@jupyter-widgets/controls",
          "model_name": "HTMLModel",
          "model_module_version": "1.5.0",
          "state": {
            "_dom_classes": [],
            "_model_module": "@jupyter-widgets/controls",
            "_model_module_version": "1.5.0",
            "_model_name": "HTMLModel",
            "_view_count": null,
            "_view_module": "@jupyter-widgets/controls",
            "_view_module_version": "1.5.0",
            "_view_name": "HTMLView",
            "description": "",
            "description_tooltip": null,
            "layout": "IPY_MODEL_299c5b07c9464fd8a191d01bfb14c61b",
            "placeholder": "​",
            "style": "IPY_MODEL_f71d8cb58b1a43c79ec5c3de2333fc8c",
            "value": " 456k/456k [00:00&lt;00:00, 3.48MB/s]"
          }
        },
        "d4695e20299b45bbba198da0f9bf0c67": {
          "model_module": "@jupyter-widgets/base",
          "model_name": "LayoutModel",
          "model_module_version": "1.2.0",
          "state": {
            "_model_module": "@jupyter-widgets/base",
            "_model_module_version": "1.2.0",
            "_model_name": "LayoutModel",
            "_view_count": null,
            "_view_module": "@jupyter-widgets/base",
            "_view_module_version": "1.2.0",
            "_view_name": "LayoutView",
            "align_content": null,
            "align_items": null,
            "align_self": null,
            "border": null,
            "bottom": null,
            "display": null,
            "flex": null,
            "flex_flow": null,
            "grid_area": null,
            "grid_auto_columns": null,
            "grid_auto_flow": null,
            "grid_auto_rows": null,
            "grid_column": null,
            "grid_gap": null,
            "grid_row": null,
            "grid_template_areas": null,
            "grid_template_columns": null,
            "grid_template_rows": null,
            "height": null,
            "justify_content": null,
            "justify_items": null,
            "left": null,
            "margin": null,
            "max_height": null,
            "max_width": null,
            "min_height": null,
            "min_width": null,
            "object_fit": null,
            "object_position": null,
            "order": null,
            "overflow": null,
            "overflow_x": null,
            "overflow_y": null,
            "padding": null,
            "right": null,
            "top": null,
            "visibility": null,
            "width": null
          }
        },
        "c60a3dfcaa114ed1a66542f6ecde31e4": {
          "model_module": "@jupyter-widgets/base",
          "model_name": "LayoutModel",
          "model_module_version": "1.2.0",
          "state": {
            "_model_module": "@jupyter-widgets/base",
            "_model_module_version": "1.2.0",
            "_model_name": "LayoutModel",
            "_view_count": null,
            "_view_module": "@jupyter-widgets/base",
            "_view_module_version": "1.2.0",
            "_view_name": "LayoutView",
            "align_content": null,
            "align_items": null,
            "align_self": null,
            "border": null,
            "bottom": null,
            "display": null,
            "flex": null,
            "flex_flow": null,
            "grid_area": null,
            "grid_auto_columns": null,
            "grid_auto_flow": null,
            "grid_auto_rows": null,
            "grid_column": null,
            "grid_gap": null,
            "grid_row": null,
            "grid_template_areas": null,
            "grid_template_columns": null,
            "grid_template_rows": null,
            "height": null,
            "justify_content": null,
            "justify_items": null,
            "left": null,
            "margin": null,
            "max_height": null,
            "max_width": null,
            "min_height": null,
            "min_width": null,
            "object_fit": null,
            "object_position": null,
            "order": null,
            "overflow": null,
            "overflow_x": null,
            "overflow_y": null,
            "padding": null,
            "right": null,
            "top": null,
            "visibility": null,
            "width": null
          }
        },
        "0c20106dfae346818f20882c35cc5b22": {
          "model_module": "@jupyter-widgets/controls",
          "model_name": "DescriptionStyleModel",
          "model_module_version": "1.5.0",
          "state": {
            "_model_module": "@jupyter-widgets/controls",
            "_model_module_version": "1.5.0",
            "_model_name": "DescriptionStyleModel",
            "_view_count": null,
            "_view_module": "@jupyter-widgets/base",
            "_view_module_version": "1.2.0",
            "_view_name": "StyleView",
            "description_width": ""
          }
        },
        "ae823d7ef48449678205955eb9b0adbb": {
          "model_module": "@jupyter-widgets/base",
          "model_name": "LayoutModel",
          "model_module_version": "1.2.0",
          "state": {
            "_model_module": "@jupyter-widgets/base",
            "_model_module_version": "1.2.0",
            "_model_name": "LayoutModel",
            "_view_count": null,
            "_view_module": "@jupyter-widgets/base",
            "_view_module_version": "1.2.0",
            "_view_name": "LayoutView",
            "align_content": null,
            "align_items": null,
            "align_self": null,
            "border": null,
            "bottom": null,
            "display": null,
            "flex": null,
            "flex_flow": null,
            "grid_area": null,
            "grid_auto_columns": null,
            "grid_auto_flow": null,
            "grid_auto_rows": null,
            "grid_column": null,
            "grid_gap": null,
            "grid_row": null,
            "grid_template_areas": null,
            "grid_template_columns": null,
            "grid_template_rows": null,
            "height": null,
            "justify_content": null,
            "justify_items": null,
            "left": null,
            "margin": null,
            "max_height": null,
            "max_width": null,
            "min_height": null,
            "min_width": null,
            "object_fit": null,
            "object_position": null,
            "order": null,
            "overflow": null,
            "overflow_x": null,
            "overflow_y": null,
            "padding": null,
            "right": null,
            "top": null,
            "visibility": null,
            "width": null
          }
        },
        "3d87eb8bcff54d3a82802563df10bb63": {
          "model_module": "@jupyter-widgets/controls",
          "model_name": "ProgressStyleModel",
          "model_module_version": "1.5.0",
          "state": {
            "_model_module": "@jupyter-widgets/controls",
            "_model_module_version": "1.5.0",
            "_model_name": "ProgressStyleModel",
            "_view_count": null,
            "_view_module": "@jupyter-widgets/base",
            "_view_module_version": "1.2.0",
            "_view_name": "StyleView",
            "bar_color": null,
            "description_width": ""
          }
        },
        "299c5b07c9464fd8a191d01bfb14c61b": {
          "model_module": "@jupyter-widgets/base",
          "model_name": "LayoutModel",
          "model_module_version": "1.2.0",
          "state": {
            "_model_module": "@jupyter-widgets/base",
            "_model_module_version": "1.2.0",
            "_model_name": "LayoutModel",
            "_view_count": null,
            "_view_module": "@jupyter-widgets/base",
            "_view_module_version": "1.2.0",
            "_view_name": "LayoutView",
            "align_content": null,
            "align_items": null,
            "align_self": null,
            "border": null,
            "bottom": null,
            "display": null,
            "flex": null,
            "flex_flow": null,
            "grid_area": null,
            "grid_auto_columns": null,
            "grid_auto_flow": null,
            "grid_auto_rows": null,
            "grid_column": null,
            "grid_gap": null,
            "grid_row": null,
            "grid_template_areas": null,
            "grid_template_columns": null,
            "grid_template_rows": null,
            "height": null,
            "justify_content": null,
            "justify_items": null,
            "left": null,
            "margin": null,
            "max_height": null,
            "max_width": null,
            "min_height": null,
            "min_width": null,
            "object_fit": null,
            "object_position": null,
            "order": null,
            "overflow": null,
            "overflow_x": null,
            "overflow_y": null,
            "padding": null,
            "right": null,
            "top": null,
            "visibility": null,
            "width": null
          }
        },
        "f71d8cb58b1a43c79ec5c3de2333fc8c": {
          "model_module": "@jupyter-widgets/controls",
          "model_name": "DescriptionStyleModel",
          "model_module_version": "1.5.0",
          "state": {
            "_model_module": "@jupyter-widgets/controls",
            "_model_module_version": "1.5.0",
            "_model_name": "DescriptionStyleModel",
            "_view_count": null,
            "_view_module": "@jupyter-widgets/base",
            "_view_module_version": "1.2.0",
            "_view_name": "StyleView",
            "description_width": ""
          }
        },
        "3fc8235e398a496d816cc3804532d680": {
          "model_module": "@jupyter-widgets/controls",
          "model_name": "HBoxModel",
          "model_module_version": "1.5.0",
          "state": {
            "_dom_classes": [],
            "_model_module": "@jupyter-widgets/controls",
            "_model_module_version": "1.5.0",
            "_model_name": "HBoxModel",
            "_view_count": null,
            "_view_module": "@jupyter-widgets/controls",
            "_view_module_version": "1.5.0",
            "_view_name": "HBoxView",
            "box_style": "",
            "children": [
              "IPY_MODEL_fc5bd77da9f04ac194aa84a21352b6b2",
              "IPY_MODEL_edff0552c8ca435abc109580b0c270d0",
              "IPY_MODEL_b2e60101581440b2a8bd08c80d77d2d8"
            ],
            "layout": "IPY_MODEL_6fc1564ef9624ca5b107b8edcf48677a"
          }
        },
        "fc5bd77da9f04ac194aa84a21352b6b2": {
          "model_module": "@jupyter-widgets/controls",
          "model_name": "HTMLModel",
          "model_module_version": "1.5.0",
          "state": {
            "_dom_classes": [],
            "_model_module": "@jupyter-widgets/controls",
            "_model_module_version": "1.5.0",
            "_model_name": "HTMLModel",
            "_view_count": null,
            "_view_module": "@jupyter-widgets/controls",
            "_view_module_version": "1.5.0",
            "_view_name": "HTMLView",
            "description": "",
            "description_tooltip": null,
            "layout": "IPY_MODEL_6ebea47bb8504ea0afa54556e7f00f6f",
            "placeholder": "​",
            "style": "IPY_MODEL_c41bbdff39ee4ee9b33cf7b71b95d8a7",
            "value": "Downloading (…)/main/tokenizer.json: 100%"
          }
        },
        "edff0552c8ca435abc109580b0c270d0": {
          "model_module": "@jupyter-widgets/controls",
          "model_name": "FloatProgressModel",
          "model_module_version": "1.5.0",
          "state": {
            "_dom_classes": [],
            "_model_module": "@jupyter-widgets/controls",
            "_model_module_version": "1.5.0",
            "_model_name": "FloatProgressModel",
            "_view_count": null,
            "_view_module": "@jupyter-widgets/controls",
            "_view_module_version": "1.5.0",
            "_view_name": "ProgressView",
            "bar_style": "success",
            "description": "",
            "description_tooltip": null,
            "layout": "IPY_MODEL_4156c3c2af8847f1b2835d18021bb70c",
            "max": 1355256,
            "min": 0,
            "orientation": "horizontal",
            "style": "IPY_MODEL_fa363f79436846d1bb3514fd0c7244a3",
            "value": 1355256
          }
        },
        "b2e60101581440b2a8bd08c80d77d2d8": {
          "model_module": "@jupyter-widgets/controls",
          "model_name": "HTMLModel",
          "model_module_version": "1.5.0",
          "state": {
            "_dom_classes": [],
            "_model_module": "@jupyter-widgets/controls",
            "_model_module_version": "1.5.0",
            "_model_name": "HTMLModel",
            "_view_count": null,
            "_view_module": "@jupyter-widgets/controls",
            "_view_module_version": "1.5.0",
            "_view_name": "HTMLView",
            "description": "",
            "description_tooltip": null,
            "layout": "IPY_MODEL_1ac5242ed75849cfb3368ccd1086a9db",
            "placeholder": "​",
            "style": "IPY_MODEL_8670617d057645d99e98abf11d38cea9",
            "value": " 1.36M/1.36M [00:00&lt;00:00, 7.73MB/s]"
          }
        },
        "6fc1564ef9624ca5b107b8edcf48677a": {
          "model_module": "@jupyter-widgets/base",
          "model_name": "LayoutModel",
          "model_module_version": "1.2.0",
          "state": {
            "_model_module": "@jupyter-widgets/base",
            "_model_module_version": "1.2.0",
            "_model_name": "LayoutModel",
            "_view_count": null,
            "_view_module": "@jupyter-widgets/base",
            "_view_module_version": "1.2.0",
            "_view_name": "LayoutView",
            "align_content": null,
            "align_items": null,
            "align_self": null,
            "border": null,
            "bottom": null,
            "display": null,
            "flex": null,
            "flex_flow": null,
            "grid_area": null,
            "grid_auto_columns": null,
            "grid_auto_flow": null,
            "grid_auto_rows": null,
            "grid_column": null,
            "grid_gap": null,
            "grid_row": null,
            "grid_template_areas": null,
            "grid_template_columns": null,
            "grid_template_rows": null,
            "height": null,
            "justify_content": null,
            "justify_items": null,
            "left": null,
            "margin": null,
            "max_height": null,
            "max_width": null,
            "min_height": null,
            "min_width": null,
            "object_fit": null,
            "object_position": null,
            "order": null,
            "overflow": null,
            "overflow_x": null,
            "overflow_y": null,
            "padding": null,
            "right": null,
            "top": null,
            "visibility": null,
            "width": null
          }
        },
        "6ebea47bb8504ea0afa54556e7f00f6f": {
          "model_module": "@jupyter-widgets/base",
          "model_name": "LayoutModel",
          "model_module_version": "1.2.0",
          "state": {
            "_model_module": "@jupyter-widgets/base",
            "_model_module_version": "1.2.0",
            "_model_name": "LayoutModel",
            "_view_count": null,
            "_view_module": "@jupyter-widgets/base",
            "_view_module_version": "1.2.0",
            "_view_name": "LayoutView",
            "align_content": null,
            "align_items": null,
            "align_self": null,
            "border": null,
            "bottom": null,
            "display": null,
            "flex": null,
            "flex_flow": null,
            "grid_area": null,
            "grid_auto_columns": null,
            "grid_auto_flow": null,
            "grid_auto_rows": null,
            "grid_column": null,
            "grid_gap": null,
            "grid_row": null,
            "grid_template_areas": null,
            "grid_template_columns": null,
            "grid_template_rows": null,
            "height": null,
            "justify_content": null,
            "justify_items": null,
            "left": null,
            "margin": null,
            "max_height": null,
            "max_width": null,
            "min_height": null,
            "min_width": null,
            "object_fit": null,
            "object_position": null,
            "order": null,
            "overflow": null,
            "overflow_x": null,
            "overflow_y": null,
            "padding": null,
            "right": null,
            "top": null,
            "visibility": null,
            "width": null
          }
        },
        "c41bbdff39ee4ee9b33cf7b71b95d8a7": {
          "model_module": "@jupyter-widgets/controls",
          "model_name": "DescriptionStyleModel",
          "model_module_version": "1.5.0",
          "state": {
            "_model_module": "@jupyter-widgets/controls",
            "_model_module_version": "1.5.0",
            "_model_name": "DescriptionStyleModel",
            "_view_count": null,
            "_view_module": "@jupyter-widgets/base",
            "_view_module_version": "1.2.0",
            "_view_name": "StyleView",
            "description_width": ""
          }
        },
        "4156c3c2af8847f1b2835d18021bb70c": {
          "model_module": "@jupyter-widgets/base",
          "model_name": "LayoutModel",
          "model_module_version": "1.2.0",
          "state": {
            "_model_module": "@jupyter-widgets/base",
            "_model_module_version": "1.2.0",
            "_model_name": "LayoutModel",
            "_view_count": null,
            "_view_module": "@jupyter-widgets/base",
            "_view_module_version": "1.2.0",
            "_view_name": "LayoutView",
            "align_content": null,
            "align_items": null,
            "align_self": null,
            "border": null,
            "bottom": null,
            "display": null,
            "flex": null,
            "flex_flow": null,
            "grid_area": null,
            "grid_auto_columns": null,
            "grid_auto_flow": null,
            "grid_auto_rows": null,
            "grid_column": null,
            "grid_gap": null,
            "grid_row": null,
            "grid_template_areas": null,
            "grid_template_columns": null,
            "grid_template_rows": null,
            "height": null,
            "justify_content": null,
            "justify_items": null,
            "left": null,
            "margin": null,
            "max_height": null,
            "max_width": null,
            "min_height": null,
            "min_width": null,
            "object_fit": null,
            "object_position": null,
            "order": null,
            "overflow": null,
            "overflow_x": null,
            "overflow_y": null,
            "padding": null,
            "right": null,
            "top": null,
            "visibility": null,
            "width": null
          }
        },
        "fa363f79436846d1bb3514fd0c7244a3": {
          "model_module": "@jupyter-widgets/controls",
          "model_name": "ProgressStyleModel",
          "model_module_version": "1.5.0",
          "state": {
            "_model_module": "@jupyter-widgets/controls",
            "_model_module_version": "1.5.0",
            "_model_name": "ProgressStyleModel",
            "_view_count": null,
            "_view_module": "@jupyter-widgets/base",
            "_view_module_version": "1.2.0",
            "_view_name": "StyleView",
            "bar_color": null,
            "description_width": ""
          }
        },
        "1ac5242ed75849cfb3368ccd1086a9db": {
          "model_module": "@jupyter-widgets/base",
          "model_name": "LayoutModel",
          "model_module_version": "1.2.0",
          "state": {
            "_model_module": "@jupyter-widgets/base",
            "_model_module_version": "1.2.0",
            "_model_name": "LayoutModel",
            "_view_count": null,
            "_view_module": "@jupyter-widgets/base",
            "_view_module_version": "1.2.0",
            "_view_name": "LayoutView",
            "align_content": null,
            "align_items": null,
            "align_self": null,
            "border": null,
            "bottom": null,
            "display": null,
            "flex": null,
            "flex_flow": null,
            "grid_area": null,
            "grid_auto_columns": null,
            "grid_auto_flow": null,
            "grid_auto_rows": null,
            "grid_column": null,
            "grid_gap": null,
            "grid_row": null,
            "grid_template_areas": null,
            "grid_template_columns": null,
            "grid_template_rows": null,
            "height": null,
            "justify_content": null,
            "justify_items": null,
            "left": null,
            "margin": null,
            "max_height": null,
            "max_width": null,
            "min_height": null,
            "min_width": null,
            "object_fit": null,
            "object_position": null,
            "order": null,
            "overflow": null,
            "overflow_x": null,
            "overflow_y": null,
            "padding": null,
            "right": null,
            "top": null,
            "visibility": null,
            "width": null
          }
        },
        "8670617d057645d99e98abf11d38cea9": {
          "model_module": "@jupyter-widgets/controls",
          "model_name": "DescriptionStyleModel",
          "model_module_version": "1.5.0",
          "state": {
            "_model_module": "@jupyter-widgets/controls",
            "_model_module_version": "1.5.0",
            "_model_name": "DescriptionStyleModel",
            "_view_count": null,
            "_view_module": "@jupyter-widgets/base",
            "_view_module_version": "1.2.0",
            "_view_name": "StyleView",
            "description_width": ""
          }
        },
        "6f508d8ef64e49ccb2ef9913d42a53e9": {
          "model_module": "@jupyter-widgets/controls",
          "model_name": "HBoxModel",
          "model_module_version": "1.5.0",
          "state": {
            "_dom_classes": [],
            "_model_module": "@jupyter-widgets/controls",
            "_model_module_version": "1.5.0",
            "_model_name": "HBoxModel",
            "_view_count": null,
            "_view_module": "@jupyter-widgets/controls",
            "_view_module_version": "1.5.0",
            "_view_name": "HBoxView",
            "box_style": "",
            "children": [
              "IPY_MODEL_9913234b8218432a9430107f6e9c9a5b",
              "IPY_MODEL_3f37c0c9afdb45aeb51c7f025f875faf",
              "IPY_MODEL_39ed33809ec145aa82d42d5ecdca5e03"
            ],
            "layout": "IPY_MODEL_5c7241d5555747d4964c6f7b7f68cee6"
          }
        },
        "9913234b8218432a9430107f6e9c9a5b": {
          "model_module": "@jupyter-widgets/controls",
          "model_name": "HTMLModel",
          "model_module_version": "1.5.0",
          "state": {
            "_dom_classes": [],
            "_model_module": "@jupyter-widgets/controls",
            "_model_module_version": "1.5.0",
            "_model_name": "HTMLModel",
            "_view_count": null,
            "_view_module": "@jupyter-widgets/controls",
            "_view_module_version": "1.5.0",
            "_view_name": "HTMLView",
            "description": "",
            "description_tooltip": null,
            "layout": "IPY_MODEL_63023f9fc84d43cbadae3e73c46466a8",
            "placeholder": "​",
            "style": "IPY_MODEL_537e6a9eec2046a1b69a505667efb276",
            "value": "Downloading (…)&quot;pytorch_model.bin&quot;;: 100%"
          }
        },
        "3f37c0c9afdb45aeb51c7f025f875faf": {
          "model_module": "@jupyter-widgets/controls",
          "model_name": "FloatProgressModel",
          "model_module_version": "1.5.0",
          "state": {
            "_dom_classes": [],
            "_model_module": "@jupyter-widgets/controls",
            "_model_module_version": "1.5.0",
            "_model_name": "FloatProgressModel",
            "_view_count": null,
            "_view_module": "@jupyter-widgets/controls",
            "_view_module_version": "1.5.0",
            "_view_name": "ProgressView",
            "bar_style": "success",
            "description": "",
            "description_tooltip": null,
            "layout": "IPY_MODEL_7bd7917790fb46709b9d5ecd676b0c20",
            "max": 6431878936,
            "min": 0,
            "orientation": "horizontal",
            "style": "IPY_MODEL_08a49e6c732c43e383b1286be356a808",
            "value": 6431878936
          }
        },
        "39ed33809ec145aa82d42d5ecdca5e03": {
          "model_module": "@jupyter-widgets/controls",
          "model_name": "HTMLModel",
          "model_module_version": "1.5.0",
          "state": {
            "_dom_classes": [],
            "_model_module": "@jupyter-widgets/controls",
            "_model_module_version": "1.5.0",
            "_model_name": "HTMLModel",
            "_view_count": null,
            "_view_module": "@jupyter-widgets/controls",
            "_view_module_version": "1.5.0",
            "_view_name": "HTMLView",
            "description": "",
            "description_tooltip": null,
            "layout": "IPY_MODEL_4155771c165a41d582b5b5c4a9be14a1",
            "placeholder": "​",
            "style": "IPY_MODEL_ddf01cdcabb34468bfa74f0a0c4c5d12",
            "value": " 6.43G/6.43G [00:44&lt;00:00, 165MB/s]"
          }
        },
        "5c7241d5555747d4964c6f7b7f68cee6": {
          "model_module": "@jupyter-widgets/base",
          "model_name": "LayoutModel",
          "model_module_version": "1.2.0",
          "state": {
            "_model_module": "@jupyter-widgets/base",
            "_model_module_version": "1.2.0",
            "_model_name": "LayoutModel",
            "_view_count": null,
            "_view_module": "@jupyter-widgets/base",
            "_view_module_version": "1.2.0",
            "_view_name": "LayoutView",
            "align_content": null,
            "align_items": null,
            "align_self": null,
            "border": null,
            "bottom": null,
            "display": null,
            "flex": null,
            "flex_flow": null,
            "grid_area": null,
            "grid_auto_columns": null,
            "grid_auto_flow": null,
            "grid_auto_rows": null,
            "grid_column": null,
            "grid_gap": null,
            "grid_row": null,
            "grid_template_areas": null,
            "grid_template_columns": null,
            "grid_template_rows": null,
            "height": null,
            "justify_content": null,
            "justify_items": null,
            "left": null,
            "margin": null,
            "max_height": null,
            "max_width": null,
            "min_height": null,
            "min_width": null,
            "object_fit": null,
            "object_position": null,
            "order": null,
            "overflow": null,
            "overflow_x": null,
            "overflow_y": null,
            "padding": null,
            "right": null,
            "top": null,
            "visibility": null,
            "width": null
          }
        },
        "63023f9fc84d43cbadae3e73c46466a8": {
          "model_module": "@jupyter-widgets/base",
          "model_name": "LayoutModel",
          "model_module_version": "1.2.0",
          "state": {
            "_model_module": "@jupyter-widgets/base",
            "_model_module_version": "1.2.0",
            "_model_name": "LayoutModel",
            "_view_count": null,
            "_view_module": "@jupyter-widgets/base",
            "_view_module_version": "1.2.0",
            "_view_name": "LayoutView",
            "align_content": null,
            "align_items": null,
            "align_self": null,
            "border": null,
            "bottom": null,
            "display": null,
            "flex": null,
            "flex_flow": null,
            "grid_area": null,
            "grid_auto_columns": null,
            "grid_auto_flow": null,
            "grid_auto_rows": null,
            "grid_column": null,
            "grid_gap": null,
            "grid_row": null,
            "grid_template_areas": null,
            "grid_template_columns": null,
            "grid_template_rows": null,
            "height": null,
            "justify_content": null,
            "justify_items": null,
            "left": null,
            "margin": null,
            "max_height": null,
            "max_width": null,
            "min_height": null,
            "min_width": null,
            "object_fit": null,
            "object_position": null,
            "order": null,
            "overflow": null,
            "overflow_x": null,
            "overflow_y": null,
            "padding": null,
            "right": null,
            "top": null,
            "visibility": null,
            "width": null
          }
        },
        "537e6a9eec2046a1b69a505667efb276": {
          "model_module": "@jupyter-widgets/controls",
          "model_name": "DescriptionStyleModel",
          "model_module_version": "1.5.0",
          "state": {
            "_model_module": "@jupyter-widgets/controls",
            "_model_module_version": "1.5.0",
            "_model_name": "DescriptionStyleModel",
            "_view_count": null,
            "_view_module": "@jupyter-widgets/base",
            "_view_module_version": "1.2.0",
            "_view_name": "StyleView",
            "description_width": ""
          }
        },
        "7bd7917790fb46709b9d5ecd676b0c20": {
          "model_module": "@jupyter-widgets/base",
          "model_name": "LayoutModel",
          "model_module_version": "1.2.0",
          "state": {
            "_model_module": "@jupyter-widgets/base",
            "_model_module_version": "1.2.0",
            "_model_name": "LayoutModel",
            "_view_count": null,
            "_view_module": "@jupyter-widgets/base",
            "_view_module_version": "1.2.0",
            "_view_name": "LayoutView",
            "align_content": null,
            "align_items": null,
            "align_self": null,
            "border": null,
            "bottom": null,
            "display": null,
            "flex": null,
            "flex_flow": null,
            "grid_area": null,
            "grid_auto_columns": null,
            "grid_auto_flow": null,
            "grid_auto_rows": null,
            "grid_column": null,
            "grid_gap": null,
            "grid_row": null,
            "grid_template_areas": null,
            "grid_template_columns": null,
            "grid_template_rows": null,
            "height": null,
            "justify_content": null,
            "justify_items": null,
            "left": null,
            "margin": null,
            "max_height": null,
            "max_width": null,
            "min_height": null,
            "min_width": null,
            "object_fit": null,
            "object_position": null,
            "order": null,
            "overflow": null,
            "overflow_x": null,
            "overflow_y": null,
            "padding": null,
            "right": null,
            "top": null,
            "visibility": null,
            "width": null
          }
        },
        "08a49e6c732c43e383b1286be356a808": {
          "model_module": "@jupyter-widgets/controls",
          "model_name": "ProgressStyleModel",
          "model_module_version": "1.5.0",
          "state": {
            "_model_module": "@jupyter-widgets/controls",
            "_model_module_version": "1.5.0",
            "_model_name": "ProgressStyleModel",
            "_view_count": null,
            "_view_module": "@jupyter-widgets/base",
            "_view_module_version": "1.2.0",
            "_view_name": "StyleView",
            "bar_color": null,
            "description_width": ""
          }
        },
        "4155771c165a41d582b5b5c4a9be14a1": {
          "model_module": "@jupyter-widgets/base",
          "model_name": "LayoutModel",
          "model_module_version": "1.2.0",
          "state": {
            "_model_module": "@jupyter-widgets/base",
            "_model_module_version": "1.2.0",
            "_model_name": "LayoutModel",
            "_view_count": null,
            "_view_module": "@jupyter-widgets/base",
            "_view_module_version": "1.2.0",
            "_view_name": "LayoutView",
            "align_content": null,
            "align_items": null,
            "align_self": null,
            "border": null,
            "bottom": null,
            "display": null,
            "flex": null,
            "flex_flow": null,
            "grid_area": null,
            "grid_auto_columns": null,
            "grid_auto_flow": null,
            "grid_auto_rows": null,
            "grid_column": null,
            "grid_gap": null,
            "grid_row": null,
            "grid_template_areas": null,
            "grid_template_columns": null,
            "grid_template_rows": null,
            "height": null,
            "justify_content": null,
            "justify_items": null,
            "left": null,
            "margin": null,
            "max_height": null,
            "max_width": null,
            "min_height": null,
            "min_width": null,
            "object_fit": null,
            "object_position": null,
            "order": null,
            "overflow": null,
            "overflow_x": null,
            "overflow_y": null,
            "padding": null,
            "right": null,
            "top": null,
            "visibility": null,
            "width": null
          }
        },
        "ddf01cdcabb34468bfa74f0a0c4c5d12": {
          "model_module": "@jupyter-widgets/controls",
          "model_name": "DescriptionStyleModel",
          "model_module_version": "1.5.0",
          "state": {
            "_model_module": "@jupyter-widgets/controls",
            "_model_module_version": "1.5.0",
            "_model_name": "DescriptionStyleModel",
            "_view_count": null,
            "_view_module": "@jupyter-widgets/base",
            "_view_module_version": "1.2.0",
            "_view_name": "StyleView",
            "description_width": ""
          }
        },
        "70ba8b5804ee4edebb4299f25c829a5b": {
          "model_module": "@jupyter-widgets/controls",
          "model_name": "HBoxModel",
          "model_module_version": "1.5.0",
          "state": {
            "_dom_classes": [],
            "_model_module": "@jupyter-widgets/controls",
            "_model_module_version": "1.5.0",
            "_model_name": "HBoxModel",
            "_view_count": null,
            "_view_module": "@jupyter-widgets/controls",
            "_view_module_version": "1.5.0",
            "_view_name": "HBoxView",
            "box_style": "",
            "children": [
              "IPY_MODEL_0de097602418412a89c2f466c10d2851",
              "IPY_MODEL_a9bd0978175846d98f6d4e7eda0e6945",
              "IPY_MODEL_acdca866dd2e4c048aaad66bbce6588f"
            ],
            "layout": "IPY_MODEL_8174ef5626414c20891bd265cc82baf5"
          }
        },
        "0de097602418412a89c2f466c10d2851": {
          "model_module": "@jupyter-widgets/controls",
          "model_name": "HTMLModel",
          "model_module_version": "1.5.0",
          "state": {
            "_dom_classes": [],
            "_model_module": "@jupyter-widgets/controls",
            "_model_module_version": "1.5.0",
            "_model_name": "HTMLModel",
            "_view_count": null,
            "_view_module": "@jupyter-widgets/controls",
            "_view_module_version": "1.5.0",
            "_view_name": "HTMLView",
            "description": "",
            "description_tooltip": null,
            "layout": "IPY_MODEL_e6505f60d40d44a38be1356f91c8213d",
            "placeholder": "​",
            "style": "IPY_MODEL_09bda461fd2f4e9593a3966f3077dba3",
            "value": "Downloading (…)neration_config.json: 100%"
          }
        },
        "a9bd0978175846d98f6d4e7eda0e6945": {
          "model_module": "@jupyter-widgets/controls",
          "model_name": "FloatProgressModel",
          "model_module_version": "1.5.0",
          "state": {
            "_dom_classes": [],
            "_model_module": "@jupyter-widgets/controls",
            "_model_module_version": "1.5.0",
            "_model_name": "FloatProgressModel",
            "_view_count": null,
            "_view_module": "@jupyter-widgets/controls",
            "_view_module_version": "1.5.0",
            "_view_name": "ProgressView",
            "bar_style": "success",
            "description": "",
            "description_tooltip": null,
            "layout": "IPY_MODEL_6024d5e7466348c3953ed63dd5592a75",
            "max": 124,
            "min": 0,
            "orientation": "horizontal",
            "style": "IPY_MODEL_641146cbb0af473eb9465655ac6708d5",
            "value": 124
          }
        },
        "acdca866dd2e4c048aaad66bbce6588f": {
          "model_module": "@jupyter-widgets/controls",
          "model_name": "HTMLModel",
          "model_module_version": "1.5.0",
          "state": {
            "_dom_classes": [],
            "_model_module": "@jupyter-widgets/controls",
            "_model_module_version": "1.5.0",
            "_model_name": "HTMLModel",
            "_view_count": null,
            "_view_module": "@jupyter-widgets/controls",
            "_view_module_version": "1.5.0",
            "_view_name": "HTMLView",
            "description": "",
            "description_tooltip": null,
            "layout": "IPY_MODEL_cbc10cc6b605407b9c064fad63a8f959",
            "placeholder": "​",
            "style": "IPY_MODEL_f505c9013a0745b89b6d13cf8c5c8d42",
            "value": " 124/124 [00:00&lt;00:00, 5.91kB/s]"
          }
        },
        "8174ef5626414c20891bd265cc82baf5": {
          "model_module": "@jupyter-widgets/base",
          "model_name": "LayoutModel",
          "model_module_version": "1.2.0",
          "state": {
            "_model_module": "@jupyter-widgets/base",
            "_model_module_version": "1.2.0",
            "_model_name": "LayoutModel",
            "_view_count": null,
            "_view_module": "@jupyter-widgets/base",
            "_view_module_version": "1.2.0",
            "_view_name": "LayoutView",
            "align_content": null,
            "align_items": null,
            "align_self": null,
            "border": null,
            "bottom": null,
            "display": null,
            "flex": null,
            "flex_flow": null,
            "grid_area": null,
            "grid_auto_columns": null,
            "grid_auto_flow": null,
            "grid_auto_rows": null,
            "grid_column": null,
            "grid_gap": null,
            "grid_row": null,
            "grid_template_areas": null,
            "grid_template_columns": null,
            "grid_template_rows": null,
            "height": null,
            "justify_content": null,
            "justify_items": null,
            "left": null,
            "margin": null,
            "max_height": null,
            "max_width": null,
            "min_height": null,
            "min_width": null,
            "object_fit": null,
            "object_position": null,
            "order": null,
            "overflow": null,
            "overflow_x": null,
            "overflow_y": null,
            "padding": null,
            "right": null,
            "top": null,
            "visibility": null,
            "width": null
          }
        },
        "e6505f60d40d44a38be1356f91c8213d": {
          "model_module": "@jupyter-widgets/base",
          "model_name": "LayoutModel",
          "model_module_version": "1.2.0",
          "state": {
            "_model_module": "@jupyter-widgets/base",
            "_model_module_version": "1.2.0",
            "_model_name": "LayoutModel",
            "_view_count": null,
            "_view_module": "@jupyter-widgets/base",
            "_view_module_version": "1.2.0",
            "_view_name": "LayoutView",
            "align_content": null,
            "align_items": null,
            "align_self": null,
            "border": null,
            "bottom": null,
            "display": null,
            "flex": null,
            "flex_flow": null,
            "grid_area": null,
            "grid_auto_columns": null,
            "grid_auto_flow": null,
            "grid_auto_rows": null,
            "grid_column": null,
            "grid_gap": null,
            "grid_row": null,
            "grid_template_areas": null,
            "grid_template_columns": null,
            "grid_template_rows": null,
            "height": null,
            "justify_content": null,
            "justify_items": null,
            "left": null,
            "margin": null,
            "max_height": null,
            "max_width": null,
            "min_height": null,
            "min_width": null,
            "object_fit": null,
            "object_position": null,
            "order": null,
            "overflow": null,
            "overflow_x": null,
            "overflow_y": null,
            "padding": null,
            "right": null,
            "top": null,
            "visibility": null,
            "width": null
          }
        },
        "09bda461fd2f4e9593a3966f3077dba3": {
          "model_module": "@jupyter-widgets/controls",
          "model_name": "DescriptionStyleModel",
          "model_module_version": "1.5.0",
          "state": {
            "_model_module": "@jupyter-widgets/controls",
            "_model_module_version": "1.5.0",
            "_model_name": "DescriptionStyleModel",
            "_view_count": null,
            "_view_module": "@jupyter-widgets/base",
            "_view_module_version": "1.2.0",
            "_view_name": "StyleView",
            "description_width": ""
          }
        },
        "6024d5e7466348c3953ed63dd5592a75": {
          "model_module": "@jupyter-widgets/base",
          "model_name": "LayoutModel",
          "model_module_version": "1.2.0",
          "state": {
            "_model_module": "@jupyter-widgets/base",
            "_model_module_version": "1.2.0",
            "_model_name": "LayoutModel",
            "_view_count": null,
            "_view_module": "@jupyter-widgets/base",
            "_view_module_version": "1.2.0",
            "_view_name": "LayoutView",
            "align_content": null,
            "align_items": null,
            "align_self": null,
            "border": null,
            "bottom": null,
            "display": null,
            "flex": null,
            "flex_flow": null,
            "grid_area": null,
            "grid_auto_columns": null,
            "grid_auto_flow": null,
            "grid_auto_rows": null,
            "grid_column": null,
            "grid_gap": null,
            "grid_row": null,
            "grid_template_areas": null,
            "grid_template_columns": null,
            "grid_template_rows": null,
            "height": null,
            "justify_content": null,
            "justify_items": null,
            "left": null,
            "margin": null,
            "max_height": null,
            "max_width": null,
            "min_height": null,
            "min_width": null,
            "object_fit": null,
            "object_position": null,
            "order": null,
            "overflow": null,
            "overflow_x": null,
            "overflow_y": null,
            "padding": null,
            "right": null,
            "top": null,
            "visibility": null,
            "width": null
          }
        },
        "641146cbb0af473eb9465655ac6708d5": {
          "model_module": "@jupyter-widgets/controls",
          "model_name": "ProgressStyleModel",
          "model_module_version": "1.5.0",
          "state": {
            "_model_module": "@jupyter-widgets/controls",
            "_model_module_version": "1.5.0",
            "_model_name": "ProgressStyleModel",
            "_view_count": null,
            "_view_module": "@jupyter-widgets/base",
            "_view_module_version": "1.2.0",
            "_view_name": "StyleView",
            "bar_color": null,
            "description_width": ""
          }
        },
        "cbc10cc6b605407b9c064fad63a8f959": {
          "model_module": "@jupyter-widgets/base",
          "model_name": "LayoutModel",
          "model_module_version": "1.2.0",
          "state": {
            "_model_module": "@jupyter-widgets/base",
            "_model_module_version": "1.2.0",
            "_model_name": "LayoutModel",
            "_view_count": null,
            "_view_module": "@jupyter-widgets/base",
            "_view_module_version": "1.2.0",
            "_view_name": "LayoutView",
            "align_content": null,
            "align_items": null,
            "align_self": null,
            "border": null,
            "bottom": null,
            "display": null,
            "flex": null,
            "flex_flow": null,
            "grid_area": null,
            "grid_auto_columns": null,
            "grid_auto_flow": null,
            "grid_auto_rows": null,
            "grid_column": null,
            "grid_gap": null,
            "grid_row": null,
            "grid_template_areas": null,
            "grid_template_columns": null,
            "grid_template_rows": null,
            "height": null,
            "justify_content": null,
            "justify_items": null,
            "left": null,
            "margin": null,
            "max_height": null,
            "max_width": null,
            "min_height": null,
            "min_width": null,
            "object_fit": null,
            "object_position": null,
            "order": null,
            "overflow": null,
            "overflow_x": null,
            "overflow_y": null,
            "padding": null,
            "right": null,
            "top": null,
            "visibility": null,
            "width": null
          }
        },
        "f505c9013a0745b89b6d13cf8c5c8d42": {
          "model_module": "@jupyter-widgets/controls",
          "model_name": "DescriptionStyleModel",
          "model_module_version": "1.5.0",
          "state": {
            "_model_module": "@jupyter-widgets/controls",
            "_model_module_version": "1.5.0",
            "_model_name": "DescriptionStyleModel",
            "_view_count": null,
            "_view_module": "@jupyter-widgets/base",
            "_view_module_version": "1.2.0",
            "_view_name": "StyleView",
            "description_width": ""
          }
        }
      }
    }
  },
  "nbformat": 4,
  "nbformat_minor": 0
}